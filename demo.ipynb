{
  "cells": [
    {
      "cell_type": "code",
      "execution_count": null,
      "metadata": {
        "colab": {
          "base_uri": "https://localhost:8080/"
        },
        "id": "Hphjt-Jhv1fy",
        "outputId": "72ec19b5-524c-450d-d050-a881f3b4b8e6"
      },
      "outputs": [
        {
          "name": "stdout",
          "output_type": "stream",
          "text": [
            "Mounted at /content/drive\n"
          ]
        }
      ],
      "source": [
        "from google.colab import drive\n",
        "drive.mount('/content/drive')"
      ]
    },
    {
      "cell_type": "code",
      "execution_count": null,
      "metadata": {
        "colab": {
          "base_uri": "https://localhost:8080/"
        },
        "id": "-S2D0ecDZehu",
        "outputId": "d866adb0-42d9-4eb9-f0a1-51d44092f990"
      },
      "outputs": [
        {
          "name": "stdout",
          "output_type": "stream",
          "text": [
            "['results', ' IMG_1026.MOV', ' IMG_1011.MOV', ' IMG_1025.MOV', ' IMG_1027.MOV', ' IMG_1024.MOV', ' IMG_1023.MOV', ' IMG_1019.MOV', ' IMG_1020.MOV', ' IMG_1022.MOV', ' IMG_4292.mov', ' IMG_6790.MOV', ' IMG_6791.MOV', ' IMG_3259.MOV', ' IMG_4283.mov', 'hand_landmarker.task', 'yolov8x-seg.pt', 'output']\n"
          ]
        }
      ],
      "source": [
        "import os\n",
        "\n",
        "directory = '/content/drive/MyDrive/AI surgical training'\n",
        "files = os.listdir(directory)\n",
        "print(files)"
      ]
    },
    {
      "cell_type": "code",
      "execution_count": null,
      "metadata": {
        "colab": {
          "base_uri": "https://localhost:8080/"
        },
        "id": "9B5jVgO9cy90",
        "outputId": "a757e321-7d6a-4af3-9629-0a77f958049d"
      },
      "outputs": [
        {
          "name": "stdout",
          "output_type": "stream",
          "text": [
            "Requirement already satisfied: opencv-python-headless in /usr/local/lib/python3.10/dist-packages (4.10.0.84)\n",
            "Collecting mediapipe\n",
            "  Downloading mediapipe-0.10.14-cp310-cp310-manylinux_2_17_x86_64.manylinux2014_x86_64.whl.metadata (9.7 kB)\n",
            "Collecting ultralytics\n",
            "  Downloading ultralytics-8.2.80-py3-none-any.whl.metadata (41 kB)\n",
            "\u001b[2K     \u001b[90m━━━━━━━━━━━━━━━━━━━━━━━━━━━━━━━━━━━━━━━━\u001b[0m \u001b[32m41.3/41.3 kB\u001b[0m \u001b[31m1.7 MB/s\u001b[0m eta \u001b[36m0:00:00\u001b[0m\n",
            "\u001b[?25hRequirement already satisfied: numpy>=1.21.2 in /usr/local/lib/python3.10/dist-packages (from opencv-python-headless) (1.26.4)\n",
            "Requirement already satisfied: absl-py in /usr/local/lib/python3.10/dist-packages (from mediapipe) (1.4.0)\n",
            "Requirement already satisfied: attrs>=19.1.0 in /usr/local/lib/python3.10/dist-packages (from mediapipe) (24.2.0)\n",
            "Requirement already satisfied: flatbuffers>=2.0 in /usr/local/lib/python3.10/dist-packages (from mediapipe) (24.3.25)\n",
            "Requirement already satisfied: jax in /usr/local/lib/python3.10/dist-packages (from mediapipe) (0.4.26)\n",
            "Requirement already satisfied: jaxlib in /usr/local/lib/python3.10/dist-packages (from mediapipe) (0.4.26+cuda12.cudnn89)\n",
            "Requirement already satisfied: matplotlib in /usr/local/lib/python3.10/dist-packages (from mediapipe) (3.7.1)\n",
            "Requirement already satisfied: opencv-contrib-python in /usr/local/lib/python3.10/dist-packages (from mediapipe) (4.10.0.84)\n",
            "Collecting protobuf<5,>=4.25.3 (from mediapipe)\n",
            "  Downloading protobuf-4.25.4-cp37-abi3-manylinux2014_x86_64.whl.metadata (541 bytes)\n",
            "Collecting sounddevice>=0.4.4 (from mediapipe)\n",
            "  Downloading sounddevice-0.5.0-py3-none-any.whl.metadata (1.4 kB)\n",
            "Requirement already satisfied: opencv-python>=4.6.0 in /usr/local/lib/python3.10/dist-packages (from ultralytics) (4.10.0.84)\n",
            "Requirement already satisfied: pillow>=7.1.2 in /usr/local/lib/python3.10/dist-packages (from ultralytics) (9.4.0)\n",
            "Requirement already satisfied: pyyaml>=5.3.1 in /usr/local/lib/python3.10/dist-packages (from ultralytics) (6.0.2)\n",
            "Requirement already satisfied: requests>=2.23.0 in /usr/local/lib/python3.10/dist-packages (from ultralytics) (2.32.3)\n",
            "Requirement already satisfied: scipy>=1.4.1 in /usr/local/lib/python3.10/dist-packages (from ultralytics) (1.13.1)\n",
            "Requirement already satisfied: torch>=1.8.0 in /usr/local/lib/python3.10/dist-packages (from ultralytics) (2.3.1+cu121)\n",
            "Requirement already satisfied: torchvision>=0.9.0 in /usr/local/lib/python3.10/dist-packages (from ultralytics) (0.18.1+cu121)\n",
            "Requirement already satisfied: tqdm>=4.64.0 in /usr/local/lib/python3.10/dist-packages (from ultralytics) (4.66.5)\n",
            "Requirement already satisfied: psutil in /usr/local/lib/python3.10/dist-packages (from ultralytics) (5.9.5)\n",
            "Requirement already satisfied: py-cpuinfo in /usr/local/lib/python3.10/dist-packages (from ultralytics) (9.0.0)\n",
            "Requirement already satisfied: pandas>=1.1.4 in /usr/local/lib/python3.10/dist-packages (from ultralytics) (2.1.4)\n",
            "Requirement already satisfied: seaborn>=0.11.0 in /usr/local/lib/python3.10/dist-packages (from ultralytics) (0.13.1)\n",
            "Collecting ultralytics-thop>=2.0.0 (from ultralytics)\n",
            "  Downloading ultralytics_thop-2.0.5-py3-none-any.whl.metadata (8.9 kB)\n",
            "Requirement already satisfied: contourpy>=1.0.1 in /usr/local/lib/python3.10/dist-packages (from matplotlib->mediapipe) (1.2.1)\n",
            "Requirement already satisfied: cycler>=0.10 in /usr/local/lib/python3.10/dist-packages (from matplotlib->mediapipe) (0.12.1)\n",
            "Requirement already satisfied: fonttools>=4.22.0 in /usr/local/lib/python3.10/dist-packages (from matplotlib->mediapipe) (4.53.1)\n",
            "Requirement already satisfied: kiwisolver>=1.0.1 in /usr/local/lib/python3.10/dist-packages (from matplotlib->mediapipe) (1.4.5)\n",
            "Requirement already satisfied: packaging>=20.0 in /usr/local/lib/python3.10/dist-packages (from matplotlib->mediapipe) (24.1)\n",
            "Requirement already satisfied: pyparsing>=2.3.1 in /usr/local/lib/python3.10/dist-packages (from matplotlib->mediapipe) (3.1.2)\n",
            "Requirement already satisfied: python-dateutil>=2.7 in /usr/local/lib/python3.10/dist-packages (from matplotlib->mediapipe) (2.8.2)\n",
            "Requirement already satisfied: pytz>=2020.1 in /usr/local/lib/python3.10/dist-packages (from pandas>=1.1.4->ultralytics) (2024.1)\n",
            "Requirement already satisfied: tzdata>=2022.1 in /usr/local/lib/python3.10/dist-packages (from pandas>=1.1.4->ultralytics) (2024.1)\n",
            "Requirement already satisfied: charset-normalizer<4,>=2 in /usr/local/lib/python3.10/dist-packages (from requests>=2.23.0->ultralytics) (3.3.2)\n",
            "Requirement already satisfied: idna<4,>=2.5 in /usr/local/lib/python3.10/dist-packages (from requests>=2.23.0->ultralytics) (3.7)\n",
            "Requirement already satisfied: urllib3<3,>=1.21.1 in /usr/local/lib/python3.10/dist-packages (from requests>=2.23.0->ultralytics) (2.0.7)\n",
            "Requirement already satisfied: certifi>=2017.4.17 in /usr/local/lib/python3.10/dist-packages (from requests>=2.23.0->ultralytics) (2024.7.4)\n",
            "Requirement already satisfied: CFFI>=1.0 in /usr/local/lib/python3.10/dist-packages (from sounddevice>=0.4.4->mediapipe) (1.17.0)\n",
            "Requirement already satisfied: filelock in /usr/local/lib/python3.10/dist-packages (from torch>=1.8.0->ultralytics) (3.15.4)\n",
            "Requirement already satisfied: typing-extensions>=4.8.0 in /usr/local/lib/python3.10/dist-packages (from torch>=1.8.0->ultralytics) (4.12.2)\n",
            "Requirement already satisfied: sympy in /usr/local/lib/python3.10/dist-packages (from torch>=1.8.0->ultralytics) (1.13.2)\n",
            "Requirement already satisfied: networkx in /usr/local/lib/python3.10/dist-packages (from torch>=1.8.0->ultralytics) (3.3)\n",
            "Requirement already satisfied: jinja2 in /usr/local/lib/python3.10/dist-packages (from torch>=1.8.0->ultralytics) (3.1.4)\n",
            "Requirement already satisfied: fsspec in /usr/local/lib/python3.10/dist-packages (from torch>=1.8.0->ultralytics) (2024.6.1)\n",
            "Collecting nvidia-cuda-nvrtc-cu12==12.1.105 (from torch>=1.8.0->ultralytics)\n",
            "  Using cached nvidia_cuda_nvrtc_cu12-12.1.105-py3-none-manylinux1_x86_64.whl.metadata (1.5 kB)\n",
            "Collecting nvidia-cuda-runtime-cu12==12.1.105 (from torch>=1.8.0->ultralytics)\n",
            "  Using cached nvidia_cuda_runtime_cu12-12.1.105-py3-none-manylinux1_x86_64.whl.metadata (1.5 kB)\n",
            "Collecting nvidia-cuda-cupti-cu12==12.1.105 (from torch>=1.8.0->ultralytics)\n",
            "  Using cached nvidia_cuda_cupti_cu12-12.1.105-py3-none-manylinux1_x86_64.whl.metadata (1.6 kB)\n",
            "Collecting nvidia-cudnn-cu12==8.9.2.26 (from torch>=1.8.0->ultralytics)\n",
            "  Using cached nvidia_cudnn_cu12-8.9.2.26-py3-none-manylinux1_x86_64.whl.metadata (1.6 kB)\n",
            "Collecting nvidia-cublas-cu12==12.1.3.1 (from torch>=1.8.0->ultralytics)\n",
            "  Using cached nvidia_cublas_cu12-12.1.3.1-py3-none-manylinux1_x86_64.whl.metadata (1.5 kB)\n",
            "Collecting nvidia-cufft-cu12==11.0.2.54 (from torch>=1.8.0->ultralytics)\n",
            "  Using cached nvidia_cufft_cu12-11.0.2.54-py3-none-manylinux1_x86_64.whl.metadata (1.5 kB)\n",
            "Collecting nvidia-curand-cu12==10.3.2.106 (from torch>=1.8.0->ultralytics)\n",
            "  Using cached nvidia_curand_cu12-10.3.2.106-py3-none-manylinux1_x86_64.whl.metadata (1.5 kB)\n",
            "Collecting nvidia-cusolver-cu12==11.4.5.107 (from torch>=1.8.0->ultralytics)\n",
            "  Using cached nvidia_cusolver_cu12-11.4.5.107-py3-none-manylinux1_x86_64.whl.metadata (1.6 kB)\n",
            "Collecting nvidia-cusparse-cu12==12.1.0.106 (from torch>=1.8.0->ultralytics)\n",
            "  Using cached nvidia_cusparse_cu12-12.1.0.106-py3-none-manylinux1_x86_64.whl.metadata (1.6 kB)\n",
            "Collecting nvidia-nccl-cu12==2.20.5 (from torch>=1.8.0->ultralytics)\n",
            "  Using cached nvidia_nccl_cu12-2.20.5-py3-none-manylinux2014_x86_64.whl.metadata (1.8 kB)\n",
            "Collecting nvidia-nvtx-cu12==12.1.105 (from torch>=1.8.0->ultralytics)\n",
            "  Using cached nvidia_nvtx_cu12-12.1.105-py3-none-manylinux1_x86_64.whl.metadata (1.7 kB)\n",
            "Requirement already satisfied: triton==2.3.1 in /usr/local/lib/python3.10/dist-packages (from torch>=1.8.0->ultralytics) (2.3.1)\n",
            "Collecting nvidia-nvjitlink-cu12 (from nvidia-cusolver-cu12==11.4.5.107->torch>=1.8.0->ultralytics)\n",
            "  Using cached nvidia_nvjitlink_cu12-12.6.20-py3-none-manylinux2014_x86_64.whl.metadata (1.5 kB)\n",
            "Requirement already satisfied: ml-dtypes>=0.2.0 in /usr/local/lib/python3.10/dist-packages (from jax->mediapipe) (0.4.0)\n",
            "Requirement already satisfied: opt-einsum in /usr/local/lib/python3.10/dist-packages (from jax->mediapipe) (3.3.0)\n",
            "Requirement already satisfied: pycparser in /usr/local/lib/python3.10/dist-packages (from CFFI>=1.0->sounddevice>=0.4.4->mediapipe) (2.22)\n",
            "Requirement already satisfied: six>=1.5 in /usr/local/lib/python3.10/dist-packages (from python-dateutil>=2.7->matplotlib->mediapipe) (1.16.0)\n",
            "Requirement already satisfied: MarkupSafe>=2.0 in /usr/local/lib/python3.10/dist-packages (from jinja2->torch>=1.8.0->ultralytics) (2.1.5)\n",
            "Requirement already satisfied: mpmath<1.4,>=1.1.0 in /usr/local/lib/python3.10/dist-packages (from sympy->torch>=1.8.0->ultralytics) (1.3.0)\n",
            "Downloading mediapipe-0.10.14-cp310-cp310-manylinux_2_17_x86_64.manylinux2014_x86_64.whl (35.7 MB)\n",
            "\u001b[2K   \u001b[90m━━━━━━━━━━━━━━━━━━━━━━━━━━━━━━━━━━━━━━━━\u001b[0m \u001b[32m35.7/35.7 MB\u001b[0m \u001b[31m30.4 MB/s\u001b[0m eta \u001b[36m0:00:00\u001b[0m\n",
            "\u001b[?25hDownloading ultralytics-8.2.80-py3-none-any.whl (869 kB)\n",
            "\u001b[2K   \u001b[90m━━━━━━━━━━━━━━━━━━━━━━━━━━━━━━━━━━━━━━━━\u001b[0m \u001b[32m869.1/869.1 kB\u001b[0m \u001b[31m32.5 MB/s\u001b[0m eta \u001b[36m0:00:00\u001b[0m\n",
            "\u001b[?25hDownloading protobuf-4.25.4-cp37-abi3-manylinux2014_x86_64.whl (294 kB)\n",
            "\u001b[2K   \u001b[90m━━━━━━━━━━━━━━━━━━━━━━━━━━━━━━━━━━━━━━━━\u001b[0m \u001b[32m294.6/294.6 kB\u001b[0m \u001b[31m14.3 MB/s\u001b[0m eta \u001b[36m0:00:00\u001b[0m\n",
            "\u001b[?25hDownloading sounddevice-0.5.0-py3-none-any.whl (32 kB)\n",
            "Using cached nvidia_cublas_cu12-12.1.3.1-py3-none-manylinux1_x86_64.whl (410.6 MB)\n",
            "Using cached nvidia_cuda_cupti_cu12-12.1.105-py3-none-manylinux1_x86_64.whl (14.1 MB)\n",
            "Using cached nvidia_cuda_nvrtc_cu12-12.1.105-py3-none-manylinux1_x86_64.whl (23.7 MB)\n",
            "Using cached nvidia_cuda_runtime_cu12-12.1.105-py3-none-manylinux1_x86_64.whl (823 kB)\n",
            "Using cached nvidia_cudnn_cu12-8.9.2.26-py3-none-manylinux1_x86_64.whl (731.7 MB)\n",
            "Using cached nvidia_cufft_cu12-11.0.2.54-py3-none-manylinux1_x86_64.whl (121.6 MB)\n",
            "Using cached nvidia_curand_cu12-10.3.2.106-py3-none-manylinux1_x86_64.whl (56.5 MB)\n",
            "Using cached nvidia_cusolver_cu12-11.4.5.107-py3-none-manylinux1_x86_64.whl (124.2 MB)\n",
            "Using cached nvidia_cusparse_cu12-12.1.0.106-py3-none-manylinux1_x86_64.whl (196.0 MB)\n",
            "Using cached nvidia_nccl_cu12-2.20.5-py3-none-manylinux2014_x86_64.whl (176.2 MB)\n",
            "Using cached nvidia_nvtx_cu12-12.1.105-py3-none-manylinux1_x86_64.whl (99 kB)\n",
            "Downloading ultralytics_thop-2.0.5-py3-none-any.whl (25 kB)\n",
            "Using cached nvidia_nvjitlink_cu12-12.6.20-py3-none-manylinux2014_x86_64.whl (19.7 MB)\n",
            "Installing collected packages: protobuf, nvidia-nvtx-cu12, nvidia-nvjitlink-cu12, nvidia-nccl-cu12, nvidia-curand-cu12, nvidia-cufft-cu12, nvidia-cuda-runtime-cu12, nvidia-cuda-nvrtc-cu12, nvidia-cuda-cupti-cu12, nvidia-cublas-cu12, sounddevice, nvidia-cusparse-cu12, nvidia-cudnn-cu12, nvidia-cusolver-cu12, mediapipe, ultralytics-thop, ultralytics\n",
            "  Attempting uninstall: protobuf\n",
            "    Found existing installation: protobuf 3.20.3\n",
            "    Uninstalling protobuf-3.20.3:\n",
            "      Successfully uninstalled protobuf-3.20.3\n",
            "\u001b[31mERROR: pip's dependency resolver does not currently take into account all the packages that are installed. This behaviour is the source of the following dependency conflicts.\n",
            "tensorflow-metadata 1.15.0 requires protobuf<4.21,>=3.20.3; python_version < \"3.11\", but you have protobuf 4.25.4 which is incompatible.\u001b[0m\u001b[31m\n",
            "\u001b[0mSuccessfully installed mediapipe-0.10.14 nvidia-cublas-cu12-12.1.3.1 nvidia-cuda-cupti-cu12-12.1.105 nvidia-cuda-nvrtc-cu12-12.1.105 nvidia-cuda-runtime-cu12-12.1.105 nvidia-cudnn-cu12-8.9.2.26 nvidia-cufft-cu12-11.0.2.54 nvidia-curand-cu12-10.3.2.106 nvidia-cusolver-cu12-11.4.5.107 nvidia-cusparse-cu12-12.1.0.106 nvidia-nccl-cu12-2.20.5 nvidia-nvjitlink-cu12-12.6.20 nvidia-nvtx-cu12-12.1.105 protobuf-4.25.4 sounddevice-0.5.0 ultralytics-8.2.80 ultralytics-thop-2.0.5\n"
          ]
        }
      ],
      "source": [
        "%pip install opencv-python-headless mediapipe ultralytics"
      ]
    },
    {
      "cell_type": "code",
      "execution_count": null,
      "metadata": {
        "id": "MtXjvzT3dBdl"
      },
      "outputs": [],
      "source": [
        "import os\n",
        "import cv2\n",
        "import numpy as np\n",
        "import matplotlib.pyplot as plt\n",
        "import mediapipe as mp\n",
        "from mediapipe.tasks import python\n",
        "from mediapipe.tasks.python import vision\n",
        "from mediapipe.framework.formats import landmark_pb2\n",
        "\n",
        "# Import the necessary base options\n",
        "BaseOptions = mp.tasks.BaseOptions\n",
        "HandLandmarker = mp.tasks.vision.HandLandmarker\n",
        "HandLandmarkerOptions = mp.tasks.vision.HandLandmarkerOptions\n",
        "VisionRunningMode = mp.tasks.vision.RunningMode\n",
        "\n",
        "class DrawingOptions:\n",
        "    def __init__(self, margin=10, font_size=1, font_thickness=1, handedness_text_color=(88, 205, 54)):\n",
        "        self.MARGIN = margin\n",
        "        self.FONT_SIZE = font_size\n",
        "        self.FONT_THICKNESS = font_thickness\n",
        "        self.HANDEDNESS_TEXT_COLOR = handedness_text_color\n",
        "\n",
        "class HandDetector:\n",
        "    def __init__(self, model_path=\"hand_landmarker.task\", running_mode=VisionRunningMode.VIDEO, num_hands=2, min_hand_presence_confidence=0.1, drawing_options: DrawingOptions = DrawingOptions()):\n",
        "        self.model_path = model_path\n",
        "        self.running_mode = running_mode\n",
        "        self.num_hands = num_hands\n",
        "        self.min_hand_presence_confidence = min_hand_presence_confidence\n",
        "        self.drawing_options = drawing_options\n",
        "        self.landmarker = self.create_landmarker()\n",
        "\n",
        "    def create_landmarker(self):\n",
        "        options = HandLandmarkerOptions(\n",
        "            base_options=BaseOptions(model_asset_path=self.model_path),\n",
        "            running_mode=self.running_mode,\n",
        "            num_hands=self.num_hands,\n",
        "            min_hand_presence_confidence=self.min_hand_presence_confidence\n",
        "        )\n",
        "        return HandLandmarker.create_from_options(options)\n",
        "\n",
        "    def draw_result_on_image(self, rgb_image, detection_result):\n",
        "        hand_landmarks_list = detection_result.hand_landmarks\n",
        "        handedness_list = detection_result.handedness\n",
        "        annotated_image = np.copy(rgb_image)\n",
        "\n",
        "        for idx in range(len(hand_landmarks_list)):\n",
        "            hand_landmarks = hand_landmarks_list[idx]\n",
        "            handedness = handedness_list[idx]\n",
        "\n",
        "            hand_landmarks_proto = landmark_pb2.NormalizedLandmarkList()\n",
        "            hand_landmarks_proto.landmark.extend(\n",
        "                [landmark_pb2.NormalizedLandmark(x=landmark.x, y=landmark.y, z=landmark.z) for landmark in hand_landmarks]\n",
        "            )\n",
        "            mp.solutions.drawing_utils.draw_landmarks(\n",
        "                annotated_image,\n",
        "                hand_landmarks_proto,\n",
        "                mp.solutions.hands.HAND_CONNECTIONS,\n",
        "                mp.solutions.drawing_styles.get_default_hand_landmarks_style(),\n",
        "                mp.solutions.drawing_styles.get_default_hand_connections_style(),\n",
        "            )\n",
        "\n",
        "            height, width, _ = annotated_image.shape\n",
        "            x_coordinates = [landmark.x for landmark in hand_landmarks]\n",
        "            y_coordinates = [landmark.y for landmark in hand_landmarks]\n",
        "            text_x = int(min(x_coordinates) * width)\n",
        "            text_y = int(min(y_coordinates) * height) - self.drawing_options.MARGIN\n",
        "\n",
        "            cv2.putText(\n",
        "                annotated_image,\n",
        "                f\"{handedness[0].category_name}\",\n",
        "                (text_x, text_y),\n",
        "                cv2.FONT_HERSHEY_DUPLEX,\n",
        "                self.drawing_options.FONT_SIZE,\n",
        "                self.drawing_options.HANDEDNESS_TEXT_COLOR,\n",
        "                self.drawing_options.FONT_THICKNESS,\n",
        "                cv2.LINE_AA,\n",
        "            )\n",
        "\n",
        "        return annotated_image\n",
        "\n",
        "\n",
        "class NeedleDriverDetector:\n",
        "    def __init__(self, model_path=\"yolov8x-seg.pt\", confidence=0.85):\n",
        "        self._model = YOLO(model_path)\n",
        "        self._class_names = self._model.names\n",
        "        self._conf = confidence\n",
        "        self._model.fuse()\n",
        "\n",
        "    def predict_on_image(self, rgb_image):\n",
        "        result = self._model(rgb_image, conf=self._conf)[0]\n",
        "\n",
        "        cls = result.boxes.cls.cpu().numpy()\n",
        "        probs = result.boxes.conf.cpu().numpy()\n",
        "        boxes = result.boxes.xyxy.cpu().numpy()\n",
        "\n",
        "        if result.masks is not None:\n",
        "            masks = result.masks.data.cpu().numpy()\n",
        "            masks = np.moveaxis(masks, 0, -1)\n",
        "            masks = scale_image(masks, result.masks.orig_shape)\n",
        "            masks = np.moveaxis(masks, -1, 0)\n",
        "        else:\n",
        "            masks = None\n",
        "\n",
        "        class_name = \"scissors\"\n",
        "        cls_index = [index for index, name in self._class_names.items() if name == class_name][0]\n",
        "        cls_filter_index = np.argwhere(cls == cls_index).flatten()\n",
        "        boxes = boxes[cls_filter_index]\n",
        "        if masks is not None:\n",
        "            masks = masks[cls_filter_index]\n",
        "        cls = cls[cls_filter_index]\n",
        "        probs = probs[cls_filter_index]\n",
        "\n",
        "        return boxes, masks, cls, probs\n",
        "\n",
        "    def draw_result_on_image(self, rgb_image, masks, color, alpha):\n",
        "        if masks is not None:\n",
        "            for mask in masks:\n",
        "                colored_mask = np.zeros_like(rgb_image, dtype=np.uint8)\n",
        "                colored_mask[mask > 0.5] = color\n",
        "                rgb_image = cv2.addWeighted(rgb_image, 1 - alpha, colored_mask, alpha, 0)\n",
        "        return rgb_image"
      ]
    },
    {
      "cell_type": "code",
      "execution_count": null,
      "metadata": {
        "colab": {
          "base_uri": "https://localhost:8080/"
        },
        "id": "hF35LMChf50x",
        "outputId": "97f1edc1-0f30-4830-d102-d258f21b0e75"
      },
      "outputs": [
        {
          "name": "stdout",
          "output_type": "stream",
          "text": [
            "Skipping  IMG_1026.MOV as it has already been processed.\n",
            "Skipping  IMG_1011.MOV as it has already been processed.\n",
            "Skipping  IMG_1025.MOV as it has already been processed.\n",
            "Skipping  IMG_1027.MOV as it has already been processed.\n",
            "Skipping  IMG_1024.MOV as it has already been processed.\n",
            "Skipping  IMG_1023.MOV as it has already been processed.\n",
            "Skipping  IMG_1019.MOV as it has already been processed.\n",
            "Skipping  IMG_1020.MOV as it has already been processed.\n",
            "Skipping  IMG_1022.MOV as it has already been processed.\n",
            "Skipping  IMG_4292.mov as it has already been processed.\n",
            "Processing video:  IMG_6790.MOV\n",
            "YOLOv8x-seg summary (fused): 295 layers, 71,797,696 parameters, 0 gradients, 344.1 GFLOPs\n"
          ]
        },
        {
          "name": "stderr",
          "output_type": "stream",
          "text": [
            "\rProcessing  IMG_6790.MOV:   0%|          | 0/14172 [00:00<?, ?it/s]"
          ]
        },
        {
          "name": "stdout",
          "output_type": "stream",
          "text": [
            "\n",
            "0: 384x640 1 person, 3278.5ms\n",
            "Speed: 14.0ms preprocess, 3278.5ms inference, 38.3ms postprocess per image at shape (1, 3, 384, 640)\n"
          ]
        },
        {
          "name": "stderr",
          "output_type": "stream",
          "text": [
            "\rProcessing  IMG_6790.MOV:   0%|          | 1/14172 [00:06<25:32:06,  6.49s/it]"
          ]
        },
        {
          "name": "stdout",
          "output_type": "stream",
          "text": [
            "\n",
            "0: 384x640 (no detections), 4031.7ms\n",
            "Speed: 4.2ms preprocess, 4031.7ms inference, 0.8ms postprocess per image at shape (1, 3, 384, 640)\n"
          ]
        },
        {
          "name": "stderr",
          "output_type": "stream",
          "text": [
            "\rProcessing  IMG_6790.MOV:   0%|          | 2/14172 [00:10<20:01:31,  5.09s/it]"
          ]
        },
        {
          "name": "stdout",
          "output_type": "stream",
          "text": [
            "\n",
            "0: 384x640 (no detections), 3939.9ms\n",
            "Speed: 3.7ms preprocess, 3939.9ms inference, 0.6ms postprocess per image at shape (1, 3, 384, 640)\n"
          ]
        },
        {
          "name": "stderr",
          "output_type": "stream",
          "text": [
            "\rProcessing  IMG_6790.MOV:   0%|          | 3/14172 [00:14<18:10:39,  4.62s/it]"
          ]
        },
        {
          "name": "stdout",
          "output_type": "stream",
          "text": [
            "\n",
            "0: 384x640 1 person, 3050.2ms\n",
            "Speed: 4.8ms preprocess, 3050.2ms inference, 3.9ms postprocess per image at shape (1, 3, 384, 640)\n"
          ]
        },
        {
          "name": "stderr",
          "output_type": "stream",
          "text": [
            "\rProcessing  IMG_6790.MOV:   0%|          | 4/14172 [00:17<15:51:44,  4.03s/it]"
          ]
        },
        {
          "name": "stdout",
          "output_type": "stream",
          "text": [
            "\n",
            "0: 384x640 1 person, 3056.1ms\n",
            "Speed: 4.7ms preprocess, 3056.1ms inference, 5.3ms postprocess per image at shape (1, 3, 384, 640)\n"
          ]
        },
        {
          "name": "stderr",
          "output_type": "stream",
          "text": [
            "\rProcessing  IMG_6790.MOV:   0%|          | 5/14172 [00:20<14:35:38,  3.71s/it]"
          ]
        },
        {
          "name": "stdout",
          "output_type": "stream",
          "text": [
            "\n",
            "0: 384x640 1 person, 3702.0ms\n",
            "Speed: 5.2ms preprocess, 3702.0ms inference, 5.4ms postprocess per image at shape (1, 3, 384, 640)\n"
          ]
        },
        {
          "name": "stderr",
          "output_type": "stream",
          "text": [
            "\rProcessing  IMG_6790.MOV:   0%|          | 6/14172 [00:24<14:41:37,  3.73s/it]"
          ]
        },
        {
          "name": "stdout",
          "output_type": "stream",
          "text": [
            "\n",
            "0: 384x640 (no detections), 4246.6ms\n",
            "Speed: 7.0ms preprocess, 4246.6ms inference, 0.6ms postprocess per image at shape (1, 3, 384, 640)\n"
          ]
        },
        {
          "name": "stderr",
          "output_type": "stream",
          "text": [
            "\rProcessing  IMG_6790.MOV:   0%|          | 7/14172 [00:29<15:30:43,  3.94s/it]"
          ]
        },
        {
          "name": "stdout",
          "output_type": "stream",
          "text": [
            "\n",
            "0: 384x640 (no detections), 3023.7ms\n",
            "Speed: 5.0ms preprocess, 3023.7ms inference, 0.6ms postprocess per image at shape (1, 3, 384, 640)\n"
          ]
        },
        {
          "name": "stderr",
          "output_type": "stream",
          "text": [
            "\rProcessing  IMG_6790.MOV:   0%|          | 8/14172 [00:32<14:27:11,  3.67s/it]"
          ]
        },
        {
          "name": "stdout",
          "output_type": "stream",
          "text": [
            "\n",
            "0: 384x640 (no detections), 3080.7ms\n",
            "Speed: 5.0ms preprocess, 3080.7ms inference, 0.6ms postprocess per image at shape (1, 3, 384, 640)\n"
          ]
        },
        {
          "name": "stderr",
          "output_type": "stream",
          "text": [
            "\rProcessing  IMG_6790.MOV:   0%|          | 9/14172 [00:35<13:49:07,  3.51s/it]"
          ]
        },
        {
          "name": "stdout",
          "output_type": "stream",
          "text": [
            "\n",
            "0: 384x640 (no detections), 3467.9ms\n",
            "Speed: 3.7ms preprocess, 3467.9ms inference, 0.8ms postprocess per image at shape (1, 3, 384, 640)\n"
          ]
        },
        {
          "name": "stderr",
          "output_type": "stream",
          "text": [
            "\rProcessing  IMG_6790.MOV:   0%|          | 10/14172 [00:38<13:51:36,  3.52s/it]"
          ]
        },
        {
          "name": "stdout",
          "output_type": "stream",
          "text": [
            "\n",
            "0: 384x640 1 chair, 4579.0ms\n",
            "Speed: 4.0ms preprocess, 4579.0ms inference, 3.6ms postprocess per image at shape (1, 3, 384, 640)\n"
          ]
        },
        {
          "name": "stderr",
          "output_type": "stream",
          "text": [
            "\rProcessing  IMG_6790.MOV:   0%|          | 11/14172 [00:43<15:16:08,  3.88s/it]"
          ]
        },
        {
          "name": "stdout",
          "output_type": "stream",
          "text": [
            "\n"
          ]
        },
        {
          "name": "stderr",
          "output_type": "stream",
          "text": [
            "/usr/local/lib/python3.10/dist-packages/google/protobuf/symbol_database.py:55: UserWarning: SymbolDatabase.GetPrototype() is deprecated. Please use message_factory.GetMessageClass() instead. SymbolDatabase.GetPrototype() will be removed soon.\n",
            "  warnings.warn('SymbolDatabase.GetPrototype() is deprecated. Please '\n"
          ]
        },
        {
          "name": "stdout",
          "output_type": "stream",
          "text": [
            "0: 384x640 2 chairs, 3078.2ms\n",
            "Speed: 4.7ms preprocess, 3078.2ms inference, 6.1ms postprocess per image at shape (1, 3, 384, 640)\n"
          ]
        },
        {
          "name": "stderr",
          "output_type": "stream",
          "text": [
            "\rProcessing  IMG_6790.MOV:   0%|          | 12/14172 [00:46<14:28:32,  3.68s/it]"
          ]
        },
        {
          "name": "stdout",
          "output_type": "stream",
          "text": [
            "\n",
            "0: 384x640 2 chairs, 3063.7ms\n",
            "Speed: 4.7ms preprocess, 3063.7ms inference, 8.7ms postprocess per image at shape (1, 3, 384, 640)\n"
          ]
        },
        {
          "name": "stderr",
          "output_type": "stream",
          "text": [
            "\rProcessing  IMG_6790.MOV:   0%|          | 13/14172 [00:49<13:52:23,  3.53s/it]"
          ]
        },
        {
          "name": "stdout",
          "output_type": "stream",
          "text": [
            "\n",
            "0: 384x640 1 person, 2 chairs, 3267.4ms\n",
            "Speed: 4.8ms preprocess, 3267.4ms inference, 17.0ms postprocess per image at shape (1, 3, 384, 640)\n"
          ]
        },
        {
          "name": "stderr",
          "output_type": "stream",
          "text": [
            "\rProcessing  IMG_6790.MOV:   0%|          | 14/14172 [00:53<13:43:17,  3.49s/it]"
          ]
        },
        {
          "name": "stdout",
          "output_type": "stream",
          "text": [
            "\n",
            "0: 384x640 2 chairs, 4642.7ms\n",
            "Speed: 6.2ms preprocess, 4642.7ms inference, 9.1ms postprocess per image at shape (1, 3, 384, 640)\n"
          ]
        },
        {
          "name": "stderr",
          "output_type": "stream",
          "text": [
            "\rProcessing  IMG_6790.MOV:   0%|          | 15/14172 [00:58<15:14:20,  3.88s/it]"
          ]
        },
        {
          "name": "stdout",
          "output_type": "stream",
          "text": [
            "\n",
            "0: 384x640 1 person, 1 chair, 3068.6ms\n",
            "Speed: 4.6ms preprocess, 3068.6ms inference, 5.7ms postprocess per image at shape (1, 3, 384, 640)\n"
          ]
        },
        {
          "name": "stderr",
          "output_type": "stream",
          "text": [
            "\rProcessing  IMG_6790.MOV:   0%|          | 16/14172 [01:01<14:24:40,  3.66s/it]"
          ]
        },
        {
          "name": "stdout",
          "output_type": "stream",
          "text": [
            "\n",
            "0: 384x640 1 person, 1 chair, 3096.6ms\n",
            "Speed: 5.1ms preprocess, 3096.6ms inference, 5.8ms postprocess per image at shape (1, 3, 384, 640)\n"
          ]
        },
        {
          "name": "stderr",
          "output_type": "stream",
          "text": [
            "\rProcessing  IMG_6790.MOV:   0%|          | 17/14172 [01:04<13:53:30,  3.53s/it]"
          ]
        },
        {
          "name": "stdout",
          "output_type": "stream",
          "text": [
            "\n",
            "0: 384x640 1 person, 1 chair, 3129.6ms\n",
            "Speed: 5.4ms preprocess, 3129.6ms inference, 8.9ms postprocess per image at shape (1, 3, 384, 640)\n"
          ]
        },
        {
          "name": "stderr",
          "output_type": "stream",
          "text": [
            "\rProcessing  IMG_6790.MOV:   0%|          | 18/14172 [01:07<13:33:23,  3.45s/it]"
          ]
        },
        {
          "name": "stdout",
          "output_type": "stream",
          "text": [
            "\n",
            "0: 384x640 1 person, 2 chairs, 4834.3ms\n",
            "Speed: 3.8ms preprocess, 4834.3ms inference, 11.4ms postprocess per image at shape (1, 3, 384, 640)\n"
          ]
        },
        {
          "name": "stderr",
          "output_type": "stream",
          "text": [
            "\rProcessing  IMG_6790.MOV:   0%|          | 19/14172 [01:12<15:22:22,  3.91s/it]"
          ]
        },
        {
          "name": "stdout",
          "output_type": "stream",
          "text": [
            "\n",
            "0: 384x640 1 person, 1 chair, 3064.1ms\n",
            "Speed: 4.8ms preprocess, 3064.1ms inference, 5.7ms postprocess per image at shape (1, 3, 384, 640)\n"
          ]
        },
        {
          "name": "stderr",
          "output_type": "stream",
          "text": [
            "\rProcessing  IMG_6790.MOV:   0%|          | 20/14172 [01:15<14:29:46,  3.69s/it]"
          ]
        },
        {
          "name": "stdout",
          "output_type": "stream",
          "text": [
            "\n",
            "0: 384x640 1 person, 2 chairs, 3065.3ms\n",
            "Speed: 5.6ms preprocess, 3065.3ms inference, 11.4ms postprocess per image at shape (1, 3, 384, 640)\n"
          ]
        },
        {
          "name": "stderr",
          "output_type": "stream",
          "text": [
            "\rProcessing  IMG_6790.MOV:   0%|          | 21/14172 [01:19<13:53:19,  3.53s/it]"
          ]
        },
        {
          "name": "stdout",
          "output_type": "stream",
          "text": [
            "\n",
            "0: 384x640 1 person, 1 chair, 3054.6ms\n",
            "Speed: 4.7ms preprocess, 3054.6ms inference, 6.1ms postprocess per image at shape (1, 3, 384, 640)\n"
          ]
        },
        {
          "name": "stderr",
          "output_type": "stream",
          "text": [
            "\rProcessing  IMG_6790.MOV:   0%|          | 22/14172 [01:22<13:26:40,  3.42s/it]"
          ]
        },
        {
          "name": "stdout",
          "output_type": "stream",
          "text": [
            "\n",
            "0: 384x640 1 person, 1 chair, 4945.0ms\n",
            "Speed: 4.7ms preprocess, 4945.0ms inference, 5.8ms postprocess per image at shape (1, 3, 384, 640)\n"
          ]
        },
        {
          "name": "stderr",
          "output_type": "stream",
          "text": [
            "\rProcessing  IMG_6790.MOV:   0%|          | 23/14172 [01:27<15:21:55,  3.91s/it]"
          ]
        },
        {
          "name": "stdout",
          "output_type": "stream",
          "text": [
            "\n",
            "0: 384x640 1 chair, 3657.5ms\n",
            "Speed: 3.7ms preprocess, 3657.5ms inference, 5.5ms postprocess per image at shape (1, 3, 384, 640)\n"
          ]
        },
        {
          "name": "stderr",
          "output_type": "stream",
          "text": [
            "\rProcessing  IMG_6790.MOV:   0%|          | 24/14172 [01:31<15:11:20,  3.86s/it]"
          ]
        },
        {
          "name": "stdout",
          "output_type": "stream",
          "text": [
            "\n",
            "0: 384x640 1 chair, 3415.0ms\n",
            "Speed: 4.7ms preprocess, 3415.0ms inference, 3.7ms postprocess per image at shape (1, 3, 384, 640)\n"
          ]
        },
        {
          "name": "stderr",
          "output_type": "stream",
          "text": [
            "\rProcessing  IMG_6790.MOV:   0%|          | 25/14172 [01:34<14:47:12,  3.76s/it]"
          ]
        },
        {
          "name": "stdout",
          "output_type": "stream",
          "text": [
            "\n",
            "0: 384x640 1 person, 1 chair, 3461.5ms\n",
            "Speed: 4.8ms preprocess, 3461.5ms inference, 8.9ms postprocess per image at shape (1, 3, 384, 640)\n"
          ]
        },
        {
          "name": "stderr",
          "output_type": "stream",
          "text": [
            "\rProcessing  IMG_6790.MOV:   0%|          | 26/14172 [01:38<14:33:44,  3.71s/it]"
          ]
        },
        {
          "name": "stdout",
          "output_type": "stream",
          "text": [
            "\n",
            "0: 384x640 1 person, 2 chairs, 4526.1ms\n",
            "Speed: 4.1ms preprocess, 4526.1ms inference, 11.8ms postprocess per image at shape (1, 3, 384, 640)\n"
          ]
        },
        {
          "name": "stderr",
          "output_type": "stream",
          "text": [
            "\rProcessing  IMG_6790.MOV:   0%|          | 27/14172 [01:42<15:43:48,  4.00s/it]"
          ]
        },
        {
          "name": "stdout",
          "output_type": "stream",
          "text": [
            "\n",
            "0: 384x640 2 chairs, 3088.1ms\n",
            "Speed: 5.5ms preprocess, 3088.1ms inference, 6.1ms postprocess per image at shape (1, 3, 384, 640)\n"
          ]
        },
        {
          "name": "stderr",
          "output_type": "stream",
          "text": [
            "\rProcessing  IMG_6790.MOV:   0%|          | 28/14172 [01:46<14:46:26,  3.76s/it]"
          ]
        },
        {
          "name": "stdout",
          "output_type": "stream",
          "text": [
            "\n",
            "0: 384x640 2 chairs, 3069.9ms\n",
            "Speed: 4.7ms preprocess, 3069.9ms inference, 6.0ms postprocess per image at shape (1, 3, 384, 640)\n"
          ]
        },
        {
          "name": "stderr",
          "output_type": "stream",
          "text": [
            "\rProcessing  IMG_6790.MOV:   0%|          | 29/14172 [01:49<14:04:45,  3.58s/it]"
          ]
        },
        {
          "name": "stdout",
          "output_type": "stream",
          "text": [
            "\n",
            "0: 384x640 1 person, 2 chairs, 3271.1ms\n",
            "Speed: 3.6ms preprocess, 3271.1ms inference, 16.4ms postprocess per image at shape (1, 3, 384, 640)\n"
          ]
        },
        {
          "name": "stderr",
          "output_type": "stream",
          "text": [
            "\rProcessing  IMG_6790.MOV:   0%|          | 30/14172 [01:52<13:50:57,  3.53s/it]"
          ]
        },
        {
          "name": "stdout",
          "output_type": "stream",
          "text": [
            "\n",
            "0: 384x640 2 chairs, 4691.8ms\n",
            "Speed: 6.8ms preprocess, 4691.8ms inference, 5.8ms postprocess per image at shape (1, 3, 384, 640)\n"
          ]
        },
        {
          "name": "stderr",
          "output_type": "stream",
          "text": [
            "\rProcessing  IMG_6790.MOV:   0%|          | 31/14172 [01:57<15:24:21,  3.92s/it]"
          ]
        },
        {
          "name": "stdout",
          "output_type": "stream",
          "text": [
            "\n",
            "0: 384x640 1 person, 1 chair, 3075.6ms\n",
            "Speed: 3.6ms preprocess, 3075.6ms inference, 6.2ms postprocess per image at shape (1, 3, 384, 640)\n"
          ]
        },
        {
          "name": "stderr",
          "output_type": "stream",
          "text": [
            "\rProcessing  IMG_6790.MOV:   0%|          | 32/14172 [02:00<14:32:18,  3.70s/it]"
          ]
        },
        {
          "name": "stdout",
          "output_type": "stream",
          "text": [
            "\n",
            "0: 384x640 1 person, 1 chair, 3103.5ms\n",
            "Speed: 5.1ms preprocess, 3103.5ms inference, 6.2ms postprocess per image at shape (1, 3, 384, 640)\n"
          ]
        },
        {
          "name": "stderr",
          "output_type": "stream",
          "text": [
            "\rProcessing  IMG_6790.MOV:   0%|          | 33/14172 [02:03<13:57:19,  3.55s/it]"
          ]
        },
        {
          "name": "stdout",
          "output_type": "stream",
          "text": [
            "\n",
            "0: 384x640 1 person, 1 chair, 3164.2ms\n",
            "Speed: 5.1ms preprocess, 3164.2ms inference, 9.1ms postprocess per image at shape (1, 3, 384, 640)\n"
          ]
        },
        {
          "name": "stderr",
          "output_type": "stream",
          "text": [
            "\rProcessing  IMG_6790.MOV:   0%|          | 34/14172 [02:07<13:37:28,  3.47s/it]"
          ]
        },
        {
          "name": "stdout",
          "output_type": "stream",
          "text": [
            "\n",
            "0: 384x640 1 person, 1 chair, 4836.7ms\n",
            "Speed: 4.2ms preprocess, 4836.7ms inference, 5.8ms postprocess per image at shape (1, 3, 384, 640)\n"
          ]
        },
        {
          "name": "stderr",
          "output_type": "stream",
          "text": [
            "\rProcessing  IMG_6790.MOV:   0%|          | 35/14172 [02:12<15:24:08,  3.92s/it]"
          ]
        },
        {
          "name": "stdout",
          "output_type": "stream",
          "text": [
            "\n",
            "0: 384x640 1 person, 1 chair, 3060.1ms\n",
            "Speed: 3.0ms preprocess, 3060.1ms inference, 5.7ms postprocess per image at shape (1, 3, 384, 640)\n"
          ]
        },
        {
          "name": "stderr",
          "output_type": "stream",
          "text": [
            "\rProcessing  IMG_6790.MOV:   0%|          | 36/14172 [02:15<14:31:00,  3.70s/it]"
          ]
        },
        {
          "name": "stdout",
          "output_type": "stream",
          "text": [
            "\n",
            "0: 384x640 1 person, 1 chair, 3064.4ms\n",
            "Speed: 4.0ms preprocess, 3064.4ms inference, 5.8ms postprocess per image at shape (1, 3, 384, 640)\n"
          ]
        },
        {
          "name": "stderr",
          "output_type": "stream",
          "text": [
            "\rProcessing  IMG_6790.MOV:   0%|          | 37/14172 [02:18<13:53:24,  3.54s/it]"
          ]
        },
        {
          "name": "stdout",
          "output_type": "stream",
          "text": [
            "\n",
            "0: 384x640 1 person, 1 chair, 3082.2ms\n",
            "Speed: 4.1ms preprocess, 3082.2ms inference, 6.3ms postprocess per image at shape (1, 3, 384, 640)\n"
          ]
        },
        {
          "name": "stderr",
          "output_type": "stream",
          "text": [
            "\rProcessing  IMG_6790.MOV:   0%|          | 38/14172 [02:21<13:28:30,  3.43s/it]"
          ]
        },
        {
          "name": "stdout",
          "output_type": "stream",
          "text": [
            "\n",
            "0: 384x640 1 person, 1 chair, 4850.4ms\n",
            "Speed: 5.0ms preprocess, 4850.4ms inference, 5.7ms postprocess per image at shape (1, 3, 384, 640)\n"
          ]
        },
        {
          "name": "stderr",
          "output_type": "stream",
          "text": [
            "\rProcessing  IMG_6790.MOV:   0%|          | 39/14172 [02:26<15:16:01,  3.89s/it]"
          ]
        },
        {
          "name": "stdout",
          "output_type": "stream",
          "text": [
            "\n",
            "0: 384x640 1 person, 1 chair, 3078.3ms\n",
            "Speed: 4.7ms preprocess, 3078.3ms inference, 5.9ms postprocess per image at shape (1, 3, 384, 640)\n"
          ]
        },
        {
          "name": "stderr",
          "output_type": "stream",
          "text": [
            "\rProcessing  IMG_6790.MOV:   0%|          | 40/14172 [02:29<14:26:12,  3.68s/it]"
          ]
        },
        {
          "name": "stdout",
          "output_type": "stream",
          "text": [
            "\n",
            "0: 384x640 1 person, 1 chair, 3095.9ms\n",
            "Speed: 3.6ms preprocess, 3095.9ms inference, 5.9ms postprocess per image at shape (1, 3, 384, 640)\n"
          ]
        },
        {
          "name": "stderr",
          "output_type": "stream",
          "text": [
            "\rProcessing  IMG_6790.MOV:   0%|          | 41/14172 [02:32<13:52:07,  3.53s/it]"
          ]
        },
        {
          "name": "stdout",
          "output_type": "stream",
          "text": [
            "\n",
            "0: 384x640 1 person, 1 chair, 3079.8ms\n",
            "Speed: 4.6ms preprocess, 3079.8ms inference, 5.6ms postprocess per image at shape (1, 3, 384, 640)\n"
          ]
        },
        {
          "name": "stderr",
          "output_type": "stream",
          "text": [
            "\rProcessing  IMG_6790.MOV:   0%|          | 42/14172 [02:36<13:27:13,  3.43s/it]"
          ]
        },
        {
          "name": "stdout",
          "output_type": "stream",
          "text": [
            "\n",
            "0: 384x640 1 person, 1 chair, 4976.5ms\n",
            "Speed: 3.6ms preprocess, 4976.5ms inference, 5.7ms postprocess per image at shape (1, 3, 384, 640)\n"
          ]
        },
        {
          "name": "stderr",
          "output_type": "stream",
          "text": [
            "\rProcessing  IMG_6790.MOV:   0%|          | 43/14172 [02:41<15:24:04,  3.92s/it]"
          ]
        },
        {
          "name": "stdout",
          "output_type": "stream",
          "text": [
            "\n",
            "0: 384x640 1 person, 1 chair, 3071.7ms\n",
            "Speed: 5.2ms preprocess, 3071.7ms inference, 5.8ms postprocess per image at shape (1, 3, 384, 640)\n"
          ]
        },
        {
          "name": "stderr",
          "output_type": "stream",
          "text": [
            "\rProcessing  IMG_6790.MOV:   0%|          | 44/14172 [02:44<14:31:10,  3.70s/it]"
          ]
        },
        {
          "name": "stdout",
          "output_type": "stream",
          "text": [
            "\n",
            "0: 384x640 1 person, 1 chair, 1 scissors, 3095.7ms\n",
            "Speed: 6.2ms preprocess, 3095.7ms inference, 12.3ms postprocess per image at shape (1, 3, 384, 640)\n"
          ]
        },
        {
          "name": "stderr",
          "output_type": "stream",
          "text": [
            "\rProcessing  IMG_6790.MOV:   0%|          | 45/14172 [02:47<14:01:25,  3.57s/it]"
          ]
        },
        {
          "name": "stdout",
          "output_type": "stream",
          "text": [
            "\n",
            "0: 384x640 1 person, 1 chair, 3073.9ms\n",
            "Speed: 3.7ms preprocess, 3073.9ms inference, 5.9ms postprocess per image at shape (1, 3, 384, 640)\n"
          ]
        },
        {
          "name": "stderr",
          "output_type": "stream",
          "text": [
            "\rProcessing  IMG_6790.MOV:   0%|          | 46/14172 [02:50<13:33:46,  3.46s/it]"
          ]
        },
        {
          "name": "stdout",
          "output_type": "stream",
          "text": [
            "\n",
            "0: 384x640 1 person, 1 chair, 4974.1ms\n",
            "Speed: 4.5ms preprocess, 4974.1ms inference, 9.1ms postprocess per image at shape (1, 3, 384, 640)\n"
          ]
        },
        {
          "name": "stderr",
          "output_type": "stream",
          "text": [
            "\rProcessing  IMG_6790.MOV:   0%|          | 47/14172 [02:55<15:29:00,  3.95s/it]"
          ]
        },
        {
          "name": "stdout",
          "output_type": "stream",
          "text": [
            "\n",
            "0: 384x640 1 person, 1 chair, 3086.5ms\n",
            "Speed: 6.8ms preprocess, 3086.5ms inference, 7.5ms postprocess per image at shape (1, 3, 384, 640)\n"
          ]
        },
        {
          "name": "stderr",
          "output_type": "stream",
          "text": [
            "\rProcessing  IMG_6790.MOV:   0%|          | 48/14172 [02:59<14:37:41,  3.73s/it]"
          ]
        },
        {
          "name": "stdout",
          "output_type": "stream",
          "text": [
            "\n",
            "0: 384x640 1 person, 1 chair, 3065.5ms\n",
            "Speed: 4.2ms preprocess, 3065.5ms inference, 6.1ms postprocess per image at shape (1, 3, 384, 640)\n"
          ]
        },
        {
          "name": "stderr",
          "output_type": "stream",
          "text": [
            "\rProcessing  IMG_6790.MOV:   0%|          | 49/14172 [03:02<13:58:24,  3.56s/it]"
          ]
        },
        {
          "name": "stdout",
          "output_type": "stream",
          "text": [
            "\n",
            "0: 384x640 1 person, 1 chair, 3108.4ms\n",
            "Speed: 5.0ms preprocess, 3108.4ms inference, 5.7ms postprocess per image at shape (1, 3, 384, 640)\n"
          ]
        },
        {
          "name": "stderr",
          "output_type": "stream",
          "text": [
            "\rProcessing  IMG_6790.MOV:   0%|          | 50/14172 [03:05<13:34:12,  3.46s/it]"
          ]
        },
        {
          "name": "stdout",
          "output_type": "stream",
          "text": [
            "\n",
            "0: 384x640 1 person, 1 chair, 4850.2ms\n",
            "Speed: 3.5ms preprocess, 4850.2ms inference, 9.2ms postprocess per image at shape (1, 3, 384, 640)\n"
          ]
        },
        {
          "name": "stderr",
          "output_type": "stream",
          "text": [
            "\rProcessing  IMG_6790.MOV:   0%|          | 51/14172 [03:10<15:21:14,  3.91s/it]"
          ]
        },
        {
          "name": "stdout",
          "output_type": "stream",
          "text": [
            "\n",
            "0: 384x640 1 person, 1 chair, 3116.7ms\n",
            "Speed: 3.7ms preprocess, 3116.7ms inference, 5.6ms postprocess per image at shape (1, 3, 384, 640)\n"
          ]
        },
        {
          "name": "stderr",
          "output_type": "stream",
          "text": [
            "\rProcessing  IMG_6790.MOV:   0%|          | 52/14172 [03:13<14:35:52,  3.72s/it]"
          ]
        },
        {
          "name": "stdout",
          "output_type": "stream",
          "text": [
            "\n",
            "0: 384x640 1 chair, 3066.0ms\n",
            "Speed: 4.9ms preprocess, 3066.0ms inference, 3.8ms postprocess per image at shape (1, 3, 384, 640)\n"
          ]
        },
        {
          "name": "stderr",
          "output_type": "stream",
          "text": [
            "\rProcessing  IMG_6790.MOV:   0%|          | 53/14172 [03:17<13:56:39,  3.56s/it]"
          ]
        },
        {
          "name": "stdout",
          "output_type": "stream",
          "text": [
            "\n",
            "0: 384x640 1 person, 1 chair, 3079.0ms\n",
            "Speed: 5.2ms preprocess, 3079.0ms inference, 5.7ms postprocess per image at shape (1, 3, 384, 640)\n"
          ]
        },
        {
          "name": "stderr",
          "output_type": "stream",
          "text": [
            "\rProcessing  IMG_6790.MOV:   0%|          | 54/14172 [03:20<13:31:07,  3.45s/it]"
          ]
        },
        {
          "name": "stdout",
          "output_type": "stream",
          "text": [
            "\n",
            "0: 384x640 1 person, 1 chair, 4697.7ms\n",
            "Speed: 4.9ms preprocess, 4697.7ms inference, 9.0ms postprocess per image at shape (1, 3, 384, 640)\n"
          ]
        },
        {
          "name": "stderr",
          "output_type": "stream",
          "text": [
            "\rProcessing  IMG_6790.MOV:   0%|          | 55/14172 [03:25<15:08:05,  3.86s/it]"
          ]
        },
        {
          "name": "stdout",
          "output_type": "stream",
          "text": [
            "\n",
            "0: 384x640 1 person, 1 chair, 3214.2ms\n",
            "Speed: 3.9ms preprocess, 3214.2ms inference, 5.8ms postprocess per image at shape (1, 3, 384, 640)\n"
          ]
        },
        {
          "name": "stderr",
          "output_type": "stream",
          "text": [
            "\rProcessing  IMG_6790.MOV:   0%|          | 56/14172 [03:28<14:32:55,  3.71s/it]"
          ]
        },
        {
          "name": "stdout",
          "output_type": "stream",
          "text": [
            "\n",
            "0: 384x640 1 person, 1 chair, 3057.8ms\n",
            "Speed: 3.7ms preprocess, 3057.8ms inference, 5.7ms postprocess per image at shape (1, 3, 384, 640)\n"
          ]
        },
        {
          "name": "stderr",
          "output_type": "stream",
          "text": [
            "\rProcessing  IMG_6790.MOV:   0%|          | 57/14172 [03:31<13:54:30,  3.55s/it]"
          ]
        },
        {
          "name": "stdout",
          "output_type": "stream",
          "text": [
            "\n",
            "0: 384x640 1 person, 3122.3ms\n",
            "Speed: 3.7ms preprocess, 3122.3ms inference, 3.6ms postprocess per image at shape (1, 3, 384, 640)\n"
          ]
        },
        {
          "name": "stderr",
          "output_type": "stream",
          "text": [
            "\rProcessing  IMG_6790.MOV:   0%|          | 58/14172 [03:34<13:31:40,  3.45s/it]"
          ]
        },
        {
          "name": "stdout",
          "output_type": "stream",
          "text": [
            "\n",
            "0: 384x640 1 person, 1 chair, 4564.4ms\n",
            "Speed: 5.1ms preprocess, 4564.4ms inference, 11.3ms postprocess per image at shape (1, 3, 384, 640)\n"
          ]
        },
        {
          "name": "stderr",
          "output_type": "stream",
          "text": [
            "\rProcessing  IMG_6790.MOV:   0%|          | 59/14172 [03:39<14:59:12,  3.82s/it]"
          ]
        },
        {
          "name": "stdout",
          "output_type": "stream",
          "text": [
            "\n",
            "0: 384x640 1 person, 3231.4ms\n",
            "Speed: 3.7ms preprocess, 3231.4ms inference, 3.5ms postprocess per image at shape (1, 3, 384, 640)\n"
          ]
        },
        {
          "name": "stderr",
          "output_type": "stream",
          "text": [
            "\rProcessing  IMG_6790.MOV:   0%|          | 60/14172 [03:42<14:28:39,  3.69s/it]"
          ]
        },
        {
          "name": "stdout",
          "output_type": "stream",
          "text": [
            "\n",
            "0: 384x640 1 person, 1 chair, 3061.7ms\n",
            "Speed: 5.0ms preprocess, 3061.7ms inference, 5.7ms postprocess per image at shape (1, 3, 384, 640)\n"
          ]
        },
        {
          "name": "stderr",
          "output_type": "stream",
          "text": [
            "\rProcessing  IMG_6790.MOV:   0%|          | 61/14172 [03:46<13:51:44,  3.54s/it]"
          ]
        },
        {
          "name": "stdout",
          "output_type": "stream",
          "text": [
            "\n",
            "0: 384x640 1 person, 1 chair, 3071.6ms\n",
            "Speed: 3.7ms preprocess, 3071.6ms inference, 5.7ms postprocess per image at shape (1, 3, 384, 640)\n"
          ]
        },
        {
          "name": "stderr",
          "output_type": "stream",
          "text": [
            "\rProcessing  IMG_6790.MOV:   0%|          | 62/14172 [03:49<13:26:36,  3.43s/it]"
          ]
        },
        {
          "name": "stdout",
          "output_type": "stream",
          "text": [
            "\n",
            "0: 384x640 1 person, 1 chair, 4550.1ms\n",
            "Speed: 5.4ms preprocess, 4550.1ms inference, 9.0ms postprocess per image at shape (1, 3, 384, 640)\n"
          ]
        },
        {
          "name": "stderr",
          "output_type": "stream",
          "text": [
            "\rProcessing  IMG_6790.MOV:   0%|          | 63/14172 [03:53<14:54:57,  3.81s/it]"
          ]
        },
        {
          "name": "stdout",
          "output_type": "stream",
          "text": [
            "\n",
            "0: 384x640 1 person, 1 chair, 3191.7ms\n",
            "Speed: 3.8ms preprocess, 3191.7ms inference, 6.9ms postprocess per image at shape (1, 3, 384, 640)\n"
          ]
        },
        {
          "name": "stderr",
          "output_type": "stream",
          "text": [
            "\rProcessing  IMG_6790.MOV:   0%|          | 64/14172 [03:57<14:25:06,  3.68s/it]"
          ]
        },
        {
          "name": "stdout",
          "output_type": "stream",
          "text": [
            "\n",
            "0: 384x640 1 person, 1 chair, 3075.3ms\n",
            "Speed: 5.4ms preprocess, 3075.3ms inference, 5.6ms postprocess per image at shape (1, 3, 384, 640)\n"
          ]
        },
        {
          "name": "stderr",
          "output_type": "stream",
          "text": [
            "\rProcessing  IMG_6790.MOV:   0%|          | 65/14172 [04:00<13:51:16,  3.54s/it]"
          ]
        },
        {
          "name": "stdout",
          "output_type": "stream",
          "text": [
            "\n",
            "0: 384x640 1 person, 1 chair, 3096.5ms\n",
            "Speed: 5.2ms preprocess, 3096.5ms inference, 5.7ms postprocess per image at shape (1, 3, 384, 640)\n"
          ]
        },
        {
          "name": "stderr",
          "output_type": "stream",
          "text": [
            "\rProcessing  IMG_6790.MOV:   0%|          | 66/14172 [04:03<13:28:06,  3.44s/it]"
          ]
        },
        {
          "name": "stdout",
          "output_type": "stream",
          "text": [
            "\n",
            "0: 384x640 1 person, 1 chair, 4535.7ms\n",
            "Speed: 5.3ms preprocess, 4535.7ms inference, 9.1ms postprocess per image at shape (1, 3, 384, 640)\n"
          ]
        },
        {
          "name": "stderr",
          "output_type": "stream",
          "text": [
            "\rProcessing  IMG_6790.MOV:   0%|          | 67/14172 [04:08<14:54:08,  3.80s/it]"
          ]
        },
        {
          "name": "stdout",
          "output_type": "stream",
          "text": [
            "\n",
            "0: 384x640 1 person, 1 chair, 3368.1ms\n",
            "Speed: 3.8ms preprocess, 3368.1ms inference, 5.8ms postprocess per image at shape (1, 3, 384, 640)\n"
          ]
        },
        {
          "name": "stderr",
          "output_type": "stream",
          "text": [
            "\rProcessing  IMG_6790.MOV:   0%|          | 68/14172 [04:11<14:35:50,  3.73s/it]"
          ]
        },
        {
          "name": "stdout",
          "output_type": "stream",
          "text": [
            "\n",
            "0: 384x640 1 person, 1 chair, 3086.4ms\n",
            "Speed: 5.1ms preprocess, 3086.4ms inference, 5.7ms postprocess per image at shape (1, 3, 384, 640)\n"
          ]
        },
        {
          "name": "stderr",
          "output_type": "stream",
          "text": [
            "\rProcessing  IMG_6790.MOV:   0%|          | 69/14172 [04:15<13:58:32,  3.57s/it]"
          ]
        },
        {
          "name": "stdout",
          "output_type": "stream",
          "text": [
            "\n",
            "0: 384x640 1 person, 1 chair, 1 scissors, 3067.5ms\n",
            "Speed: 5.2ms preprocess, 3067.5ms inference, 11.6ms postprocess per image at shape (1, 3, 384, 640)\n"
          ]
        },
        {
          "name": "stderr",
          "output_type": "stream",
          "text": [
            "\rProcessing  IMG_6790.MOV:   0%|          | 70/14172 [04:18<13:34:20,  3.46s/it]"
          ]
        },
        {
          "name": "stdout",
          "output_type": "stream",
          "text": [
            "\n",
            "0: 384x640 1 person, 4509.1ms\n",
            "Speed: 4.7ms preprocess, 4509.1ms inference, 5.5ms postprocess per image at shape (1, 3, 384, 640)\n"
          ]
        },
        {
          "name": "stderr",
          "output_type": "stream",
          "text": [
            "\rProcessing  IMG_6790.MOV:   1%|          | 71/14172 [04:22<14:55:57,  3.81s/it]"
          ]
        },
        {
          "name": "stdout",
          "output_type": "stream",
          "text": [
            "\n",
            "0: 384x640 1 person, 1 chair, 3351.7ms\n",
            "Speed: 6.0ms preprocess, 3351.7ms inference, 5.9ms postprocess per image at shape (1, 3, 384, 640)\n"
          ]
        },
        {
          "name": "stderr",
          "output_type": "stream",
          "text": [
            "\rProcessing  IMG_6790.MOV:   1%|          | 72/14172 [04:26<14:36:14,  3.73s/it]"
          ]
        },
        {
          "name": "stdout",
          "output_type": "stream",
          "text": [
            "\n",
            "0: 384x640 1 person, 1 chair, 3085.3ms\n",
            "Speed: 6.4ms preprocess, 3085.3ms inference, 5.8ms postprocess per image at shape (1, 3, 384, 640)\n"
          ]
        },
        {
          "name": "stderr",
          "output_type": "stream",
          "text": [
            "\rProcessing  IMG_6790.MOV:   1%|          | 73/14172 [04:29<13:58:43,  3.57s/it]"
          ]
        },
        {
          "name": "stdout",
          "output_type": "stream",
          "text": [
            "\n",
            "0: 384x640 1 person, 1 chair, 3069.9ms\n",
            "Speed: 4.0ms preprocess, 3069.9ms inference, 5.9ms postprocess per image at shape (1, 3, 384, 640)\n"
          ]
        },
        {
          "name": "stderr",
          "output_type": "stream",
          "text": [
            "\rProcessing  IMG_6790.MOV:   1%|          | 74/14172 [04:32<13:31:07,  3.45s/it]"
          ]
        },
        {
          "name": "stdout",
          "output_type": "stream",
          "text": [
            "\n",
            "0: 384x640 1 person, 1 chair, 4531.6ms\n",
            "Speed: 5.5ms preprocess, 4531.6ms inference, 8.9ms postprocess per image at shape (1, 3, 384, 640)\n"
          ]
        },
        {
          "name": "stderr",
          "output_type": "stream",
          "text": [
            "\rProcessing  IMG_6790.MOV:   1%|          | 75/14172 [04:37<14:56:08,  3.81s/it]"
          ]
        },
        {
          "name": "stdout",
          "output_type": "stream",
          "text": [
            "\n",
            "0: 384x640 1 person, 1 chair, 3300.1ms\n",
            "Speed: 6.5ms preprocess, 3300.1ms inference, 5.8ms postprocess per image at shape (1, 3, 384, 640)\n"
          ]
        },
        {
          "name": "stderr",
          "output_type": "stream",
          "text": [
            "\rProcessing  IMG_6790.MOV:   1%|          | 76/14172 [04:40<14:30:49,  3.71s/it]"
          ]
        },
        {
          "name": "stdout",
          "output_type": "stream",
          "text": [
            "\n",
            "0: 384x640 1 person, 3070.0ms\n",
            "Speed: 4.7ms preprocess, 3070.0ms inference, 3.6ms postprocess per image at shape (1, 3, 384, 640)\n"
          ]
        },
        {
          "name": "stderr",
          "output_type": "stream",
          "text": [
            "\rProcessing  IMG_6790.MOV:   1%|          | 77/14172 [04:44<13:53:21,  3.55s/it]"
          ]
        },
        {
          "name": "stdout",
          "output_type": "stream",
          "text": [
            "\n",
            "0: 384x640 1 person, 1 chair, 3063.7ms\n",
            "Speed: 6.1ms preprocess, 3063.7ms inference, 8.9ms postprocess per image at shape (1, 3, 384, 640)\n"
          ]
        },
        {
          "name": "stderr",
          "output_type": "stream",
          "text": [
            "\rProcessing  IMG_6790.MOV:   1%|          | 78/14172 [04:47<13:27:32,  3.44s/it]"
          ]
        },
        {
          "name": "stdout",
          "output_type": "stream",
          "text": [
            "\n",
            "0: 384x640 1 person, 1 chair, 4517.5ms\n",
            "Speed: 5.3ms preprocess, 4517.5ms inference, 9.0ms postprocess per image at shape (1, 3, 384, 640)\n"
          ]
        },
        {
          "name": "stderr",
          "output_type": "stream",
          "text": [
            "\rProcessing  IMG_6790.MOV:   1%|          | 79/14172 [04:51<14:51:59,  3.80s/it]"
          ]
        },
        {
          "name": "stdout",
          "output_type": "stream",
          "text": [
            "\n",
            "0: 384x640 1 person, 1 chair, 3375.5ms\n",
            "Speed: 4.3ms preprocess, 3375.5ms inference, 5.7ms postprocess per image at shape (1, 3, 384, 640)\n"
          ]
        },
        {
          "name": "stderr",
          "output_type": "stream",
          "text": [
            "\rProcessing  IMG_6790.MOV:   1%|          | 80/14172 [04:55<14:33:58,  3.72s/it]"
          ]
        },
        {
          "name": "stdout",
          "output_type": "stream",
          "text": [
            "\n",
            "0: 384x640 1 person, 1 chair, 3082.2ms\n",
            "Speed: 3.1ms preprocess, 3082.2ms inference, 5.7ms postprocess per image at shape (1, 3, 384, 640)\n"
          ]
        },
        {
          "name": "stderr",
          "output_type": "stream",
          "text": [
            "\rProcessing  IMG_6790.MOV:   1%|          | 81/14172 [04:58<13:56:55,  3.56s/it]"
          ]
        },
        {
          "name": "stdout",
          "output_type": "stream",
          "text": [
            "\n",
            "0: 384x640 1 person, 1 chair, 3069.3ms\n",
            "Speed: 5.6ms preprocess, 3069.3ms inference, 6.1ms postprocess per image at shape (1, 3, 384, 640)\n"
          ]
        },
        {
          "name": "stderr",
          "output_type": "stream",
          "text": [
            "\rProcessing  IMG_6790.MOV:   1%|          | 82/14172 [05:01<13:29:52,  3.45s/it]"
          ]
        },
        {
          "name": "stdout",
          "output_type": "stream",
          "text": [
            "\n",
            "0: 384x640 1 person, 4431.1ms\n",
            "Speed: 4.8ms preprocess, 4431.1ms inference, 5.5ms postprocess per image at shape (1, 3, 384, 640)\n"
          ]
        },
        {
          "name": "stderr",
          "output_type": "stream",
          "text": [
            "\rProcessing  IMG_6790.MOV:   1%|          | 83/14172 [05:06<14:46:57,  3.78s/it]"
          ]
        },
        {
          "name": "stdout",
          "output_type": "stream",
          "text": [
            "\n",
            "0: 384x640 1 person, 1 chair, 3559.4ms\n",
            "Speed: 3.6ms preprocess, 3559.4ms inference, 5.7ms postprocess per image at shape (1, 3, 384, 640)\n"
          ]
        },
        {
          "name": "stderr",
          "output_type": "stream",
          "text": [
            "\rProcessing  IMG_6790.MOV:   1%|          | 84/14172 [05:10<14:44:05,  3.77s/it]"
          ]
        },
        {
          "name": "stdout",
          "output_type": "stream",
          "text": [
            "\n",
            "0: 384x640 1 person, 1 chair, 3065.4ms\n",
            "Speed: 5.5ms preprocess, 3065.4ms inference, 5.7ms postprocess per image at shape (1, 3, 384, 640)\n"
          ]
        },
        {
          "name": "stderr",
          "output_type": "stream",
          "text": [
            "\rProcessing  IMG_6790.MOV:   1%|          | 85/14172 [05:13<14:02:30,  3.59s/it]"
          ]
        },
        {
          "name": "stdout",
          "output_type": "stream",
          "text": [
            "\n",
            "0: 384x640 1 person, 1 chair, 3067.0ms\n",
            "Speed: 3.8ms preprocess, 3067.0ms inference, 5.8ms postprocess per image at shape (1, 3, 384, 640)\n"
          ]
        },
        {
          "name": "stderr",
          "output_type": "stream",
          "text": [
            "\rProcessing  IMG_6790.MOV:   1%|          | 86/14172 [05:16<13:33:14,  3.46s/it]"
          ]
        },
        {
          "name": "stdout",
          "output_type": "stream",
          "text": [
            "\n",
            "0: 384x640 1 person, 1 chair, 4235.4ms\n",
            "Speed: 5.2ms preprocess, 4235.4ms inference, 8.9ms postprocess per image at shape (1, 3, 384, 640)\n"
          ]
        },
        {
          "name": "stderr",
          "output_type": "stream",
          "text": [
            "\rProcessing  IMG_6790.MOV:   1%|          | 87/14172 [05:20<14:35:44,  3.73s/it]"
          ]
        },
        {
          "name": "stdout",
          "output_type": "stream",
          "text": [
            "\n",
            "0: 384x640 1 person, 1 chair, 3699.7ms\n",
            "Speed: 4.5ms preprocess, 3699.7ms inference, 5.7ms postprocess per image at shape (1, 3, 384, 640)\n"
          ]
        },
        {
          "name": "stderr",
          "output_type": "stream",
          "text": [
            "\rProcessing  IMG_6790.MOV:   1%|          | 88/14172 [05:24<14:44:39,  3.77s/it]"
          ]
        },
        {
          "name": "stdout",
          "output_type": "stream",
          "text": [
            "\n",
            "0: 384x640 1 person, 1 chair, 3070.2ms\n",
            "Speed: 4.3ms preprocess, 3070.2ms inference, 5.7ms postprocess per image at shape (1, 3, 384, 640)\n"
          ]
        },
        {
          "name": "stderr",
          "output_type": "stream",
          "text": [
            "\rProcessing  IMG_6790.MOV:   1%|          | 89/14172 [05:27<14:03:11,  3.59s/it]"
          ]
        },
        {
          "name": "stdout",
          "output_type": "stream",
          "text": [
            "\n",
            "0: 384x640 1 person, 1 chair, 3071.9ms\n",
            "Speed: 5.3ms preprocess, 3071.9ms inference, 5.7ms postprocess per image at shape (1, 3, 384, 640)\n"
          ]
        },
        {
          "name": "stderr",
          "output_type": "stream",
          "text": [
            "\rProcessing  IMG_6790.MOV:   1%|          | 90/14172 [05:31<13:34:24,  3.47s/it]"
          ]
        },
        {
          "name": "stdout",
          "output_type": "stream",
          "text": [
            "\n",
            "0: 384x640 1 person, 1 chair, 4098.2ms\n",
            "Speed: 3.8ms preprocess, 4098.2ms inference, 9.7ms postprocess per image at shape (1, 3, 384, 640)\n"
          ]
        },
        {
          "name": "stderr",
          "output_type": "stream",
          "text": [
            "\rProcessing  IMG_6790.MOV:   1%|          | 91/14172 [05:35<14:26:55,  3.69s/it]"
          ]
        },
        {
          "name": "stdout",
          "output_type": "stream",
          "text": [
            "\n",
            "0: 384x640 1 person, 1 chair, 3892.3ms\n",
            "Speed: 7.9ms preprocess, 3892.3ms inference, 5.7ms postprocess per image at shape (1, 3, 384, 640)\n"
          ]
        },
        {
          "name": "stderr",
          "output_type": "stream",
          "text": [
            "\rProcessing  IMG_6790.MOV:   1%|          | 92/14172 [05:39<14:51:40,  3.80s/it]"
          ]
        },
        {
          "name": "stdout",
          "output_type": "stream",
          "text": [
            "\n",
            "0: 384x640 1 person, 1 chair, 1 scissors, 4227.5ms\n",
            "Speed: 5.3ms preprocess, 4227.5ms inference, 14.6ms postprocess per image at shape (1, 3, 384, 640)\n"
          ]
        },
        {
          "name": "stderr",
          "output_type": "stream",
          "text": [
            "\rProcessing  IMG_6790.MOV:   1%|          | 93/14172 [05:43<15:34:29,  3.98s/it]"
          ]
        },
        {
          "name": "stdout",
          "output_type": "stream",
          "text": [
            "\n",
            "0: 384x640 1 person, 1 chair, 3153.7ms\n",
            "Speed: 4.6ms preprocess, 3153.7ms inference, 7.2ms postprocess per image at shape (1, 3, 384, 640)\n"
          ]
        },
        {
          "name": "stderr",
          "output_type": "stream",
          "text": [
            "\rProcessing  IMG_6790.MOV:   1%|          | 94/14172 [05:47<14:48:29,  3.79s/it]"
          ]
        },
        {
          "name": "stdout",
          "output_type": "stream",
          "text": [
            "\n",
            "0: 384x640 1 person, 1 chair, 4934.6ms\n",
            "Speed: 4.2ms preprocess, 4934.6ms inference, 6.6ms postprocess per image at shape (1, 3, 384, 640)\n"
          ]
        },
        {
          "name": "stderr",
          "output_type": "stream",
          "text": [
            "\rProcessing  IMG_6790.MOV:   1%|          | 95/14172 [05:52<16:17:23,  4.17s/it]"
          ]
        },
        {
          "name": "stdout",
          "output_type": "stream",
          "text": [
            "\n",
            "0: 384x640 1 person, 1 chair, 3129.9ms\n",
            "Speed: 3.7ms preprocess, 3129.9ms inference, 6.6ms postprocess per image at shape (1, 3, 384, 640)\n"
          ]
        },
        {
          "name": "stderr",
          "output_type": "stream",
          "text": [
            "\rProcessing  IMG_6790.MOV:   1%|          | 96/14172 [05:55<15:12:05,  3.89s/it]"
          ]
        },
        {
          "name": "stdout",
          "output_type": "stream",
          "text": [
            "\n",
            "0: 384x640 1 person, 1 chair, 3103.8ms\n",
            "Speed: 5.4ms preprocess, 3103.8ms inference, 8.9ms postprocess per image at shape (1, 3, 384, 640)\n"
          ]
        },
        {
          "name": "stderr",
          "output_type": "stream",
          "text": [
            "\rProcessing  IMG_6790.MOV:   1%|          | 97/14172 [05:58<14:25:45,  3.69s/it]"
          ]
        },
        {
          "name": "stdout",
          "output_type": "stream",
          "text": [
            "\n",
            "0: 384x640 1 person, 1 chair, 3093.2ms\n",
            "Speed: 9.5ms preprocess, 3093.2ms inference, 5.7ms postprocess per image at shape (1, 3, 384, 640)\n"
          ]
        },
        {
          "name": "stderr",
          "output_type": "stream",
          "text": [
            "\rProcessing  IMG_6790.MOV:   1%|          | 98/14172 [06:01<13:52:36,  3.55s/it]"
          ]
        },
        {
          "name": "stdout",
          "output_type": "stream",
          "text": [
            "\n",
            "0: 384x640 1 person, 1 chair, 4961.0ms\n",
            "Speed: 3.6ms preprocess, 4961.0ms inference, 5.9ms postprocess per image at shape (1, 3, 384, 640)\n"
          ]
        },
        {
          "name": "stderr",
          "output_type": "stream",
          "text": [
            "\rProcessing  IMG_6790.MOV:   1%|          | 99/14172 [06:06<15:39:42,  4.01s/it]"
          ]
        },
        {
          "name": "stdout",
          "output_type": "stream",
          "text": [
            "\n",
            "0: 384x640 1 person, 1 chair, 3102.9ms\n",
            "Speed: 6.7ms preprocess, 3102.9ms inference, 5.8ms postprocess per image at shape (1, 3, 384, 640)\n"
          ]
        },
        {
          "name": "stderr",
          "output_type": "stream",
          "text": [
            "\rProcessing  IMG_6790.MOV:   1%|          | 100/14172 [06:10<14:44:23,  3.77s/it]"
          ]
        },
        {
          "name": "stdout",
          "output_type": "stream",
          "text": [
            "\n",
            "0: 384x640 1 person, 1 chair, 3086.2ms\n",
            "Speed: 4.1ms preprocess, 3086.2ms inference, 5.7ms postprocess per image at shape (1, 3, 384, 640)\n"
          ]
        },
        {
          "name": "stderr",
          "output_type": "stream",
          "text": [
            "\rProcessing  IMG_6790.MOV:   1%|          | 101/14172 [06:13<14:04:42,  3.60s/it]"
          ]
        },
        {
          "name": "stdout",
          "output_type": "stream",
          "text": [
            "\n",
            "0: 384x640 1 person, 1 chair, 3094.3ms\n",
            "Speed: 4.1ms preprocess, 3094.3ms inference, 5.8ms postprocess per image at shape (1, 3, 384, 640)\n"
          ]
        },
        {
          "name": "stderr",
          "output_type": "stream",
          "text": [
            "\rProcessing  IMG_6790.MOV:   1%|          | 102/14172 [06:16<13:37:10,  3.48s/it]"
          ]
        },
        {
          "name": "stdout",
          "output_type": "stream",
          "text": [
            "\n",
            "0: 384x640 1 person, 1 chair, 4946.9ms\n",
            "Speed: 3.6ms preprocess, 4946.9ms inference, 9.1ms postprocess per image at shape (1, 3, 384, 640)\n"
          ]
        },
        {
          "name": "stderr",
          "output_type": "stream",
          "text": [
            "\rProcessing  IMG_6790.MOV:   1%|          | 103/14172 [06:21<15:29:04,  3.96s/it]"
          ]
        },
        {
          "name": "stdout",
          "output_type": "stream",
          "text": [
            "\n",
            "0: 384x640 1 person, 1 chair, 3076.8ms\n",
            "Speed: 5.1ms preprocess, 3076.8ms inference, 6.2ms postprocess per image at shape (1, 3, 384, 640)\n"
          ]
        },
        {
          "name": "stderr",
          "output_type": "stream",
          "text": [
            "\rProcessing  IMG_6790.MOV:   1%|          | 104/14172 [06:24<14:34:53,  3.73s/it]"
          ]
        },
        {
          "name": "stdout",
          "output_type": "stream",
          "text": [
            "\n",
            "0: 384x640 1 person, 1 chair, 3079.4ms\n",
            "Speed: 5.0ms preprocess, 3079.4ms inference, 6.2ms postprocess per image at shape (1, 3, 384, 640)\n"
          ]
        },
        {
          "name": "stderr",
          "output_type": "stream",
          "text": [
            "\rProcessing  IMG_6790.MOV:   1%|          | 105/14172 [06:28<13:57:09,  3.57s/it]"
          ]
        },
        {
          "name": "stdout",
          "output_type": "stream",
          "text": [
            "\n",
            "0: 384x640 1 person, 1 chair, 3069.4ms\n",
            "Speed: 3.6ms preprocess, 3069.4ms inference, 5.7ms postprocess per image at shape (1, 3, 384, 640)\n"
          ]
        },
        {
          "name": "stderr",
          "output_type": "stream",
          "text": [
            "\rProcessing  IMG_6790.MOV:   1%|          | 106/14172 [06:31<13:29:45,  3.45s/it]"
          ]
        },
        {
          "name": "stdout",
          "output_type": "stream",
          "text": [
            "\n",
            "0: 384x640 1 person, 1 chair, 4896.6ms\n",
            "Speed: 3.0ms preprocess, 4896.6ms inference, 9.0ms postprocess per image at shape (1, 3, 384, 640)\n"
          ]
        },
        {
          "name": "stderr",
          "output_type": "stream",
          "text": [
            "\rProcessing  IMG_6790.MOV:   1%|          | 107/14172 [06:36<15:19:50,  3.92s/it]"
          ]
        },
        {
          "name": "stdout",
          "output_type": "stream",
          "text": [
            "\n",
            "0: 384x640 1 person, 1 chair, 3135.6ms\n",
            "Speed: 4.9ms preprocess, 3135.6ms inference, 5.8ms postprocess per image at shape (1, 3, 384, 640)\n"
          ]
        },
        {
          "name": "stderr",
          "output_type": "stream",
          "text": [
            "\rProcessing  IMG_6790.MOV:   1%|          | 108/14172 [06:39<14:35:45,  3.74s/it]"
          ]
        },
        {
          "name": "stdout",
          "output_type": "stream",
          "text": [
            "\n",
            "0: 384x640 1 person, 1 chair, 3103.5ms\n",
            "Speed: 3.8ms preprocess, 3103.5ms inference, 5.8ms postprocess per image at shape (1, 3, 384, 640)\n"
          ]
        },
        {
          "name": "stderr",
          "output_type": "stream",
          "text": [
            "\rProcessing  IMG_6790.MOV:   1%|          | 109/14172 [06:42<13:58:59,  3.58s/it]"
          ]
        },
        {
          "name": "stdout",
          "output_type": "stream",
          "text": [
            "\n",
            "0: 384x640 1 person, 1 chair, 3081.2ms\n",
            "Speed: 3.9ms preprocess, 3081.2ms inference, 5.9ms postprocess per image at shape (1, 3, 384, 640)\n"
          ]
        },
        {
          "name": "stderr",
          "output_type": "stream",
          "text": [
            "\rProcessing  IMG_6790.MOV:   1%|          | 110/14172 [06:45<13:32:58,  3.47s/it]"
          ]
        },
        {
          "name": "stdout",
          "output_type": "stream",
          "text": [
            "\n",
            "0: 384x640 1 person, 1 chair, 4804.5ms\n",
            "Speed: 4.3ms preprocess, 4804.5ms inference, 9.0ms postprocess per image at shape (1, 3, 384, 640)\n"
          ]
        },
        {
          "name": "stderr",
          "output_type": "stream",
          "text": [
            "\rProcessing  IMG_6790.MOV:   1%|          | 111/14172 [06:50<15:15:21,  3.91s/it]"
          ]
        },
        {
          "name": "stdout",
          "output_type": "stream",
          "text": [
            "\n",
            "0: 384x640 1 person, 1 chair, 3190.2ms\n",
            "Speed: 3.8ms preprocess, 3190.2ms inference, 5.7ms postprocess per image at shape (1, 3, 384, 640)\n"
          ]
        },
        {
          "name": "stderr",
          "output_type": "stream",
          "text": [
            "\rProcessing  IMG_6790.MOV:   1%|          | 112/14172 [06:54<14:36:05,  3.74s/it]"
          ]
        },
        {
          "name": "stdout",
          "output_type": "stream",
          "text": [
            "\n",
            "0: 384x640 1 person, 1 chair, 3077.8ms\n",
            "Speed: 3.8ms preprocess, 3077.8ms inference, 5.7ms postprocess per image at shape (1, 3, 384, 640)\n"
          ]
        },
        {
          "name": "stderr",
          "output_type": "stream",
          "text": [
            "\rProcessing  IMG_6790.MOV:   1%|          | 113/14172 [06:57<13:57:59,  3.58s/it]"
          ]
        },
        {
          "name": "stdout",
          "output_type": "stream",
          "text": [
            "\n",
            "0: 384x640 1 person, 1 chair, 3082.5ms\n",
            "Speed: 5.5ms preprocess, 3082.5ms inference, 6.1ms postprocess per image at shape (1, 3, 384, 640)\n"
          ]
        },
        {
          "name": "stderr",
          "output_type": "stream",
          "text": [
            "\rProcessing  IMG_6790.MOV:   1%|          | 114/14172 [07:00<13:30:49,  3.46s/it]"
          ]
        },
        {
          "name": "stdout",
          "output_type": "stream",
          "text": [
            "\n",
            "0: 384x640 1 person, 1 chair, 4606.1ms\n",
            "Speed: 5.1ms preprocess, 4606.1ms inference, 9.2ms postprocess per image at shape (1, 3, 384, 640)\n"
          ]
        },
        {
          "name": "stderr",
          "output_type": "stream",
          "text": [
            "\rProcessing  IMG_6790.MOV:   1%|          | 115/14172 [07:05<14:59:37,  3.84s/it]"
          ]
        },
        {
          "name": "stdout",
          "output_type": "stream",
          "text": [
            "\n",
            "0: 384x640 1 person, 1 chair, 3245.3ms\n",
            "Speed: 4.1ms preprocess, 3245.3ms inference, 5.8ms postprocess per image at shape (1, 3, 384, 640)\n"
          ]
        },
        {
          "name": "stderr",
          "output_type": "stream",
          "text": [
            "\rProcessing  IMG_6790.MOV:   1%|          | 116/14172 [07:08<14:31:01,  3.72s/it]"
          ]
        },
        {
          "name": "stdout",
          "output_type": "stream",
          "text": [
            "\n",
            "0: 384x640 1 person, 1 chair, 3091.0ms\n",
            "Speed: 5.4ms preprocess, 3091.0ms inference, 5.7ms postprocess per image at shape (1, 3, 384, 640)\n"
          ]
        },
        {
          "name": "stderr",
          "output_type": "stream",
          "text": [
            "\rProcessing  IMG_6790.MOV:   1%|          | 117/14172 [07:11<13:56:28,  3.57s/it]"
          ]
        },
        {
          "name": "stdout",
          "output_type": "stream",
          "text": [
            "\n",
            "0: 384x640 1 person, 1 chair, 3075.9ms\n",
            "Speed: 5.5ms preprocess, 3075.9ms inference, 5.7ms postprocess per image at shape (1, 3, 384, 640)\n"
          ]
        },
        {
          "name": "stderr",
          "output_type": "stream",
          "text": [
            "\rProcessing  IMG_6790.MOV:   1%|          | 118/14172 [07:15<13:29:42,  3.46s/it]"
          ]
        },
        {
          "name": "stdout",
          "output_type": "stream",
          "text": [
            "\n",
            "0: 384x640 1 person, 1 chair, 4591.6ms\n",
            "Speed: 4.8ms preprocess, 4591.6ms inference, 9.0ms postprocess per image at shape (1, 3, 384, 640)\n"
          ]
        },
        {
          "name": "stderr",
          "output_type": "stream",
          "text": [
            "\rProcessing  IMG_6790.MOV:   1%|          | 119/14172 [07:19<14:57:39,  3.83s/it]"
          ]
        },
        {
          "name": "stdout",
          "output_type": "stream",
          "text": [
            "\n",
            "0: 384x640 1 person, 1 chair, 3336.8ms\n",
            "Speed: 3.8ms preprocess, 3336.8ms inference, 9.7ms postprocess per image at shape (1, 3, 384, 640)\n"
          ]
        },
        {
          "name": "stderr",
          "output_type": "stream",
          "text": [
            "\rProcessing  IMG_6790.MOV:   1%|          | 120/14172 [07:23<14:34:27,  3.73s/it]"
          ]
        },
        {
          "name": "stdout",
          "output_type": "stream",
          "text": [
            "\n",
            "0: 384x640 1 person, 1 chair, 3080.3ms\n",
            "Speed: 3.7ms preprocess, 3080.3ms inference, 5.7ms postprocess per image at shape (1, 3, 384, 640)\n"
          ]
        },
        {
          "name": "stderr",
          "output_type": "stream",
          "text": [
            "\rProcessing  IMG_6790.MOV:   1%|          | 121/14172 [07:26<13:56:08,  3.57s/it]"
          ]
        },
        {
          "name": "stdout",
          "output_type": "stream",
          "text": [
            "\n",
            "0: 384x640 1 person, 1 chair, 3091.9ms\n",
            "Speed: 3.6ms preprocess, 3091.9ms inference, 5.7ms postprocess per image at shape (1, 3, 384, 640)\n"
          ]
        },
        {
          "name": "stderr",
          "output_type": "stream",
          "text": [
            "\rProcessing  IMG_6790.MOV:   1%|          | 122/14172 [07:29<13:30:23,  3.46s/it]"
          ]
        },
        {
          "name": "stdout",
          "output_type": "stream",
          "text": [
            "\n",
            "0: 384x640 1 person, 1 chair, 4453.2ms\n",
            "Speed: 4.2ms preprocess, 4453.2ms inference, 8.8ms postprocess per image at shape (1, 3, 384, 640)\n"
          ]
        },
        {
          "name": "stderr",
          "output_type": "stream",
          "text": [
            "\rProcessing  IMG_6790.MOV:   1%|          | 123/14172 [07:34<14:48:20,  3.79s/it]"
          ]
        },
        {
          "name": "stdout",
          "output_type": "stream",
          "text": [
            "\n",
            "0: 384x640 1 person, 1 chair, 3457.7ms\n",
            "Speed: 3.8ms preprocess, 3457.7ms inference, 6.8ms postprocess per image at shape (1, 3, 384, 640)\n"
          ]
        },
        {
          "name": "stderr",
          "output_type": "stream",
          "text": [
            "\rProcessing  IMG_6790.MOV:   1%|          | 124/14172 [07:37<14:36:32,  3.74s/it]"
          ]
        },
        {
          "name": "stdout",
          "output_type": "stream",
          "text": [
            "\n",
            "0: 384x640 1 person, 1 chair, 3107.3ms\n",
            "Speed: 3.7ms preprocess, 3107.3ms inference, 5.7ms postprocess per image at shape (1, 3, 384, 640)\n"
          ]
        },
        {
          "name": "stderr",
          "output_type": "stream",
          "text": [
            "\rProcessing  IMG_6790.MOV:   1%|          | 125/14172 [07:41<14:00:46,  3.59s/it]"
          ]
        },
        {
          "name": "stdout",
          "output_type": "stream",
          "text": [
            "\n",
            "0: 384x640 1 person, 1 chair, 3072.4ms\n",
            "Speed: 5.6ms preprocess, 3072.4ms inference, 6.5ms postprocess per image at shape (1, 3, 384, 640)\n"
          ]
        },
        {
          "name": "stderr",
          "output_type": "stream",
          "text": [
            "\rProcessing  IMG_6790.MOV:   1%|          | 126/14172 [07:44<13:32:32,  3.47s/it]"
          ]
        },
        {
          "name": "stdout",
          "output_type": "stream",
          "text": [
            "\n",
            "0: 384x640 1 person, 1 chair, 4405.3ms\n",
            "Speed: 4.5ms preprocess, 4405.3ms inference, 9.2ms postprocess per image at shape (1, 3, 384, 640)\n"
          ]
        },
        {
          "name": "stderr",
          "output_type": "stream",
          "text": [
            "\rProcessing  IMG_6790.MOV:   1%|          | 127/14172 [07:48<14:46:46,  3.79s/it]"
          ]
        },
        {
          "name": "stdout",
          "output_type": "stream",
          "text": [
            "\n",
            "0: 384x640 1 person, 1 chair, 3321.2ms\n",
            "Speed: 3.7ms preprocess, 3321.2ms inference, 5.7ms postprocess per image at shape (1, 3, 384, 640)\n"
          ]
        },
        {
          "name": "stderr",
          "output_type": "stream",
          "text": [
            "\rProcessing  IMG_6790.MOV:   1%|          | 128/14172 [07:52<14:24:58,  3.70s/it]"
          ]
        },
        {
          "name": "stdout",
          "output_type": "stream",
          "text": [
            "\n",
            "0: 384x640 1 person, 1 chair, 3095.8ms\n",
            "Speed: 4.0ms preprocess, 3095.8ms inference, 9.4ms postprocess per image at shape (1, 3, 384, 640)\n"
          ]
        },
        {
          "name": "stderr",
          "output_type": "stream",
          "text": [
            "\rProcessing  IMG_6790.MOV:   1%|          | 129/14172 [07:55<13:51:23,  3.55s/it]"
          ]
        },
        {
          "name": "stdout",
          "output_type": "stream",
          "text": [
            "\n",
            "0: 384x640 1 person, 1 chair, 3114.9ms\n",
            "Speed: 4.0ms preprocess, 3114.9ms inference, 5.9ms postprocess per image at shape (1, 3, 384, 640)\n"
          ]
        },
        {
          "name": "stderr",
          "output_type": "stream",
          "text": [
            "\rProcessing  IMG_6790.MOV:   1%|          | 130/14172 [07:58<13:28:46,  3.46s/it]"
          ]
        },
        {
          "name": "stdout",
          "output_type": "stream",
          "text": [
            "\n",
            "0: 384x640 1 person, 1 chair, 4575.9ms\n",
            "Speed: 3.9ms preprocess, 4575.9ms inference, 9.2ms postprocess per image at shape (1, 3, 384, 640)\n"
          ]
        },
        {
          "name": "stderr",
          "output_type": "stream",
          "text": [
            "\rProcessing  IMG_6790.MOV:   1%|          | 131/14172 [08:03<14:56:51,  3.83s/it]"
          ]
        },
        {
          "name": "stdout",
          "output_type": "stream",
          "text": [
            "\n",
            "0: 384x640 1 person, 1 chair, 3387.6ms\n",
            "Speed: 3.8ms preprocess, 3387.6ms inference, 5.8ms postprocess per image at shape (1, 3, 384, 640)\n"
          ]
        },
        {
          "name": "stderr",
          "output_type": "stream",
          "text": [
            "\rProcessing  IMG_6790.MOV:   1%|          | 132/14172 [08:07<14:37:31,  3.75s/it]"
          ]
        },
        {
          "name": "stdout",
          "output_type": "stream",
          "text": [
            "\n",
            "0: 384x640 1 person, 1 chair, 3093.8ms\n",
            "Speed: 5.6ms preprocess, 3093.8ms inference, 6.2ms postprocess per image at shape (1, 3, 384, 640)\n"
          ]
        },
        {
          "name": "stderr",
          "output_type": "stream",
          "text": [
            "\rProcessing  IMG_6790.MOV:   1%|          | 133/14172 [08:10<14:00:30,  3.59s/it]"
          ]
        },
        {
          "name": "stdout",
          "output_type": "stream",
          "text": [
            "\n",
            "0: 384x640 1 person, 1 chair, 3097.6ms\n",
            "Speed: 5.8ms preprocess, 3097.6ms inference, 5.7ms postprocess per image at shape (1, 3, 384, 640)\n"
          ]
        },
        {
          "name": "stderr",
          "output_type": "stream",
          "text": [
            "\rProcessing  IMG_6790.MOV:   1%|          | 134/14172 [08:13<13:34:09,  3.48s/it]"
          ]
        },
        {
          "name": "stdout",
          "output_type": "stream",
          "text": [
            "\n",
            "0: 384x640 1 person, 1 chair, 4458.6ms\n",
            "Speed: 3.7ms preprocess, 4458.6ms inference, 9.0ms postprocess per image at shape (1, 3, 384, 640)\n"
          ]
        },
        {
          "name": "stderr",
          "output_type": "stream",
          "text": [
            "\rProcessing  IMG_6790.MOV:   1%|          | 135/14172 [08:18<14:52:05,  3.81s/it]"
          ]
        },
        {
          "name": "stdout",
          "output_type": "stream",
          "text": [
            "\n",
            "0: 384x640 1 person, 1 chair, 3524.8ms\n",
            "Speed: 6.9ms preprocess, 3524.8ms inference, 5.7ms postprocess per image at shape (1, 3, 384, 640)\n"
          ]
        },
        {
          "name": "stderr",
          "output_type": "stream",
          "text": [
            "\rProcessing  IMG_6790.MOV:   1%|          | 136/14172 [08:21<14:44:01,  3.78s/it]"
          ]
        },
        {
          "name": "stdout",
          "output_type": "stream",
          "text": [
            "\n",
            "0: 384x640 1 person, 1 chair, 3088.1ms\n",
            "Speed: 5.4ms preprocess, 3088.1ms inference, 5.7ms postprocess per image at shape (1, 3, 384, 640)\n"
          ]
        },
        {
          "name": "stderr",
          "output_type": "stream",
          "text": [
            "\rProcessing  IMG_6790.MOV:   1%|          | 137/14172 [08:25<14:03:12,  3.60s/it]"
          ]
        },
        {
          "name": "stdout",
          "output_type": "stream",
          "text": [
            "\n",
            "0: 384x640 1 person, 1 chair, 3080.3ms\n",
            "Speed: 4.4ms preprocess, 3080.3ms inference, 5.8ms postprocess per image at shape (1, 3, 384, 640)\n"
          ]
        },
        {
          "name": "stderr",
          "output_type": "stream",
          "text": [
            "\rProcessing  IMG_6790.MOV:   1%|          | 138/14172 [08:28<13:34:09,  3.48s/it]"
          ]
        },
        {
          "name": "stdout",
          "output_type": "stream",
          "text": [
            "\n",
            "0: 384x640 1 person, 1 chair, 4336.6ms\n",
            "Speed: 4.3ms preprocess, 4336.6ms inference, 9.4ms postprocess per image at shape (1, 3, 384, 640)\n"
          ]
        },
        {
          "name": "stderr",
          "output_type": "stream",
          "text": [
            "\rProcessing  IMG_6790.MOV:   1%|          | 139/14172 [08:32<14:42:52,  3.77s/it]"
          ]
        },
        {
          "name": "stdout",
          "output_type": "stream",
          "text": [
            "\n",
            "0: 384x640 1 person, 1 chair, 3650.1ms\n",
            "Speed: 7.9ms preprocess, 3650.1ms inference, 5.8ms postprocess per image at shape (1, 3, 384, 640)\n"
          ]
        },
        {
          "name": "stderr",
          "output_type": "stream",
          "text": [
            "\rProcessing  IMG_6790.MOV:   1%|          | 140/14172 [08:36<14:46:01,  3.79s/it]"
          ]
        },
        {
          "name": "stdout",
          "output_type": "stream",
          "text": [
            "\n",
            "0: 384x640 1 person, 1 chair, 1 scissors, 3116.4ms\n",
            "Speed: 5.3ms preprocess, 3116.4ms inference, 12.2ms postprocess per image at shape (1, 3, 384, 640)\n"
          ]
        },
        {
          "name": "stderr",
          "output_type": "stream",
          "text": [
            "\rProcessing  IMG_6790.MOV:   1%|          | 141/14172 [08:39<14:12:25,  3.65s/it]"
          ]
        },
        {
          "name": "stdout",
          "output_type": "stream",
          "text": [
            "\n",
            "0: 384x640 1 person, 1 chair, 3089.6ms\n",
            "Speed: 4.7ms preprocess, 3089.6ms inference, 5.7ms postprocess per image at shape (1, 3, 384, 640)\n"
          ]
        },
        {
          "name": "stderr",
          "output_type": "stream",
          "text": [
            "\rProcessing  IMG_6790.MOV:   1%|          | 142/14172 [08:43<13:41:22,  3.51s/it]"
          ]
        },
        {
          "name": "stdout",
          "output_type": "stream",
          "text": [
            "\n",
            "0: 384x640 1 person, 1 chair, 4366.4ms\n",
            "Speed: 4.6ms preprocess, 4366.4ms inference, 9.0ms postprocess per image at shape (1, 3, 384, 640)\n"
          ]
        },
        {
          "name": "stderr",
          "output_type": "stream",
          "text": [
            "\rProcessing  IMG_6790.MOV:   1%|          | 143/14172 [08:47<14:50:13,  3.81s/it]"
          ]
        },
        {
          "name": "stdout",
          "output_type": "stream",
          "text": [
            "\n",
            "0: 384x640 1 person, 1 chair, 3644.0ms\n",
            "Speed: 4.0ms preprocess, 3644.0ms inference, 6.2ms postprocess per image at shape (1, 3, 384, 640)\n"
          ]
        },
        {
          "name": "stderr",
          "output_type": "stream",
          "text": [
            "\rProcessing  IMG_6790.MOV:   1%|          | 144/14172 [08:51<14:49:40,  3.81s/it]"
          ]
        },
        {
          "name": "stdout",
          "output_type": "stream",
          "text": [
            "\n",
            "0: 384x640 1 person, 1 chair, 3071.7ms\n",
            "Speed: 5.2ms preprocess, 3071.7ms inference, 5.8ms postprocess per image at shape (1, 3, 384, 640)\n"
          ]
        },
        {
          "name": "stderr",
          "output_type": "stream",
          "text": [
            "\rProcessing  IMG_6790.MOV:   1%|          | 145/14172 [08:54<14:05:40,  3.62s/it]"
          ]
        },
        {
          "name": "stdout",
          "output_type": "stream",
          "text": [
            "\n",
            "0: 384x640 1 person, 1 chair, 3077.7ms\n",
            "Speed: 3.5ms preprocess, 3077.7ms inference, 5.7ms postprocess per image at shape (1, 3, 384, 640)\n"
          ]
        },
        {
          "name": "stderr",
          "output_type": "stream",
          "text": [
            "\rProcessing  IMG_6790.MOV:   1%|          | 146/14172 [08:57<13:35:45,  3.49s/it]"
          ]
        },
        {
          "name": "stdout",
          "output_type": "stream",
          "text": [
            "\n",
            "0: 384x640 1 person, 1 chair, 4280.6ms\n",
            "Speed: 5.3ms preprocess, 4280.6ms inference, 7.8ms postprocess per image at shape (1, 3, 384, 640)\n"
          ]
        },
        {
          "name": "stderr",
          "output_type": "stream",
          "text": [
            "\rProcessing  IMG_6790.MOV:   1%|          | 147/14172 [09:02<14:39:58,  3.76s/it]"
          ]
        },
        {
          "name": "stdout",
          "output_type": "stream",
          "text": [
            "\n",
            "0: 384x640 1 chair, 3720.2ms\n",
            "Speed: 3.9ms preprocess, 3720.2ms inference, 3.6ms postprocess per image at shape (1, 3, 384, 640)\n"
          ]
        },
        {
          "name": "stderr",
          "output_type": "stream",
          "text": [
            "\rProcessing  IMG_6790.MOV:   1%|          | 148/14172 [09:05<14:47:33,  3.80s/it]"
          ]
        },
        {
          "name": "stdout",
          "output_type": "stream",
          "text": [
            "\n",
            "0: 384x640 (no detections), 3092.5ms\n",
            "Speed: 4.7ms preprocess, 3092.5ms inference, 0.6ms postprocess per image at shape (1, 3, 384, 640)\n"
          ]
        },
        {
          "name": "stderr",
          "output_type": "stream",
          "text": [
            "\rProcessing  IMG_6790.MOV:   1%|          | 149/14172 [09:09<14:04:58,  3.62s/it]"
          ]
        },
        {
          "name": "stdout",
          "output_type": "stream",
          "text": [
            "\n",
            "0: 384x640 1 person, 1 chair, 3081.6ms\n",
            "Speed: 4.4ms preprocess, 3081.6ms inference, 7.6ms postprocess per image at shape (1, 3, 384, 640)\n"
          ]
        },
        {
          "name": "stderr",
          "output_type": "stream",
          "text": [
            "\rProcessing  IMG_6790.MOV:   1%|          | 150/14172 [09:12<13:35:52,  3.49s/it]"
          ]
        },
        {
          "name": "stdout",
          "output_type": "stream",
          "text": [
            "\n",
            "0: 384x640 1 person, 1 chair, 4195.4ms\n",
            "Speed: 3.7ms preprocess, 4195.4ms inference, 9.0ms postprocess per image at shape (1, 3, 384, 640)\n"
          ]
        },
        {
          "name": "stderr",
          "output_type": "stream",
          "text": [
            "\rProcessing  IMG_6790.MOV:   1%|          | 151/14172 [09:16<14:33:36,  3.74s/it]"
          ]
        },
        {
          "name": "stdout",
          "output_type": "stream",
          "text": [
            "\n",
            "0: 384x640 1 person, 1 chair, 3786.8ms\n",
            "Speed: 3.8ms preprocess, 3786.8ms inference, 5.7ms postprocess per image at shape (1, 3, 384, 640)\n"
          ]
        },
        {
          "name": "stderr",
          "output_type": "stream",
          "text": [
            "\rProcessing  IMG_6790.MOV:   1%|          | 152/14172 [09:20<14:48:31,  3.80s/it]"
          ]
        },
        {
          "name": "stdout",
          "output_type": "stream",
          "text": [
            "\n",
            "0: 384x640 1 chair, 3086.3ms\n",
            "Speed: 3.7ms preprocess, 3086.3ms inference, 3.8ms postprocess per image at shape (1, 3, 384, 640)\n"
          ]
        },
        {
          "name": "stderr",
          "output_type": "stream",
          "text": [
            "\rProcessing  IMG_6790.MOV:   1%|          | 153/14172 [09:23<14:05:30,  3.62s/it]"
          ]
        },
        {
          "name": "stdout",
          "output_type": "stream",
          "text": [
            "\n",
            "0: 384x640 1 person, 1 chair, 3079.4ms\n",
            "Speed: 3.6ms preprocess, 3079.4ms inference, 5.6ms postprocess per image at shape (1, 3, 384, 640)\n"
          ]
        },
        {
          "name": "stderr",
          "output_type": "stream",
          "text": [
            "\rProcessing  IMG_6790.MOV:   1%|          | 154/14172 [09:27<13:35:29,  3.49s/it]"
          ]
        },
        {
          "name": "stdout",
          "output_type": "stream",
          "text": [
            "\n",
            "0: 384x640 1 person, 1 chair, 4088.6ms\n",
            "Speed: 4.4ms preprocess, 4088.6ms inference, 9.3ms postprocess per image at shape (1, 3, 384, 640)\n"
          ]
        },
        {
          "name": "stderr",
          "output_type": "stream",
          "text": [
            "\rProcessing  IMG_6790.MOV:   1%|          | 155/14172 [09:31<14:26:15,  3.71s/it]"
          ]
        },
        {
          "name": "stdout",
          "output_type": "stream",
          "text": [
            "\n",
            "0: 384x640 1 person, 1 chair, 3897.3ms\n",
            "Speed: 3.9ms preprocess, 3897.3ms inference, 5.8ms postprocess per image at shape (1, 3, 384, 640)\n"
          ]
        },
        {
          "name": "stderr",
          "output_type": "stream",
          "text": [
            "\rProcessing  IMG_6790.MOV:   1%|          | 156/14172 [09:35<14:50:37,  3.81s/it]"
          ]
        },
        {
          "name": "stdout",
          "output_type": "stream",
          "text": [
            "\n",
            "0: 384x640 1 person, 3088.2ms\n",
            "Speed: 3.7ms preprocess, 3088.2ms inference, 4.9ms postprocess per image at shape (1, 3, 384, 640)\n"
          ]
        },
        {
          "name": "stderr",
          "output_type": "stream",
          "text": [
            "\rProcessing  IMG_6790.MOV:   1%|          | 157/14172 [09:38<14:07:15,  3.63s/it]"
          ]
        },
        {
          "name": "stdout",
          "output_type": "stream",
          "text": [
            "\n",
            "0: 384x640 1 person, 1 chair, 3109.8ms\n",
            "Speed: 5.6ms preprocess, 3109.8ms inference, 5.8ms postprocess per image at shape (1, 3, 384, 640)\n"
          ]
        },
        {
          "name": "stderr",
          "output_type": "stream",
          "text": [
            "\rProcessing  IMG_6790.MOV:   1%|          | 158/14172 [09:41<13:39:27,  3.51s/it]"
          ]
        },
        {
          "name": "stdout",
          "output_type": "stream",
          "text": [
            "\n",
            "0: 384x640 1 chair, 4028.8ms\n",
            "Speed: 5.9ms preprocess, 4028.8ms inference, 5.3ms postprocess per image at shape (1, 3, 384, 640)\n"
          ]
        },
        {
          "name": "stderr",
          "output_type": "stream",
          "text": [
            "\rProcessing  IMG_6790.MOV:   1%|          | 159/14172 [09:45<14:23:49,  3.70s/it]"
          ]
        },
        {
          "name": "stdout",
          "output_type": "stream",
          "text": [
            "\n",
            "0: 384x640 1 person, 1 chair, 3951.9ms\n",
            "Speed: 7.0ms preprocess, 3951.9ms inference, 5.7ms postprocess per image at shape (1, 3, 384, 640)\n"
          ]
        },
        {
          "name": "stderr",
          "output_type": "stream",
          "text": [
            "\rProcessing  IMG_6790.MOV:   1%|          | 160/14172 [09:49<14:53:09,  3.82s/it]"
          ]
        },
        {
          "name": "stdout",
          "output_type": "stream",
          "text": [
            "\n",
            "0: 384x640 1 person, 1 chair, 3087.5ms\n",
            "Speed: 6.0ms preprocess, 3087.5ms inference, 5.7ms postprocess per image at shape (1, 3, 384, 640)\n"
          ]
        },
        {
          "name": "stderr",
          "output_type": "stream",
          "text": [
            "\rProcessing  IMG_6790.MOV:   1%|          | 161/14172 [09:53<14:09:22,  3.64s/it]"
          ]
        },
        {
          "name": "stdout",
          "output_type": "stream",
          "text": [
            "\n",
            "0: 384x640 1 person, 1 chair, 3082.6ms\n",
            "Speed: 4.2ms preprocess, 3082.6ms inference, 5.8ms postprocess per image at shape (1, 3, 384, 640)\n"
          ]
        },
        {
          "name": "stderr",
          "output_type": "stream",
          "text": [
            "\rProcessing  IMG_6790.MOV:   1%|          | 162/14172 [09:56<13:38:31,  3.51s/it]"
          ]
        },
        {
          "name": "stdout",
          "output_type": "stream",
          "text": [
            "\n",
            "0: 384x640 1 person, 1 chair, 3947.9ms\n",
            "Speed: 4.9ms preprocess, 3947.9ms inference, 9.4ms postprocess per image at shape (1, 3, 384, 640)\n"
          ]
        },
        {
          "name": "stderr",
          "output_type": "stream",
          "text": [
            "\rProcessing  IMG_6790.MOV:   1%|          | 163/14172 [10:00<14:17:52,  3.67s/it]"
          ]
        },
        {
          "name": "stdout",
          "output_type": "stream",
          "text": [
            "\n",
            "0: 384x640 1 person, 1 chair, 4084.0ms\n",
            "Speed: 5.7ms preprocess, 4084.0ms inference, 6.0ms postprocess per image at shape (1, 3, 384, 640)\n"
          ]
        },
        {
          "name": "stderr",
          "output_type": "stream",
          "text": [
            "\rProcessing  IMG_6790.MOV:   1%|          | 164/14172 [10:04<14:56:46,  3.84s/it]"
          ]
        },
        {
          "name": "stdout",
          "output_type": "stream",
          "text": [
            "\n",
            "0: 384x640 1 person, 3076.8ms\n",
            "Speed: 6.5ms preprocess, 3076.8ms inference, 3.6ms postprocess per image at shape (1, 3, 384, 640)\n"
          ]
        },
        {
          "name": "stderr",
          "output_type": "stream",
          "text": [
            "\rProcessing  IMG_6790.MOV:   1%|          | 165/14172 [10:07<14:10:47,  3.64s/it]"
          ]
        },
        {
          "name": "stdout",
          "output_type": "stream",
          "text": [
            "\n",
            "0: 384x640 1 person, 3105.0ms\n",
            "Speed: 4.7ms preprocess, 3105.0ms inference, 3.6ms postprocess per image at shape (1, 3, 384, 640)\n"
          ]
        },
        {
          "name": "stderr",
          "output_type": "stream",
          "text": [
            "\rProcessing  IMG_6790.MOV:   1%|          | 166/14172 [10:11<13:40:05,  3.51s/it]"
          ]
        },
        {
          "name": "stdout",
          "output_type": "stream",
          "text": [
            "\n",
            "0: 384x640 1 person, 3922.4ms\n",
            "Speed: 3.7ms preprocess, 3922.4ms inference, 7.5ms postprocess per image at shape (1, 3, 384, 640)\n"
          ]
        },
        {
          "name": "stderr",
          "output_type": "stream",
          "text": [
            "\rProcessing  IMG_6790.MOV:   1%|          | 167/14172 [10:15<14:16:54,  3.67s/it]"
          ]
        },
        {
          "name": "stdout",
          "output_type": "stream",
          "text": [
            "\n",
            "0: 384x640 1 person, 4063.2ms\n",
            "Speed: 8.4ms preprocess, 4063.2ms inference, 3.7ms postprocess per image at shape (1, 3, 384, 640)\n"
          ]
        },
        {
          "name": "stderr",
          "output_type": "stream",
          "text": [
            "\rProcessing  IMG_6790.MOV:   1%|          | 168/14172 [10:19<14:56:07,  3.84s/it]"
          ]
        },
        {
          "name": "stdout",
          "output_type": "stream",
          "text": [
            "\n",
            "0: 384x640 1 person, 3087.8ms\n",
            "Speed: 6.7ms preprocess, 3087.8ms inference, 4.1ms postprocess per image at shape (1, 3, 384, 640)\n"
          ]
        },
        {
          "name": "stderr",
          "output_type": "stream",
          "text": [
            "\rProcessing  IMG_6790.MOV:   1%|          | 169/14172 [10:22<14:11:10,  3.65s/it]"
          ]
        },
        {
          "name": "stdout",
          "output_type": "stream",
          "text": [
            "\n",
            "0: 384x640 2 persons, 3080.8ms\n",
            "Speed: 6.9ms preprocess, 3080.8ms inference, 9.2ms postprocess per image at shape (1, 3, 384, 640)\n"
          ]
        },
        {
          "name": "stderr",
          "output_type": "stream",
          "text": [
            "\rProcessing  IMG_6790.MOV:   1%|          | 170/14172 [10:25<13:40:50,  3.52s/it]"
          ]
        },
        {
          "name": "stdout",
          "output_type": "stream",
          "text": [
            "\n",
            "0: 384x640 2 persons, 3834.8ms\n",
            "Speed: 6.4ms preprocess, 3834.8ms inference, 9.0ms postprocess per image at shape (1, 3, 384, 640)\n"
          ]
        },
        {
          "name": "stderr",
          "output_type": "stream",
          "text": [
            "\rProcessing  IMG_6790.MOV:   1%|          | 171/14172 [10:29<14:12:03,  3.65s/it]"
          ]
        },
        {
          "name": "stdout",
          "output_type": "stream",
          "text": [
            "\n",
            "0: 384x640 2 persons, 4130.2ms\n",
            "Speed: 4.2ms preprocess, 4130.2ms inference, 5.9ms postprocess per image at shape (1, 3, 384, 640)\n"
          ]
        },
        {
          "name": "stderr",
          "output_type": "stream",
          "text": [
            "\rProcessing  IMG_6790.MOV:   1%|          | 172/14172 [10:34<14:56:52,  3.84s/it]"
          ]
        },
        {
          "name": "stdout",
          "output_type": "stream",
          "text": [
            "\n",
            "0: 384x640 2 persons, 3152.0ms\n",
            "Speed: 3.8ms preprocess, 3152.0ms inference, 5.9ms postprocess per image at shape (1, 3, 384, 640)\n"
          ]
        },
        {
          "name": "stderr",
          "output_type": "stream",
          "text": [
            "\rProcessing  IMG_6790.MOV:   1%|          | 173/14172 [10:37<14:16:36,  3.67s/it]"
          ]
        },
        {
          "name": "stdout",
          "output_type": "stream",
          "text": [
            "\n",
            "0: 384x640 2 persons, 3104.6ms\n",
            "Speed: 4.3ms preprocess, 3104.6ms inference, 5.8ms postprocess per image at shape (1, 3, 384, 640)\n"
          ]
        },
        {
          "name": "stderr",
          "output_type": "stream",
          "text": [
            "\rProcessing  IMG_6790.MOV:   1%|          | 174/14172 [10:40<13:45:01,  3.54s/it]"
          ]
        },
        {
          "name": "stdout",
          "output_type": "stream",
          "text": [
            "\n",
            "0: 384x640 2 persons, 3816.3ms\n",
            "Speed: 5.6ms preprocess, 3816.3ms inference, 8.9ms postprocess per image at shape (1, 3, 384, 640)\n"
          ]
        },
        {
          "name": "stderr",
          "output_type": "stream",
          "text": [
            "\rProcessing  IMG_6790.MOV:   1%|          | 175/14172 [10:44<14:14:09,  3.66s/it]"
          ]
        },
        {
          "name": "stdout",
          "output_type": "stream",
          "text": [
            "\n",
            "0: 384x640 2 persons, 4121.6ms\n",
            "Speed: 6.1ms preprocess, 4121.6ms inference, 9.1ms postprocess per image at shape (1, 3, 384, 640)\n"
          ]
        },
        {
          "name": "stderr",
          "output_type": "stream",
          "text": [
            "\rProcessing  IMG_6790.MOV:   1%|          | 176/14172 [10:48<14:59:58,  3.86s/it]"
          ]
        },
        {
          "name": "stdout",
          "output_type": "stream",
          "text": [
            "\n",
            "0: 384x640 2 persons, 3090.6ms\n",
            "Speed: 3.7ms preprocess, 3090.6ms inference, 5.8ms postprocess per image at shape (1, 3, 384, 640)\n"
          ]
        },
        {
          "name": "stderr",
          "output_type": "stream",
          "text": [
            "\rProcessing  IMG_6790.MOV:   1%|          | 177/14172 [10:52<14:15:34,  3.67s/it]"
          ]
        },
        {
          "name": "stdout",
          "output_type": "stream",
          "text": [
            "\n",
            "0: 384x640 1 person, 3096.7ms\n",
            "Speed: 4.2ms preprocess, 3096.7ms inference, 3.5ms postprocess per image at shape (1, 3, 384, 640)\n"
          ]
        },
        {
          "name": "stderr",
          "output_type": "stream",
          "text": [
            "\rProcessing  IMG_6790.MOV:   1%|▏         | 178/14172 [10:55<13:42:48,  3.53s/it]"
          ]
        },
        {
          "name": "stdout",
          "output_type": "stream",
          "text": [
            "\n",
            "0: 384x640 1 person, 3702.2ms\n",
            "Speed: 4.1ms preprocess, 3702.2ms inference, 5.7ms postprocess per image at shape (1, 3, 384, 640)\n"
          ]
        },
        {
          "name": "stderr",
          "output_type": "stream",
          "text": [
            "\rProcessing  IMG_6790.MOV:   1%|▏         | 179/14172 [10:59<14:03:13,  3.62s/it]"
          ]
        },
        {
          "name": "stdout",
          "output_type": "stream",
          "text": [
            "\n",
            "0: 384x640 1 person, 4223.1ms\n",
            "Speed: 7.0ms preprocess, 4223.1ms inference, 4.2ms postprocess per image at shape (1, 3, 384, 640)\n"
          ]
        },
        {
          "name": "stderr",
          "output_type": "stream",
          "text": [
            "\rProcessing  IMG_6790.MOV:   1%|▏         | 180/14172 [11:03<14:59:59,  3.86s/it]"
          ]
        },
        {
          "name": "stdout",
          "output_type": "stream",
          "text": [
            "\n",
            "0: 384x640 2 persons, 3124.3ms\n",
            "Speed: 3.9ms preprocess, 3124.3ms inference, 5.9ms postprocess per image at shape (1, 3, 384, 640)\n"
          ]
        },
        {
          "name": "stderr",
          "output_type": "stream",
          "text": [
            "\rProcessing  IMG_6790.MOV:   1%|▏         | 181/14172 [11:06<14:16:33,  3.67s/it]"
          ]
        },
        {
          "name": "stdout",
          "output_type": "stream",
          "text": [
            "\n",
            "0: 384x640 2 persons, 3092.8ms\n",
            "Speed: 5.0ms preprocess, 3092.8ms inference, 5.7ms postprocess per image at shape (1, 3, 384, 640)\n"
          ]
        },
        {
          "name": "stderr",
          "output_type": "stream",
          "text": [
            "\rProcessing  IMG_6790.MOV:   1%|▏         | 182/14172 [11:09<13:43:52,  3.53s/it]"
          ]
        },
        {
          "name": "stdout",
          "output_type": "stream",
          "text": [
            "\n",
            "0: 384x640 2 persons, 3675.2ms\n",
            "Speed: 3.7ms preprocess, 3675.2ms inference, 13.8ms postprocess per image at shape (1, 3, 384, 640)\n"
          ]
        },
        {
          "name": "stderr",
          "output_type": "stream",
          "text": [
            "\rProcessing  IMG_6790.MOV:   1%|▏         | 183/14172 [11:13<14:02:14,  3.61s/it]"
          ]
        },
        {
          "name": "stdout",
          "output_type": "stream",
          "text": [
            "\n",
            "0: 384x640 2 persons, 4251.9ms\n",
            "Speed: 5.3ms preprocess, 4251.9ms inference, 5.8ms postprocess per image at shape (1, 3, 384, 640)\n"
          ]
        },
        {
          "name": "stderr",
          "output_type": "stream",
          "text": [
            "\rProcessing  IMG_6790.MOV:   1%|▏         | 184/14172 [11:18<14:59:29,  3.86s/it]"
          ]
        },
        {
          "name": "stdout",
          "output_type": "stream",
          "text": [
            "\n",
            "0: 384x640 (no detections), 3111.7ms\n",
            "Speed: 4.5ms preprocess, 3111.7ms inference, 0.6ms postprocess per image at shape (1, 3, 384, 640)\n"
          ]
        },
        {
          "name": "stderr",
          "output_type": "stream",
          "text": [
            "\rProcessing  IMG_6790.MOV:   1%|▏         | 185/14172 [11:21<14:14:07,  3.66s/it]"
          ]
        },
        {
          "name": "stdout",
          "output_type": "stream",
          "text": [
            "\n",
            "0: 384x640 (no detections), 3075.3ms\n",
            "Speed: 3.9ms preprocess, 3075.3ms inference, 0.6ms postprocess per image at shape (1, 3, 384, 640)\n"
          ]
        },
        {
          "name": "stderr",
          "output_type": "stream",
          "text": [
            "\rProcessing  IMG_6790.MOV:   1%|▏         | 186/14172 [11:24<13:39:43,  3.52s/it]"
          ]
        },
        {
          "name": "stdout",
          "output_type": "stream",
          "text": [
            "\n",
            "0: 384x640 (no detections), 3561.7ms\n",
            "Speed: 3.6ms preprocess, 3561.7ms inference, 1.0ms postprocess per image at shape (1, 3, 384, 640)\n"
          ]
        },
        {
          "name": "stderr",
          "output_type": "stream",
          "text": [
            "\rProcessing  IMG_6790.MOV:   1%|▏         | 187/14172 [11:28<13:50:28,  3.56s/it]"
          ]
        },
        {
          "name": "stdout",
          "output_type": "stream",
          "text": [
            "\n",
            "0: 384x640 (no detections), 4399.3ms\n",
            "Speed: 3.9ms preprocess, 4399.3ms inference, 0.7ms postprocess per image at shape (1, 3, 384, 640)\n"
          ]
        },
        {
          "name": "stderr",
          "output_type": "stream",
          "text": [
            "\rProcessing  IMG_6790.MOV:   1%|▏         | 188/14172 [11:32<15:00:43,  3.86s/it]"
          ]
        },
        {
          "name": "stdout",
          "output_type": "stream",
          "text": [
            "\n",
            "0: 384x640 (no detections), 3118.5ms\n",
            "Speed: 5.4ms preprocess, 3118.5ms inference, 0.6ms postprocess per image at shape (1, 3, 384, 640)\n"
          ]
        },
        {
          "name": "stderr",
          "output_type": "stream",
          "text": [
            "\rProcessing  IMG_6790.MOV:   1%|▏         | 189/14172 [11:35<14:15:35,  3.67s/it]"
          ]
        },
        {
          "name": "stdout",
          "output_type": "stream",
          "text": [
            "\n",
            "0: 384x640 (no detections), 3072.8ms\n",
            "Speed: 6.3ms preprocess, 3072.8ms inference, 0.7ms postprocess per image at shape (1, 3, 384, 640)\n"
          ]
        },
        {
          "name": "stderr",
          "output_type": "stream",
          "text": [
            "\rProcessing  IMG_6790.MOV:   1%|▏         | 190/14172 [11:39<13:40:56,  3.52s/it]"
          ]
        },
        {
          "name": "stdout",
          "output_type": "stream",
          "text": [
            "\n",
            "0: 384x640 (no detections), 3446.8ms\n",
            "Speed: 4.8ms preprocess, 3446.8ms inference, 0.8ms postprocess per image at shape (1, 3, 384, 640)\n"
          ]
        },
        {
          "name": "stderr",
          "output_type": "stream",
          "text": [
            "\rProcessing  IMG_6790.MOV:   1%|▏         | 191/14172 [11:42<13:43:06,  3.53s/it]"
          ]
        },
        {
          "name": "stdout",
          "output_type": "stream",
          "text": [
            "\n",
            "0: 384x640 (no detections), 4498.1ms\n",
            "Speed: 9.1ms preprocess, 4498.1ms inference, 0.6ms postprocess per image at shape (1, 3, 384, 640)\n"
          ]
        },
        {
          "name": "stderr",
          "output_type": "stream",
          "text": [
            "\rProcessing  IMG_6790.MOV:   1%|▏         | 192/14172 [11:47<15:01:36,  3.87s/it]"
          ]
        },
        {
          "name": "stdout",
          "output_type": "stream",
          "text": [
            "\n",
            "0: 384x640 (no detections), 3091.2ms\n",
            "Speed: 3.9ms preprocess, 3091.2ms inference, 0.6ms postprocess per image at shape (1, 3, 384, 640)\n"
          ]
        },
        {
          "name": "stderr",
          "output_type": "stream",
          "text": [
            "\rProcessing  IMG_6790.MOV:   1%|▏         | 193/14172 [11:50<14:13:53,  3.67s/it]"
          ]
        },
        {
          "name": "stdout",
          "output_type": "stream",
          "text": [
            "\n",
            "0: 384x640 (no detections), 3077.4ms\n",
            "Speed: 3.7ms preprocess, 3077.4ms inference, 0.7ms postprocess per image at shape (1, 3, 384, 640)\n"
          ]
        },
        {
          "name": "stderr",
          "output_type": "stream",
          "text": [
            "\rProcessing  IMG_6790.MOV:   1%|▏         | 194/14172 [11:53<13:39:45,  3.52s/it]"
          ]
        },
        {
          "name": "stdout",
          "output_type": "stream",
          "text": [
            "\n",
            "0: 384x640 (no detections), 3270.3ms\n",
            "Speed: 4.6ms preprocess, 3270.3ms inference, 0.8ms postprocess per image at shape (1, 3, 384, 640)\n"
          ]
        },
        {
          "name": "stderr",
          "output_type": "stream",
          "text": [
            "\rProcessing  IMG_6790.MOV:   1%|▏         | 195/14172 [11:57<13:29:58,  3.48s/it]"
          ]
        },
        {
          "name": "stdout",
          "output_type": "stream",
          "text": [
            "\n",
            "0: 384x640 1 person, 4669.6ms\n",
            "Speed: 4.0ms preprocess, 4669.6ms inference, 3.6ms postprocess per image at shape (1, 3, 384, 640)\n"
          ]
        },
        {
          "name": "stderr",
          "output_type": "stream",
          "text": [
            "\rProcessing  IMG_6790.MOV:   1%|▏         | 196/14172 [12:01<15:03:55,  3.88s/it]"
          ]
        },
        {
          "name": "stdout",
          "output_type": "stream",
          "text": [
            "\n",
            "0: 384x640 1 person, 3121.2ms\n",
            "Speed: 3.7ms preprocess, 3121.2ms inference, 4.3ms postprocess per image at shape (1, 3, 384, 640)\n"
          ]
        },
        {
          "name": "stderr",
          "output_type": "stream",
          "text": [
            "\rProcessing  IMG_6790.MOV:   1%|▏         | 197/14172 [12:05<14:19:50,  3.69s/it]"
          ]
        },
        {
          "name": "stdout",
          "output_type": "stream",
          "text": [
            "\n",
            "0: 384x640 1 person, 3090.4ms\n",
            "Speed: 4.4ms preprocess, 3090.4ms inference, 3.6ms postprocess per image at shape (1, 3, 384, 640)\n"
          ]
        },
        {
          "name": "stderr",
          "output_type": "stream",
          "text": [
            "\rProcessing  IMG_6790.MOV:   1%|▏         | 198/14172 [12:08<13:45:06,  3.54s/it]"
          ]
        },
        {
          "name": "stdout",
          "output_type": "stream",
          "text": [
            "\n",
            "0: 384x640 1 person, 3230.9ms\n",
            "Speed: 5.3ms preprocess, 3230.9ms inference, 5.7ms postprocess per image at shape (1, 3, 384, 640)\n"
          ]
        },
        {
          "name": "stderr",
          "output_type": "stream",
          "text": [
            "\rProcessing  IMG_6790.MOV:   1%|▏         | 199/14172 [12:11<13:30:38,  3.48s/it]"
          ]
        },
        {
          "name": "stdout",
          "output_type": "stream",
          "text": [
            "\n",
            "0: 384x640 1 person, 4746.7ms\n",
            "Speed: 3.7ms preprocess, 4746.7ms inference, 4.1ms postprocess per image at shape (1, 3, 384, 640)\n"
          ]
        },
        {
          "name": "stderr",
          "output_type": "stream",
          "text": [
            "\rProcessing  IMG_6790.MOV:   1%|▏         | 200/14172 [12:16<15:08:45,  3.90s/it]"
          ]
        },
        {
          "name": "stdout",
          "output_type": "stream",
          "text": [
            "\n",
            "0: 384x640 1 person, 3085.2ms\n",
            "Speed: 4.8ms preprocess, 3085.2ms inference, 3.7ms postprocess per image at shape (1, 3, 384, 640)\n"
          ]
        },
        {
          "name": "stderr",
          "output_type": "stream",
          "text": [
            "\rProcessing  IMG_6790.MOV:   1%|▏         | 201/14172 [12:19<14:19:04,  3.69s/it]"
          ]
        },
        {
          "name": "stdout",
          "output_type": "stream",
          "text": [
            "\n",
            "0: 384x640 1 person, 3086.3ms\n",
            "Speed: 4.7ms preprocess, 3086.3ms inference, 3.6ms postprocess per image at shape (1, 3, 384, 640)\n"
          ]
        },
        {
          "name": "stderr",
          "output_type": "stream",
          "text": [
            "\rProcessing  IMG_6790.MOV:   1%|▏         | 202/14172 [12:22<13:43:50,  3.54s/it]"
          ]
        },
        {
          "name": "stdout",
          "output_type": "stream",
          "text": [
            "\n",
            "0: 384x640 1 person, 3100.6ms\n",
            "Speed: 4.5ms preprocess, 3100.6ms inference, 5.6ms postprocess per image at shape (1, 3, 384, 640)\n"
          ]
        },
        {
          "name": "stderr",
          "output_type": "stream",
          "text": [
            "\rProcessing  IMG_6790.MOV:   1%|▏         | 203/14172 [12:26<13:20:38,  3.44s/it]"
          ]
        },
        {
          "name": "stdout",
          "output_type": "stream",
          "text": [
            "\n",
            "0: 384x640 1 person, 4835.4ms\n",
            "Speed: 6.1ms preprocess, 4835.4ms inference, 4.8ms postprocess per image at shape (1, 3, 384, 640)\n"
          ]
        },
        {
          "name": "stderr",
          "output_type": "stream",
          "text": [
            "\rProcessing  IMG_6790.MOV:   1%|▏         | 204/14172 [12:31<15:07:47,  3.90s/it]"
          ]
        },
        {
          "name": "stdout",
          "output_type": "stream",
          "text": [
            "\n",
            "0: 384x640 1 person, 3071.7ms\n",
            "Speed: 6.3ms preprocess, 3071.7ms inference, 3.6ms postprocess per image at shape (1, 3, 384, 640)\n"
          ]
        },
        {
          "name": "stderr",
          "output_type": "stream",
          "text": [
            "\rProcessing  IMG_6790.MOV:   1%|▏         | 205/14172 [12:34<14:16:51,  3.68s/it]"
          ]
        },
        {
          "name": "stdout",
          "output_type": "stream",
          "text": [
            "\n",
            "0: 384x640 1 person, 3120.4ms\n",
            "Speed: 4.6ms preprocess, 3120.4ms inference, 3.6ms postprocess per image at shape (1, 3, 384, 640)\n"
          ]
        },
        {
          "name": "stderr",
          "output_type": "stream",
          "text": [
            "\rProcessing  IMG_6790.MOV:   1%|▏         | 206/14172 [12:37<13:45:04,  3.54s/it]"
          ]
        },
        {
          "name": "stdout",
          "output_type": "stream",
          "text": [
            "\n",
            "0: 384x640 2 persons, 3095.1ms\n",
            "Speed: 4.3ms preprocess, 3095.1ms inference, 5.8ms postprocess per image at shape (1, 3, 384, 640)\n"
          ]
        },
        {
          "name": "stderr",
          "output_type": "stream",
          "text": [
            "\rProcessing  IMG_6790.MOV:   1%|▏         | 207/14172 [12:40<13:21:16,  3.44s/it]"
          ]
        },
        {
          "name": "stdout",
          "output_type": "stream",
          "text": [
            "\n",
            "0: 384x640 2 persons, 4957.9ms\n",
            "Speed: 3.8ms preprocess, 4957.9ms inference, 5.8ms postprocess per image at shape (1, 3, 384, 640)\n"
          ]
        },
        {
          "name": "stderr",
          "output_type": "stream",
          "text": [
            "\rProcessing  IMG_6790.MOV:   1%|▏         | 208/14172 [12:45<15:15:30,  3.93s/it]"
          ]
        },
        {
          "name": "stdout",
          "output_type": "stream",
          "text": [
            "\n",
            "0: 384x640 2 persons, 3090.0ms\n",
            "Speed: 4.7ms preprocess, 3090.0ms inference, 6.1ms postprocess per image at shape (1, 3, 384, 640)\n"
          ]
        },
        {
          "name": "stderr",
          "output_type": "stream",
          "text": [
            "\rProcessing  IMG_6790.MOV:   1%|▏         | 209/14172 [12:49<14:24:21,  3.71s/it]"
          ]
        },
        {
          "name": "stdout",
          "output_type": "stream",
          "text": [
            "\n",
            "0: 384x640 2 persons, 3071.9ms\n",
            "Speed: 4.1ms preprocess, 3071.9ms inference, 5.8ms postprocess per image at shape (1, 3, 384, 640)\n"
          ]
        },
        {
          "name": "stderr",
          "output_type": "stream",
          "text": [
            "\rProcessing  IMG_6790.MOV:   1%|▏         | 210/14172 [12:52<13:47:02,  3.55s/it]"
          ]
        },
        {
          "name": "stdout",
          "output_type": "stream",
          "text": [
            "\n",
            "0: 384x640 2 persons, 3070.3ms\n",
            "Speed: 6.4ms preprocess, 3070.3ms inference, 6.1ms postprocess per image at shape (1, 3, 384, 640)\n"
          ]
        },
        {
          "name": "stderr",
          "output_type": "stream",
          "text": [
            "\rProcessing  IMG_6790.MOV:   1%|▏         | 211/14172 [12:55<13:21:01,  3.44s/it]"
          ]
        },
        {
          "name": "stdout",
          "output_type": "stream",
          "text": [
            "\n",
            "0: 384x640 2 persons, 4935.8ms\n",
            "Speed: 5.2ms preprocess, 4935.8ms inference, 9.1ms postprocess per image at shape (1, 3, 384, 640)\n"
          ]
        },
        {
          "name": "stderr",
          "output_type": "stream",
          "text": [
            "\rProcessing  IMG_6790.MOV:   1%|▏         | 212/14172 [13:00<15:13:38,  3.93s/it]"
          ]
        },
        {
          "name": "stdout",
          "output_type": "stream",
          "text": [
            "\n",
            "0: 384x640 2 persons, 3099.6ms\n",
            "Speed: 3.9ms preprocess, 3099.6ms inference, 5.9ms postprocess per image at shape (1, 3, 384, 640)\n"
          ]
        },
        {
          "name": "stderr",
          "output_type": "stream",
          "text": [
            "\rProcessing  IMG_6790.MOV:   2%|▏         | 213/14172 [13:03<14:25:42,  3.72s/it]"
          ]
        },
        {
          "name": "stdout",
          "output_type": "stream",
          "text": [
            "\n",
            "0: 384x640 2 persons, 3108.3ms\n",
            "Speed: 7.7ms preprocess, 3108.3ms inference, 6.2ms postprocess per image at shape (1, 3, 384, 640)\n"
          ]
        },
        {
          "name": "stderr",
          "output_type": "stream",
          "text": [
            "\rProcessing  IMG_6790.MOV:   2%|▏         | 214/14172 [13:06<13:50:42,  3.57s/it]"
          ]
        },
        {
          "name": "stdout",
          "output_type": "stream",
          "text": [
            "\n",
            "0: 384x640 2 persons, 3103.6ms\n",
            "Speed: 3.8ms preprocess, 3103.6ms inference, 5.8ms postprocess per image at shape (1, 3, 384, 640)\n"
          ]
        },
        {
          "name": "stderr",
          "output_type": "stream",
          "text": [
            "\rProcessing  IMG_6790.MOV:   2%|▏         | 215/14172 [13:10<13:25:58,  3.46s/it]"
          ]
        },
        {
          "name": "stdout",
          "output_type": "stream",
          "text": [
            "\n",
            "0: 384x640 2 persons, 4800.2ms\n",
            "Speed: 5.2ms preprocess, 4800.2ms inference, 8.9ms postprocess per image at shape (1, 3, 384, 640)\n"
          ]
        },
        {
          "name": "stderr",
          "output_type": "stream",
          "text": [
            "\rProcessing  IMG_6790.MOV:   2%|▏         | 216/14172 [13:15<15:08:39,  3.91s/it]"
          ]
        },
        {
          "name": "stdout",
          "output_type": "stream",
          "text": [
            "\n",
            "0: 384x640 2 persons, 3208.6ms\n",
            "Speed: 8.7ms preprocess, 3208.6ms inference, 7.4ms postprocess per image at shape (1, 3, 384, 640)\n"
          ]
        },
        {
          "name": "stderr",
          "output_type": "stream",
          "text": [
            "\rProcessing  IMG_6790.MOV:   2%|▏         | 217/14172 [13:18<14:33:44,  3.76s/it]"
          ]
        },
        {
          "name": "stdout",
          "output_type": "stream",
          "text": [
            "\n",
            "0: 384x640 2 persons, 3106.5ms\n",
            "Speed: 3.9ms preprocess, 3106.5ms inference, 6.2ms postprocess per image at shape (1, 3, 384, 640)\n"
          ]
        },
        {
          "name": "stderr",
          "output_type": "stream",
          "text": [
            "\rProcessing  IMG_6790.MOV:   2%|▏         | 218/14172 [13:21<13:57:14,  3.60s/it]"
          ]
        },
        {
          "name": "stdout",
          "output_type": "stream",
          "text": [
            "\n",
            "0: 384x640 2 persons, 3093.5ms\n",
            "Speed: 3.9ms preprocess, 3093.5ms inference, 5.8ms postprocess per image at shape (1, 3, 384, 640)\n"
          ]
        },
        {
          "name": "stderr",
          "output_type": "stream",
          "text": [
            "\rProcessing  IMG_6790.MOV:   2%|▏         | 219/14172 [13:24<13:29:53,  3.48s/it]"
          ]
        },
        {
          "name": "stdout",
          "output_type": "stream",
          "text": [
            "\n",
            "0: 384x640 2 persons, 4827.6ms\n",
            "Speed: 4.8ms preprocess, 4827.6ms inference, 11.8ms postprocess per image at shape (1, 3, 384, 640)\n"
          ]
        },
        {
          "name": "stderr",
          "output_type": "stream",
          "text": [
            "\rProcessing  IMG_6790.MOV:   2%|▏         | 220/14172 [13:29<15:11:35,  3.92s/it]"
          ]
        },
        {
          "name": "stdout",
          "output_type": "stream",
          "text": [
            "\n",
            "0: 384x640 2 persons, 3197.6ms\n",
            "Speed: 7.0ms preprocess, 3197.6ms inference, 6.5ms postprocess per image at shape (1, 3, 384, 640)\n"
          ]
        },
        {
          "name": "stderr",
          "output_type": "stream",
          "text": [
            "\rProcessing  IMG_6790.MOV:   2%|▏         | 221/14172 [13:33<14:31:21,  3.75s/it]"
          ]
        },
        {
          "name": "stdout",
          "output_type": "stream",
          "text": [
            "\n",
            "0: 384x640 2 persons, 3106.6ms\n",
            "Speed: 6.4ms preprocess, 3106.6ms inference, 6.1ms postprocess per image at shape (1, 3, 384, 640)\n"
          ]
        },
        {
          "name": "stderr",
          "output_type": "stream",
          "text": [
            "\rProcessing  IMG_6790.MOV:   2%|▏         | 222/14172 [13:36<13:54:32,  3.59s/it]"
          ]
        },
        {
          "name": "stdout",
          "output_type": "stream",
          "text": [
            "\n",
            "0: 384x640 2 persons, 3095.4ms\n",
            "Speed: 6.5ms preprocess, 3095.4ms inference, 6.2ms postprocess per image at shape (1, 3, 384, 640)\n"
          ]
        },
        {
          "name": "stderr",
          "output_type": "stream",
          "text": [
            "\rProcessing  IMG_6790.MOV:   2%|▏         | 223/14172 [13:39<13:27:59,  3.48s/it]"
          ]
        },
        {
          "name": "stdout",
          "output_type": "stream",
          "text": [
            "\n",
            "0: 384x640 2 persons, 4759.5ms\n",
            "Speed: 7.2ms preprocess, 4759.5ms inference, 9.3ms postprocess per image at shape (1, 3, 384, 640)\n"
          ]
        },
        {
          "name": "stderr",
          "output_type": "stream",
          "text": [
            "\rProcessing  IMG_6790.MOV:   2%|▏         | 224/14172 [13:44<15:05:27,  3.90s/it]"
          ]
        },
        {
          "name": "stdout",
          "output_type": "stream",
          "text": [
            "\n",
            "0: 384x640 2 persons, 3215.2ms\n",
            "Speed: 4.0ms preprocess, 3215.2ms inference, 6.0ms postprocess per image at shape (1, 3, 384, 640)\n"
          ]
        },
        {
          "name": "stderr",
          "output_type": "stream",
          "text": [
            "\rProcessing  IMG_6790.MOV:   2%|▏         | 225/14172 [13:47<14:29:12,  3.74s/it]"
          ]
        },
        {
          "name": "stdout",
          "output_type": "stream",
          "text": [
            "\n",
            "0: 384x640 2 persons, 3086.6ms\n",
            "Speed: 3.9ms preprocess, 3086.6ms inference, 5.9ms postprocess per image at shape (1, 3, 384, 640)\n"
          ]
        },
        {
          "name": "stderr",
          "output_type": "stream",
          "text": [
            "\rProcessing  IMG_6790.MOV:   2%|▏         | 226/14172 [13:51<13:51:19,  3.58s/it]"
          ]
        },
        {
          "name": "stdout",
          "output_type": "stream",
          "text": [
            "\n",
            "0: 384x640 2 persons, 3091.4ms\n",
            "Speed: 4.0ms preprocess, 3091.4ms inference, 5.7ms postprocess per image at shape (1, 3, 384, 640)\n"
          ]
        },
        {
          "name": "stderr",
          "output_type": "stream",
          "text": [
            "\rProcessing  IMG_6790.MOV:   2%|▏         | 227/14172 [13:54<13:25:22,  3.47s/it]"
          ]
        },
        {
          "name": "stdout",
          "output_type": "stream",
          "text": [
            "\n",
            "0: 384x640 2 persons, 4743.2ms\n",
            "Speed: 4.5ms preprocess, 4743.2ms inference, 9.2ms postprocess per image at shape (1, 3, 384, 640)\n"
          ]
        },
        {
          "name": "stderr",
          "output_type": "stream",
          "text": [
            "\rProcessing  IMG_6790.MOV:   2%|▏         | 228/14172 [13:59<15:03:03,  3.89s/it]"
          ]
        },
        {
          "name": "stdout",
          "output_type": "stream",
          "text": [
            "\n",
            "0: 384x640 2 persons, 3242.0ms\n",
            "Speed: 4.3ms preprocess, 3242.0ms inference, 7.5ms postprocess per image at shape (1, 3, 384, 640)\n"
          ]
        },
        {
          "name": "stderr",
          "output_type": "stream",
          "text": [
            "\rProcessing  IMG_6790.MOV:   2%|▏         | 229/14172 [14:02<14:30:43,  3.75s/it]"
          ]
        },
        {
          "name": "stdout",
          "output_type": "stream",
          "text": [
            "\n",
            "0: 384x640 2 persons, 3132.2ms\n",
            "Speed: 5.8ms preprocess, 3132.2ms inference, 6.3ms postprocess per image at shape (1, 3, 384, 640)\n"
          ]
        },
        {
          "name": "stderr",
          "output_type": "stream",
          "text": [
            "\rProcessing  IMG_6790.MOV:   2%|▏         | 230/14172 [14:05<13:57:40,  3.60s/it]"
          ]
        },
        {
          "name": "stdout",
          "output_type": "stream",
          "text": [
            "\n",
            "0: 384x640 2 persons, 3111.1ms\n",
            "Speed: 7.2ms preprocess, 3111.1ms inference, 6.0ms postprocess per image at shape (1, 3, 384, 640)\n"
          ]
        },
        {
          "name": "stderr",
          "output_type": "stream",
          "text": [
            "\rProcessing  IMG_6790.MOV:   2%|▏         | 231/14172 [14:09<13:31:22,  3.49s/it]"
          ]
        },
        {
          "name": "stdout",
          "output_type": "stream",
          "text": [
            "\n",
            "0: 384x640 2 persons, 4650.7ms\n",
            "Speed: 5.5ms preprocess, 4650.7ms inference, 9.2ms postprocess per image at shape (1, 3, 384, 640)\n"
          ]
        },
        {
          "name": "stderr",
          "output_type": "stream",
          "text": [
            "\rProcessing  IMG_6790.MOV:   2%|▏         | 232/14172 [14:13<15:01:11,  3.88s/it]"
          ]
        },
        {
          "name": "stdout",
          "output_type": "stream",
          "text": [
            "\n",
            "0: 384x640 2 persons, 3259.1ms\n",
            "Speed: 4.0ms preprocess, 3259.1ms inference, 5.8ms postprocess per image at shape (1, 3, 384, 640)\n"
          ]
        },
        {
          "name": "stderr",
          "output_type": "stream",
          "text": [
            "\rProcessing  IMG_6790.MOV:   2%|▏         | 233/14172 [14:17<14:30:19,  3.75s/it]"
          ]
        },
        {
          "name": "stdout",
          "output_type": "stream",
          "text": [
            "\n",
            "0: 384x640 2 persons, 3091.3ms\n",
            "Speed: 6.1ms preprocess, 3091.3ms inference, 5.9ms postprocess per image at shape (1, 3, 384, 640)\n"
          ]
        },
        {
          "name": "stderr",
          "output_type": "stream",
          "text": [
            "\rProcessing  IMG_6790.MOV:   2%|▏         | 234/14172 [14:20<13:52:34,  3.58s/it]"
          ]
        },
        {
          "name": "stdout",
          "output_type": "stream",
          "text": [
            "\n",
            "0: 384x640 2 persons, 3098.3ms\n",
            "Speed: 4.4ms preprocess, 3098.3ms inference, 6.3ms postprocess per image at shape (1, 3, 384, 640)\n"
          ]
        },
        {
          "name": "stderr",
          "output_type": "stream",
          "text": [
            "\rProcessing  IMG_6790.MOV:   2%|▏         | 235/14172 [14:23<13:27:16,  3.48s/it]"
          ]
        },
        {
          "name": "stdout",
          "output_type": "stream",
          "text": [
            "\n",
            "0: 384x640 2 persons, 4714.9ms\n",
            "Speed: 3.9ms preprocess, 4714.9ms inference, 12.3ms postprocess per image at shape (1, 3, 384, 640)\n"
          ]
        },
        {
          "name": "stderr",
          "output_type": "stream",
          "text": [
            "\rProcessing  IMG_6790.MOV:   2%|▏         | 236/14172 [14:28<15:02:59,  3.89s/it]"
          ]
        },
        {
          "name": "stdout",
          "output_type": "stream",
          "text": [
            "\n",
            "0: 384x640 2 persons, 3321.4ms\n",
            "Speed: 7.0ms preprocess, 3321.4ms inference, 5.9ms postprocess per image at shape (1, 3, 384, 640)\n"
          ]
        },
        {
          "name": "stderr",
          "output_type": "stream",
          "text": [
            "\rProcessing  IMG_6790.MOV:   2%|▏         | 237/14172 [14:32<14:34:38,  3.77s/it]"
          ]
        },
        {
          "name": "stdout",
          "output_type": "stream",
          "text": [
            "\n",
            "0: 384x640 2 persons, 3096.5ms\n",
            "Speed: 7.4ms preprocess, 3096.5ms inference, 5.9ms postprocess per image at shape (1, 3, 384, 640)\n"
          ]
        },
        {
          "name": "stderr",
          "output_type": "stream",
          "text": [
            "\rProcessing  IMG_6790.MOV:   2%|▏         | 238/14172 [14:35<13:55:54,  3.60s/it]"
          ]
        },
        {
          "name": "stdout",
          "output_type": "stream",
          "text": [
            "\n",
            "0: 384x640 2 persons, 3125.0ms\n",
            "Speed: 4.4ms preprocess, 3125.0ms inference, 6.6ms postprocess per image at shape (1, 3, 384, 640)\n"
          ]
        },
        {
          "name": "stderr",
          "output_type": "stream",
          "text": [
            "\rProcessing  IMG_6790.MOV:   2%|▏         | 239/14172 [14:38<13:31:15,  3.49s/it]"
          ]
        },
        {
          "name": "stdout",
          "output_type": "stream",
          "text": [
            "\n",
            "0: 384x640 2 persons, 4560.5ms\n",
            "Speed: 3.8ms preprocess, 4560.5ms inference, 9.0ms postprocess per image at shape (1, 3, 384, 640)\n"
          ]
        },
        {
          "name": "stderr",
          "output_type": "stream",
          "text": [
            "\rProcessing  IMG_6790.MOV:   2%|▏         | 240/14172 [14:43<14:54:08,  3.85s/it]"
          ]
        },
        {
          "name": "stdout",
          "output_type": "stream",
          "text": [
            "\n",
            "0: 384x640 2 persons, 3263.1ms\n",
            "Speed: 7.0ms preprocess, 3263.1ms inference, 6.1ms postprocess per image at shape (1, 3, 384, 640)\n"
          ]
        },
        {
          "name": "stderr",
          "output_type": "stream",
          "text": [
            "\rProcessing  IMG_6790.MOV:   2%|▏         | 241/14172 [14:46<14:25:15,  3.73s/it]"
          ]
        },
        {
          "name": "stdout",
          "output_type": "stream",
          "text": [
            "\n",
            "0: 384x640 2 persons, 3130.0ms\n",
            "Speed: 4.3ms preprocess, 3130.0ms inference, 6.4ms postprocess per image at shape (1, 3, 384, 640)\n"
          ]
        },
        {
          "name": "stderr",
          "output_type": "stream",
          "text": [
            "\rProcessing  IMG_6790.MOV:   2%|▏         | 242/14172 [14:49<13:51:49,  3.58s/it]"
          ]
        },
        {
          "name": "stdout",
          "output_type": "stream",
          "text": [
            "\n",
            "0: 384x640 2 persons, 3111.3ms\n",
            "Speed: 4.4ms preprocess, 3111.3ms inference, 6.1ms postprocess per image at shape (1, 3, 384, 640)\n"
          ]
        },
        {
          "name": "stderr",
          "output_type": "stream",
          "text": [
            "\rProcessing  IMG_6790.MOV:   2%|▏         | 243/14172 [14:53<13:27:04,  3.48s/it]"
          ]
        },
        {
          "name": "stdout",
          "output_type": "stream",
          "text": [
            "\n",
            "0: 384x640 1 person, 4730.1ms\n",
            "Speed: 4.6ms preprocess, 4730.1ms inference, 5.5ms postprocess per image at shape (1, 3, 384, 640)\n"
          ]
        },
        {
          "name": "stderr",
          "output_type": "stream",
          "text": [
            "\rProcessing  IMG_6790.MOV:   2%|▏         | 244/14172 [14:57<15:02:59,  3.89s/it]"
          ]
        },
        {
          "name": "stdout",
          "output_type": "stream",
          "text": [
            "\n",
            "0: 384x640 2 persons, 3215.5ms\n",
            "Speed: 7.0ms preprocess, 3215.5ms inference, 6.0ms postprocess per image at shape (1, 3, 384, 640)\n"
          ]
        },
        {
          "name": "stderr",
          "output_type": "stream",
          "text": [
            "\rProcessing  IMG_6790.MOV:   2%|▏         | 245/14172 [15:01<14:27:00,  3.74s/it]"
          ]
        },
        {
          "name": "stdout",
          "output_type": "stream",
          "text": [
            "\n",
            "0: 384x640 2 persons, 3095.1ms\n",
            "Speed: 3.6ms preprocess, 3095.1ms inference, 6.0ms postprocess per image at shape (1, 3, 384, 640)\n"
          ]
        },
        {
          "name": "stderr",
          "output_type": "stream",
          "text": [
            "\rProcessing  IMG_6790.MOV:   2%|▏         | 246/14172 [15:04<13:50:13,  3.58s/it]"
          ]
        },
        {
          "name": "stdout",
          "output_type": "stream",
          "text": [
            "\n",
            "0: 384x640 2 persons, 4655.4ms\n",
            "Speed: 5.1ms preprocess, 4655.4ms inference, 9.1ms postprocess per image at shape (1, 3, 384, 640)\n"
          ]
        },
        {
          "name": "stderr",
          "output_type": "stream",
          "text": [
            "\rProcessing  IMG_6790.MOV:   2%|▏         | 247/14172 [15:09<15:34:17,  4.03s/it]"
          ]
        },
        {
          "name": "stdout",
          "output_type": "stream",
          "text": [
            "\n",
            "0: 384x640 2 persons, 4479.9ms\n",
            "Speed: 4.0ms preprocess, 4479.9ms inference, 6.1ms postprocess per image at shape (1, 3, 384, 640)\n"
          ]
        },
        {
          "name": "stderr",
          "output_type": "stream",
          "text": [
            "\rProcessing  IMG_6790.MOV:   2%|▏         | 248/14172 [15:14<16:15:16,  4.20s/it]"
          ]
        },
        {
          "name": "stdout",
          "output_type": "stream",
          "text": [
            "\n",
            "0: 384x640 2 persons, 3087.7ms\n",
            "Speed: 5.2ms preprocess, 3087.7ms inference, 5.8ms postprocess per image at shape (1, 3, 384, 640)\n"
          ]
        },
        {
          "name": "stderr",
          "output_type": "stream",
          "text": [
            "\rProcessing  IMG_6790.MOV:   2%|▏         | 249/14172 [15:17<15:05:35,  3.90s/it]"
          ]
        },
        {
          "name": "stdout",
          "output_type": "stream",
          "text": [
            "\n",
            "0: 384x640 2 persons, 3089.6ms\n",
            "Speed: 6.8ms preprocess, 3089.6ms inference, 7.6ms postprocess per image at shape (1, 3, 384, 640)\n"
          ]
        },
        {
          "name": "stderr",
          "output_type": "stream",
          "text": [
            "\rProcessing  IMG_6790.MOV:   2%|▏         | 250/14172 [15:20<14:17:29,  3.70s/it]"
          ]
        },
        {
          "name": "stdout",
          "output_type": "stream",
          "text": [
            "\n",
            "0: 384x640 2 persons, 3389.5ms\n",
            "Speed: 7.6ms preprocess, 3389.5ms inference, 9.3ms postprocess per image at shape (1, 3, 384, 640)\n"
          ]
        },
        {
          "name": "stderr",
          "output_type": "stream",
          "text": [
            "\rProcessing  IMG_6790.MOV:   2%|▏         | 251/14172 [15:24<14:05:21,  3.64s/it]"
          ]
        },
        {
          "name": "stdout",
          "output_type": "stream",
          "text": [
            "\n",
            "0: 384x640 2 persons, 4556.2ms\n",
            "Speed: 9.1ms preprocess, 4556.2ms inference, 7.4ms postprocess per image at shape (1, 3, 384, 640)\n"
          ]
        },
        {
          "name": "stderr",
          "output_type": "stream",
          "text": [
            "\rProcessing  IMG_6790.MOV:   2%|▏         | 252/14172 [15:28<15:19:10,  3.96s/it]"
          ]
        },
        {
          "name": "stdout",
          "output_type": "stream",
          "text": [
            "\n",
            "0: 384x640 2 persons, 3083.6ms\n",
            "Speed: 5.7ms preprocess, 3083.6ms inference, 5.9ms postprocess per image at shape (1, 3, 384, 640)\n"
          ]
        },
        {
          "name": "stderr",
          "output_type": "stream",
          "text": [
            "\rProcessing  IMG_6790.MOV:   2%|▏         | 253/14172 [15:32<14:26:04,  3.73s/it]"
          ]
        },
        {
          "name": "stdout",
          "output_type": "stream",
          "text": [
            "\n",
            "0: 384x640 2 persons, 3071.3ms\n",
            "Speed: 4.8ms preprocess, 3071.3ms inference, 6.0ms postprocess per image at shape (1, 3, 384, 640)\n"
          ]
        },
        {
          "name": "stderr",
          "output_type": "stream",
          "text": [
            "\rProcessing  IMG_6790.MOV:   2%|▏         | 254/14172 [15:35<13:47:44,  3.57s/it]"
          ]
        },
        {
          "name": "stdout",
          "output_type": "stream",
          "text": [
            "\n",
            "0: 384x640 2 persons, 3369.2ms\n",
            "Speed: 5.5ms preprocess, 3369.2ms inference, 9.2ms postprocess per image at shape (1, 3, 384, 640)\n"
          ]
        },
        {
          "name": "stderr",
          "output_type": "stream",
          "text": [
            "\rProcessing  IMG_6790.MOV:   2%|▏         | 255/14172 [15:38<13:42:58,  3.55s/it]"
          ]
        },
        {
          "name": "stdout",
          "output_type": "stream",
          "text": [
            "\n",
            "0: 384x640 2 persons, 4630.7ms\n",
            "Speed: 8.7ms preprocess, 4630.7ms inference, 7.3ms postprocess per image at shape (1, 3, 384, 640)\n"
          ]
        },
        {
          "name": "stderr",
          "output_type": "stream",
          "text": [
            "\rProcessing  IMG_6790.MOV:   2%|▏         | 256/14172 [15:43<15:10:38,  3.93s/it]"
          ]
        },
        {
          "name": "stdout",
          "output_type": "stream",
          "text": [
            "\n",
            "0: 384x640 2 persons, 3081.7ms\n",
            "Speed: 3.6ms preprocess, 3081.7ms inference, 5.7ms postprocess per image at shape (1, 3, 384, 640)\n"
          ]
        },
        {
          "name": "stderr",
          "output_type": "stream",
          "text": [
            "\rProcessing  IMG_6790.MOV:   2%|▏         | 257/14172 [15:46<14:19:18,  3.71s/it]"
          ]
        },
        {
          "name": "stdout",
          "output_type": "stream",
          "text": [
            "\n",
            "0: 384x640 2 persons, 3274.9ms\n",
            "Speed: 5.4ms preprocess, 3274.9ms inference, 7.7ms postprocess per image at shape (1, 3, 384, 640)\n"
          ]
        },
        {
          "name": "stderr",
          "output_type": "stream",
          "text": [
            "\rProcessing  IMG_6790.MOV:   2%|▏         | 258/14172 [15:50<13:57:40,  3.61s/it]"
          ]
        },
        {
          "name": "stdout",
          "output_type": "stream",
          "text": [
            "\n",
            "0: 384x640 2 persons, 5240.9ms\n",
            "Speed: 7.7ms preprocess, 5240.9ms inference, 8.3ms postprocess per image at shape (1, 3, 384, 640)\n"
          ]
        },
        {
          "name": "stderr",
          "output_type": "stream",
          "text": [
            "\rProcessing  IMG_6790.MOV:   2%|▏         | 259/14172 [15:55<16:00:27,  4.14s/it]"
          ]
        },
        {
          "name": "stdout",
          "output_type": "stream",
          "text": [
            "\n",
            "0: 384x640 2 persons, 4386.8ms\n",
            "Speed: 4.0ms preprocess, 4386.8ms inference, 9.7ms postprocess per image at shape (1, 3, 384, 640)\n"
          ]
        },
        {
          "name": "stderr",
          "output_type": "stream",
          "text": [
            "\rProcessing  IMG_6790.MOV:   2%|▏         | 260/14172 [16:00<16:29:03,  4.27s/it]"
          ]
        },
        {
          "name": "stdout",
          "output_type": "stream",
          "text": [
            "\n",
            "0: 384x640 1 person, 3114.7ms\n",
            "Speed: 4.4ms preprocess, 3114.7ms inference, 3.7ms postprocess per image at shape (1, 3, 384, 640)\n"
          ]
        },
        {
          "name": "stderr",
          "output_type": "stream",
          "text": [
            "\rProcessing  IMG_6790.MOV:   2%|▏         | 261/14172 [16:03<15:17:13,  3.96s/it]"
          ]
        },
        {
          "name": "stdout",
          "output_type": "stream",
          "text": [
            "\n",
            "0: 384x640 2 persons, 3143.3ms\n",
            "Speed: 4.1ms preprocess, 3143.3ms inference, 5.9ms postprocess per image at shape (1, 3, 384, 640)\n"
          ]
        },
        {
          "name": "stderr",
          "output_type": "stream",
          "text": [
            "\rProcessing  IMG_6790.MOV:   2%|▏         | 262/14172 [16:06<14:28:42,  3.75s/it]"
          ]
        },
        {
          "name": "stdout",
          "output_type": "stream",
          "text": [
            "\n",
            "0: 384x640 1 person, 3712.3ms\n",
            "Speed: 3.9ms preprocess, 3712.3ms inference, 6.1ms postprocess per image at shape (1, 3, 384, 640)\n"
          ]
        },
        {
          "name": "stderr",
          "output_type": "stream",
          "text": [
            "\rProcessing  IMG_6790.MOV:   2%|▏         | 263/14172 [16:10<14:34:19,  3.77s/it]"
          ]
        },
        {
          "name": "stdout",
          "output_type": "stream",
          "text": [
            "\n",
            "0: 384x640 1 person, 4285.2ms\n",
            "Speed: 4.0ms preprocess, 4285.2ms inference, 4.3ms postprocess per image at shape (1, 3, 384, 640)\n"
          ]
        },
        {
          "name": "stderr",
          "output_type": "stream",
          "text": [
            "\rProcessing  IMG_6790.MOV:   2%|▏         | 264/14172 [16:14<15:21:57,  3.98s/it]"
          ]
        },
        {
          "name": "stdout",
          "output_type": "stream",
          "text": [
            "\n",
            "0: 384x640 2 persons, 3066.6ms\n",
            "Speed: 4.5ms preprocess, 3066.6ms inference, 5.9ms postprocess per image at shape (1, 3, 384, 640)\n"
          ]
        },
        {
          "name": "stderr",
          "output_type": "stream",
          "text": [
            "\rProcessing  IMG_6790.MOV:   2%|▏         | 265/14172 [16:18<14:26:53,  3.74s/it]"
          ]
        },
        {
          "name": "stdout",
          "output_type": "stream",
          "text": [
            "\n",
            "0: 384x640 2 persons, 3093.4ms\n",
            "Speed: 6.1ms preprocess, 3093.4ms inference, 9.6ms postprocess per image at shape (1, 3, 384, 640)\n"
          ]
        },
        {
          "name": "stderr",
          "output_type": "stream",
          "text": [
            "\rProcessing  IMG_6790.MOV:   2%|▏         | 266/14172 [16:21<13:50:19,  3.58s/it]"
          ]
        },
        {
          "name": "stdout",
          "output_type": "stream",
          "text": [
            "\n",
            "0: 384x640 2 persons, 3560.6ms\n",
            "Speed: 3.9ms preprocess, 3560.6ms inference, 7.2ms postprocess per image at shape (1, 3, 384, 640)\n"
          ]
        },
        {
          "name": "stderr",
          "output_type": "stream",
          "text": [
            "\rProcessing  IMG_6790.MOV:   2%|▏         | 267/14172 [16:24<13:57:24,  3.61s/it]"
          ]
        },
        {
          "name": "stdout",
          "output_type": "stream",
          "text": [
            "\n",
            "0: 384x640 2 persons, 4329.2ms\n",
            "Speed: 3.9ms preprocess, 4329.2ms inference, 5.8ms postprocess per image at shape (1, 3, 384, 640)\n"
          ]
        },
        {
          "name": "stderr",
          "output_type": "stream",
          "text": [
            "\rProcessing  IMG_6790.MOV:   2%|▏         | 268/14172 [16:29<15:01:29,  3.89s/it]"
          ]
        },
        {
          "name": "stdout",
          "output_type": "stream",
          "text": [
            "\n",
            "0: 384x640 2 persons, 3098.1ms\n",
            "Speed: 5.1ms preprocess, 3098.1ms inference, 5.9ms postprocess per image at shape (1, 3, 384, 640)\n"
          ]
        },
        {
          "name": "stderr",
          "output_type": "stream",
          "text": [
            "\rProcessing  IMG_6790.MOV:   2%|▏         | 269/14172 [16:32<14:13:48,  3.68s/it]"
          ]
        },
        {
          "name": "stdout",
          "output_type": "stream",
          "text": [
            "\n",
            "0: 384x640 2 persons, 3088.7ms\n",
            "Speed: 4.7ms preprocess, 3088.7ms inference, 5.9ms postprocess per image at shape (1, 3, 384, 640)\n"
          ]
        },
        {
          "name": "stderr",
          "output_type": "stream",
          "text": [
            "\rProcessing  IMG_6790.MOV:   2%|▏         | 270/14172 [16:35<13:40:36,  3.54s/it]"
          ]
        },
        {
          "name": "stdout",
          "output_type": "stream",
          "text": [
            "\n",
            "0: 384x640 2 persons, 3601.7ms\n",
            "Speed: 3.8ms preprocess, 3601.7ms inference, 13.1ms postprocess per image at shape (1, 3, 384, 640)\n"
          ]
        },
        {
          "name": "stderr",
          "output_type": "stream",
          "text": [
            "\rProcessing  IMG_6790.MOV:   2%|▏         | 271/14172 [16:39<13:54:04,  3.60s/it]"
          ]
        },
        {
          "name": "stdout",
          "output_type": "stream",
          "text": [
            "\n",
            "0: 384x640 2 persons, 4453.2ms\n",
            "Speed: 9.5ms preprocess, 4453.2ms inference, 6.0ms postprocess per image at shape (1, 3, 384, 640)\n"
          ]
        },
        {
          "name": "stderr",
          "output_type": "stream",
          "text": [
            "\rProcessing  IMG_6790.MOV:   2%|▏         | 272/14172 [16:44<15:06:04,  3.91s/it]"
          ]
        },
        {
          "name": "stdout",
          "output_type": "stream",
          "text": [
            "\n",
            "0: 384x640 2 persons, 3114.3ms\n",
            "Speed: 4.9ms preprocess, 3114.3ms inference, 5.7ms postprocess per image at shape (1, 3, 384, 640)\n"
          ]
        },
        {
          "name": "stderr",
          "output_type": "stream",
          "text": [
            "\rProcessing  IMG_6790.MOV:   2%|▏         | 273/14172 [16:47<14:19:11,  3.71s/it]"
          ]
        },
        {
          "name": "stdout",
          "output_type": "stream",
          "text": [
            "\n",
            "0: 384x640 2 persons, 3103.3ms\n",
            "Speed: 5.7ms preprocess, 3103.3ms inference, 6.3ms postprocess per image at shape (1, 3, 384, 640)\n"
          ]
        },
        {
          "name": "stderr",
          "output_type": "stream",
          "text": [
            "\rProcessing  IMG_6790.MOV:   2%|▏         | 274/14172 [16:50<13:45:14,  3.56s/it]"
          ]
        },
        {
          "name": "stdout",
          "output_type": "stream",
          "text": [
            "\n",
            "0: 384x640 2 persons, 3467.4ms\n",
            "Speed: 6.3ms preprocess, 3467.4ms inference, 9.7ms postprocess per image at shape (1, 3, 384, 640)\n"
          ]
        },
        {
          "name": "stderr",
          "output_type": "stream",
          "text": [
            "\rProcessing  IMG_6790.MOV:   2%|▏         | 275/14172 [16:54<13:47:34,  3.57s/it]"
          ]
        },
        {
          "name": "stdout",
          "output_type": "stream",
          "text": [
            "\n",
            "0: 384x640 2 persons, 4528.2ms\n",
            "Speed: 4.4ms preprocess, 4528.2ms inference, 5.8ms postprocess per image at shape (1, 3, 384, 640)\n"
          ]
        },
        {
          "name": "stderr",
          "output_type": "stream",
          "text": [
            "\rProcessing  IMG_6790.MOV:   2%|▏         | 276/14172 [16:59<15:06:34,  3.91s/it]"
          ]
        },
        {
          "name": "stdout",
          "output_type": "stream",
          "text": [
            "\n",
            "0: 384x640 2 persons, 3089.3ms\n",
            "Speed: 6.9ms preprocess, 3089.3ms inference, 6.0ms postprocess per image at shape (1, 3, 384, 640)\n"
          ]
        },
        {
          "name": "stderr",
          "output_type": "stream",
          "text": [
            "\rProcessing  IMG_6790.MOV:   2%|▏         | 277/14172 [17:02<14:17:18,  3.70s/it]"
          ]
        },
        {
          "name": "stdout",
          "output_type": "stream",
          "text": [
            "\n",
            "0: 384x640 2 persons, 3095.0ms\n",
            "Speed: 4.3ms preprocess, 3095.0ms inference, 5.7ms postprocess per image at shape (1, 3, 384, 640)\n"
          ]
        },
        {
          "name": "stderr",
          "output_type": "stream",
          "text": [
            "\rProcessing  IMG_6790.MOV:   2%|▏         | 278/14172 [17:05<13:43:46,  3.56s/it]"
          ]
        },
        {
          "name": "stdout",
          "output_type": "stream",
          "text": [
            "\n",
            "0: 384x640 2 persons, 3522.5ms\n",
            "Speed: 4.7ms preprocess, 3522.5ms inference, 9.7ms postprocess per image at shape (1, 3, 384, 640)\n"
          ]
        },
        {
          "name": "stderr",
          "output_type": "stream",
          "text": [
            "\rProcessing  IMG_6790.MOV:   2%|▏         | 279/14172 [17:09<13:50:05,  3.58s/it]"
          ]
        },
        {
          "name": "stdout",
          "output_type": "stream",
          "text": [
            "\n",
            "0: 384x640 2 persons, 4520.9ms\n",
            "Speed: 7.1ms preprocess, 4520.9ms inference, 5.7ms postprocess per image at shape (1, 3, 384, 640)\n"
          ]
        },
        {
          "name": "stderr",
          "output_type": "stream",
          "text": [
            "\rProcessing  IMG_6790.MOV:   2%|▏         | 280/14172 [17:13<15:07:13,  3.92s/it]"
          ]
        },
        {
          "name": "stdout",
          "output_type": "stream",
          "text": [
            "\n",
            "0: 384x640 2 persons, 3084.4ms\n",
            "Speed: 5.2ms preprocess, 3084.4ms inference, 5.7ms postprocess per image at shape (1, 3, 384, 640)\n"
          ]
        },
        {
          "name": "stderr",
          "output_type": "stream",
          "text": [
            "\rProcessing  IMG_6790.MOV:   2%|▏         | 281/14172 [17:17<14:17:06,  3.70s/it]"
          ]
        },
        {
          "name": "stdout",
          "output_type": "stream",
          "text": [
            "\n",
            "0: 384x640 2 persons, 3097.7ms\n",
            "Speed: 4.2ms preprocess, 3097.7ms inference, 6.2ms postprocess per image at shape (1, 3, 384, 640)\n"
          ]
        },
        {
          "name": "stderr",
          "output_type": "stream",
          "text": [
            "\rProcessing  IMG_6790.MOV:   2%|▏         | 282/14172 [17:20<13:42:57,  3.55s/it]"
          ]
        },
        {
          "name": "stdout",
          "output_type": "stream",
          "text": [
            "\n",
            "0: 384x640 2 persons, 3345.6ms\n",
            "Speed: 4.0ms preprocess, 3345.6ms inference, 9.5ms postprocess per image at shape (1, 3, 384, 640)\n"
          ]
        },
        {
          "name": "stderr",
          "output_type": "stream",
          "text": [
            "\rProcessing  IMG_6790.MOV:   2%|▏         | 283/14172 [17:23<13:38:03,  3.53s/it]"
          ]
        },
        {
          "name": "stdout",
          "output_type": "stream",
          "text": [
            "\n",
            "0: 384x640 2 persons, 4690.8ms\n",
            "Speed: 4.1ms preprocess, 4690.8ms inference, 5.8ms postprocess per image at shape (1, 3, 384, 640)\n"
          ]
        },
        {
          "name": "stderr",
          "output_type": "stream",
          "text": [
            "\rProcessing  IMG_6790.MOV:   2%|▏         | 284/14172 [17:28<15:09:05,  3.93s/it]"
          ]
        },
        {
          "name": "stdout",
          "output_type": "stream",
          "text": [
            "\n",
            "0: 384x640 2 persons, 3110.6ms\n",
            "Speed: 5.9ms preprocess, 3110.6ms inference, 6.7ms postprocess per image at shape (1, 3, 384, 640)\n"
          ]
        },
        {
          "name": "stderr",
          "output_type": "stream",
          "text": [
            "\rProcessing  IMG_6790.MOV:   2%|▏         | 285/14172 [17:31<14:20:41,  3.72s/it]"
          ]
        },
        {
          "name": "stdout",
          "output_type": "stream",
          "text": [
            "\n",
            "0: 384x640 2 persons, 3086.5ms\n",
            "Speed: 6.2ms preprocess, 3086.5ms inference, 5.8ms postprocess per image at shape (1, 3, 384, 640)\n"
          ]
        },
        {
          "name": "stderr",
          "output_type": "stream",
          "text": [
            "\rProcessing  IMG_6790.MOV:   2%|▏         | 286/14172 [17:35<13:45:19,  3.57s/it]"
          ]
        },
        {
          "name": "stdout",
          "output_type": "stream",
          "text": [
            "\n",
            "0: 384x640 2 persons, 3232.6ms\n",
            "Speed: 6.7ms preprocess, 3232.6ms inference, 9.2ms postprocess per image at shape (1, 3, 384, 640)\n"
          ]
        },
        {
          "name": "stderr",
          "output_type": "stream",
          "text": [
            "\rProcessing  IMG_6790.MOV:   2%|▏         | 287/14172 [17:38<13:30:37,  3.50s/it]"
          ]
        },
        {
          "name": "stdout",
          "output_type": "stream",
          "text": [
            "\n",
            "0: 384x640 2 persons, 4767.2ms\n",
            "Speed: 4.0ms preprocess, 4767.2ms inference, 6.0ms postprocess per image at shape (1, 3, 384, 640)\n"
          ]
        },
        {
          "name": "stderr",
          "output_type": "stream",
          "text": [
            "\rProcessing  IMG_6790.MOV:   2%|▏         | 288/14172 [17:43<15:09:03,  3.93s/it]"
          ]
        },
        {
          "name": "stdout",
          "output_type": "stream",
          "text": [
            "\n",
            "0: 384x640 2 persons, 3092.0ms\n",
            "Speed: 6.1ms preprocess, 3092.0ms inference, 5.8ms postprocess per image at shape (1, 3, 384, 640)\n"
          ]
        },
        {
          "name": "stderr",
          "output_type": "stream",
          "text": [
            "\rProcessing  IMG_6790.MOV:   2%|▏         | 289/14172 [17:46<14:19:33,  3.71s/it]"
          ]
        },
        {
          "name": "stdout",
          "output_type": "stream",
          "text": [
            "\n",
            "0: 384x640 2 persons, 3133.7ms\n",
            "Speed: 4.1ms preprocess, 3133.7ms inference, 6.2ms postprocess per image at shape (1, 3, 384, 640)\n"
          ]
        },
        {
          "name": "stderr",
          "output_type": "stream",
          "text": [
            "\rProcessing  IMG_6790.MOV:   2%|▏         | 290/14172 [17:49<13:47:54,  3.58s/it]"
          ]
        },
        {
          "name": "stdout",
          "output_type": "stream",
          "text": [
            "\n",
            "0: 384x640 2 persons, 3231.5ms\n",
            "Speed: 4.0ms preprocess, 3231.5ms inference, 11.4ms postprocess per image at shape (1, 3, 384, 640)\n"
          ]
        },
        {
          "name": "stderr",
          "output_type": "stream",
          "text": [
            "\rProcessing  IMG_6790.MOV:   2%|▏         | 291/14172 [17:53<13:34:15,  3.52s/it]"
          ]
        },
        {
          "name": "stdout",
          "output_type": "stream",
          "text": [
            "\n",
            "0: 384x640 2 persons, 4771.4ms\n",
            "Speed: 7.8ms preprocess, 4771.4ms inference, 5.9ms postprocess per image at shape (1, 3, 384, 640)\n"
          ]
        },
        {
          "name": "stderr",
          "output_type": "stream",
          "text": [
            "\rProcessing  IMG_6790.MOV:   2%|▏         | 292/14172 [17:58<15:13:06,  3.95s/it]"
          ]
        },
        {
          "name": "stdout",
          "output_type": "stream",
          "text": [
            "\n",
            "0: 384x640 2 persons, 3108.5ms\n",
            "Speed: 4.0ms preprocess, 3108.5ms inference, 5.8ms postprocess per image at shape (1, 3, 384, 640)\n"
          ]
        },
        {
          "name": "stderr",
          "output_type": "stream",
          "text": [
            "\rProcessing  IMG_6790.MOV:   2%|▏         | 293/14172 [18:01<14:22:58,  3.73s/it]"
          ]
        },
        {
          "name": "stdout",
          "output_type": "stream",
          "text": [
            "\n",
            "0: 384x640 2 persons, 3091.3ms\n",
            "Speed: 3.7ms preprocess, 3091.3ms inference, 5.9ms postprocess per image at shape (1, 3, 384, 640)\n"
          ]
        },
        {
          "name": "stderr",
          "output_type": "stream",
          "text": [
            "\rProcessing  IMG_6790.MOV:   2%|▏         | 294/14172 [18:04<13:46:56,  3.58s/it]"
          ]
        },
        {
          "name": "stdout",
          "output_type": "stream",
          "text": [
            "\n",
            "0: 384x640 2 persons, 3179.8ms\n",
            "Speed: 5.8ms preprocess, 3179.8ms inference, 10.5ms postprocess per image at shape (1, 3, 384, 640)\n"
          ]
        },
        {
          "name": "stderr",
          "output_type": "stream",
          "text": [
            "\rProcessing  IMG_6790.MOV:   2%|▏         | 295/14172 [18:07<13:28:43,  3.50s/it]"
          ]
        },
        {
          "name": "stdout",
          "output_type": "stream",
          "text": [
            "\n",
            "0: 384x640 2 persons, 4859.1ms\n",
            "Speed: 3.9ms preprocess, 4859.1ms inference, 6.7ms postprocess per image at shape (1, 3, 384, 640)\n"
          ]
        },
        {
          "name": "stderr",
          "output_type": "stream",
          "text": [
            "\rProcessing  IMG_6790.MOV:   2%|▏         | 296/14172 [18:12<15:14:05,  3.95s/it]"
          ]
        },
        {
          "name": "stdout",
          "output_type": "stream",
          "text": [
            "\n",
            "0: 384x640 1 person, 3112.1ms\n",
            "Speed: 4.3ms preprocess, 3112.1ms inference, 3.8ms postprocess per image at shape (1, 3, 384, 640)\n"
          ]
        },
        {
          "name": "stderr",
          "output_type": "stream",
          "text": [
            "\rProcessing  IMG_6790.MOV:   2%|▏         | 297/14172 [18:16<14:23:33,  3.73s/it]"
          ]
        },
        {
          "name": "stdout",
          "output_type": "stream",
          "text": [
            "\n",
            "0: 384x640 2 persons, 3106.2ms\n",
            "Speed: 6.4ms preprocess, 3106.2ms inference, 5.9ms postprocess per image at shape (1, 3, 384, 640)\n"
          ]
        },
        {
          "name": "stderr",
          "output_type": "stream",
          "text": [
            "\rProcessing  IMG_6790.MOV:   2%|▏         | 298/14172 [18:19<13:48:09,  3.58s/it]"
          ]
        },
        {
          "name": "stdout",
          "output_type": "stream",
          "text": [
            "\n",
            "0: 384x640 2 persons, 3140.8ms\n",
            "Speed: 7.3ms preprocess, 3140.8ms inference, 9.3ms postprocess per image at shape (1, 3, 384, 640)\n"
          ]
        },
        {
          "name": "stderr",
          "output_type": "stream",
          "text": [
            "\rProcessing  IMG_6790.MOV:   2%|▏         | 299/14172 [18:22<13:26:40,  3.49s/it]"
          ]
        },
        {
          "name": "stdout",
          "output_type": "stream",
          "text": [
            "\n",
            "0: 384x640 2 persons, 4833.0ms\n",
            "Speed: 4.1ms preprocess, 4833.0ms inference, 7.5ms postprocess per image at shape (1, 3, 384, 640)\n"
          ]
        },
        {
          "name": "stderr",
          "output_type": "stream",
          "text": [
            "\rProcessing  IMG_6790.MOV:   2%|▏         | 300/14172 [18:27<15:11:58,  3.94s/it]"
          ]
        },
        {
          "name": "stdout",
          "output_type": "stream",
          "text": [
            "\n",
            "0: 384x640 2 persons, 3099.9ms\n",
            "Speed: 4.7ms preprocess, 3099.9ms inference, 5.7ms postprocess per image at shape (1, 3, 384, 640)\n"
          ]
        },
        {
          "name": "stderr",
          "output_type": "stream",
          "text": [
            "\rProcessing  IMG_6790.MOV:   2%|▏         | 301/14172 [18:30<14:21:29,  3.73s/it]"
          ]
        },
        {
          "name": "stdout",
          "output_type": "stream",
          "text": [
            "\n",
            "0: 384x640 2 persons, 3091.0ms\n",
            "Speed: 5.5ms preprocess, 3091.0ms inference, 5.9ms postprocess per image at shape (1, 3, 384, 640)\n"
          ]
        },
        {
          "name": "stderr",
          "output_type": "stream",
          "text": [
            "\rProcessing  IMG_6790.MOV:   2%|▏         | 302/14172 [18:34<13:45:50,  3.57s/it]"
          ]
        },
        {
          "name": "stdout",
          "output_type": "stream",
          "text": [
            "\n",
            "0: 384x640 2 persons, 3110.4ms\n",
            "Speed: 6.1ms preprocess, 3110.4ms inference, 6.4ms postprocess per image at shape (1, 3, 384, 640)\n"
          ]
        },
        {
          "name": "stderr",
          "output_type": "stream",
          "text": [
            "\rProcessing  IMG_6790.MOV:   2%|▏         | 303/14172 [18:37<13:22:33,  3.47s/it]"
          ]
        },
        {
          "name": "stdout",
          "output_type": "stream",
          "text": [
            "\n",
            "0: 384x640 2 persons, 4905.1ms\n",
            "Speed: 6.4ms preprocess, 4905.1ms inference, 5.8ms postprocess per image at shape (1, 3, 384, 640)\n"
          ]
        },
        {
          "name": "stderr",
          "output_type": "stream",
          "text": [
            "\rProcessing  IMG_6790.MOV:   2%|▏         | 304/14172 [18:42<15:13:56,  3.95s/it]"
          ]
        },
        {
          "name": "stdout",
          "output_type": "stream",
          "text": [
            "\n",
            "0: 384x640 2 persons, 3089.3ms\n",
            "Speed: 4.7ms preprocess, 3089.3ms inference, 5.8ms postprocess per image at shape (1, 3, 384, 640)\n"
          ]
        },
        {
          "name": "stderr",
          "output_type": "stream",
          "text": [
            "\rProcessing  IMG_6790.MOV:   2%|▏         | 305/14172 [18:45<14:22:20,  3.73s/it]"
          ]
        },
        {
          "name": "stdout",
          "output_type": "stream",
          "text": [
            "\n",
            "0: 384x640 2 persons, 3112.1ms\n",
            "Speed: 4.7ms preprocess, 3112.1ms inference, 5.8ms postprocess per image at shape (1, 3, 384, 640)\n"
          ]
        },
        {
          "name": "stderr",
          "output_type": "stream",
          "text": [
            "\rProcessing  IMG_6790.MOV:   2%|▏         | 306/14172 [18:48<13:47:46,  3.58s/it]"
          ]
        },
        {
          "name": "stdout",
          "output_type": "stream",
          "text": [
            "\n",
            "0: 384x640 2 persons, 3095.5ms\n",
            "Speed: 3.8ms preprocess, 3095.5ms inference, 5.9ms postprocess per image at shape (1, 3, 384, 640)\n"
          ]
        },
        {
          "name": "stderr",
          "output_type": "stream",
          "text": [
            "\rProcessing  IMG_6790.MOV:   2%|▏         | 307/14172 [18:51<13:22:16,  3.47s/it]"
          ]
        },
        {
          "name": "stdout",
          "output_type": "stream",
          "text": [
            "\n",
            "0: 384x640 2 persons, 4875.7ms\n",
            "Speed: 8.0ms preprocess, 4875.7ms inference, 5.8ms postprocess per image at shape (1, 3, 384, 640)\n"
          ]
        },
        {
          "name": "stderr",
          "output_type": "stream",
          "text": [
            "\rProcessing  IMG_6790.MOV:   2%|▏         | 308/14172 [18:57<15:10:40,  3.94s/it]"
          ]
        },
        {
          "name": "stdout",
          "output_type": "stream",
          "text": [
            "\n",
            "0: 384x640 2 persons, 3091.0ms\n",
            "Speed: 3.7ms preprocess, 3091.0ms inference, 5.8ms postprocess per image at shape (1, 3, 384, 640)\n"
          ]
        },
        {
          "name": "stderr",
          "output_type": "stream",
          "text": [
            "\rProcessing  IMG_6790.MOV:   2%|▏         | 309/14172 [19:00<14:19:19,  3.72s/it]"
          ]
        },
        {
          "name": "stdout",
          "output_type": "stream",
          "text": [
            "\n",
            "0: 384x640 2 persons, 3079.2ms\n",
            "Speed: 4.4ms preprocess, 3079.2ms inference, 6.4ms postprocess per image at shape (1, 3, 384, 640)\n"
          ]
        },
        {
          "name": "stderr",
          "output_type": "stream",
          "text": [
            "\rProcessing  IMG_6790.MOV:   2%|▏         | 310/14172 [19:03<13:43:26,  3.56s/it]"
          ]
        },
        {
          "name": "stdout",
          "output_type": "stream",
          "text": [
            "\n",
            "0: 384x640 2 persons, 3110.6ms\n",
            "Speed: 4.0ms preprocess, 3110.6ms inference, 5.9ms postprocess per image at shape (1, 3, 384, 640)\n"
          ]
        },
        {
          "name": "stderr",
          "output_type": "stream",
          "text": [
            "\rProcessing  IMG_6790.MOV:   2%|▏         | 311/14172 [19:06<13:20:03,  3.46s/it]"
          ]
        },
        {
          "name": "stdout",
          "output_type": "stream",
          "text": [
            "\n",
            "0: 384x640 2 persons, 4953.0ms\n",
            "Speed: 3.9ms preprocess, 4953.0ms inference, 5.8ms postprocess per image at shape (1, 3, 384, 640)\n"
          ]
        },
        {
          "name": "stderr",
          "output_type": "stream",
          "text": [
            "\rProcessing  IMG_6790.MOV:   2%|▏         | 312/14172 [19:11<15:13:24,  3.95s/it]"
          ]
        },
        {
          "name": "stdout",
          "output_type": "stream",
          "text": [
            "\n",
            "0: 384x640 2 persons, 3098.3ms\n",
            "Speed: 5.5ms preprocess, 3098.3ms inference, 5.8ms postprocess per image at shape (1, 3, 384, 640)\n"
          ]
        },
        {
          "name": "stderr",
          "output_type": "stream",
          "text": [
            "\rProcessing  IMG_6790.MOV:   2%|▏         | 313/14172 [19:14<14:22:05,  3.73s/it]"
          ]
        },
        {
          "name": "stdout",
          "output_type": "stream",
          "text": [
            "\n",
            "0: 384x640 2 persons, 3087.7ms\n",
            "Speed: 6.4ms preprocess, 3087.7ms inference, 6.1ms postprocess per image at shape (1, 3, 384, 640)\n"
          ]
        },
        {
          "name": "stderr",
          "output_type": "stream",
          "text": [
            "\rProcessing  IMG_6790.MOV:   2%|▏         | 314/14172 [19:18<13:45:26,  3.57s/it]"
          ]
        },
        {
          "name": "stdout",
          "output_type": "stream",
          "text": [
            "\n",
            "0: 384x640 2 persons, 3099.9ms\n",
            "Speed: 6.1ms preprocess, 3099.9ms inference, 5.9ms postprocess per image at shape (1, 3, 384, 640)\n"
          ]
        },
        {
          "name": "stderr",
          "output_type": "stream",
          "text": [
            "\rProcessing  IMG_6790.MOV:   2%|▏         | 315/14172 [19:21<13:23:33,  3.48s/it]"
          ]
        },
        {
          "name": "stdout",
          "output_type": "stream",
          "text": [
            "\n",
            "0: 384x640 2 persons, 4911.5ms\n",
            "Speed: 5.3ms preprocess, 4911.5ms inference, 6.3ms postprocess per image at shape (1, 3, 384, 640)\n"
          ]
        },
        {
          "name": "stderr",
          "output_type": "stream",
          "text": [
            "\rProcessing  IMG_6790.MOV:   2%|▏         | 316/14172 [19:26<15:10:45,  3.94s/it]"
          ]
        },
        {
          "name": "stdout",
          "output_type": "stream",
          "text": [
            "\n",
            "0: 384x640 2 persons, 3095.3ms\n",
            "Speed: 4.0ms preprocess, 3095.3ms inference, 5.9ms postprocess per image at shape (1, 3, 384, 640)\n"
          ]
        },
        {
          "name": "stderr",
          "output_type": "stream",
          "text": [
            "\rProcessing  IMG_6790.MOV:   2%|▏         | 317/14172 [19:29<14:19:34,  3.72s/it]"
          ]
        },
        {
          "name": "stdout",
          "output_type": "stream",
          "text": [
            "\n",
            "0: 384x640 2 persons, 3090.9ms\n",
            "Speed: 5.1ms preprocess, 3090.9ms inference, 6.6ms postprocess per image at shape (1, 3, 384, 640)\n"
          ]
        },
        {
          "name": "stderr",
          "output_type": "stream",
          "text": [
            "\rProcessing  IMG_6790.MOV:   2%|▏         | 318/14172 [19:32<13:44:24,  3.57s/it]"
          ]
        },
        {
          "name": "stdout",
          "output_type": "stream",
          "text": [
            "\n",
            "0: 384x640 2 persons, 3099.0ms\n",
            "Speed: 4.2ms preprocess, 3099.0ms inference, 5.7ms postprocess per image at shape (1, 3, 384, 640)\n"
          ]
        },
        {
          "name": "stderr",
          "output_type": "stream",
          "text": [
            "\rProcessing  IMG_6790.MOV:   2%|▏         | 319/14172 [19:36<13:19:32,  3.46s/it]"
          ]
        },
        {
          "name": "stdout",
          "output_type": "stream",
          "text": [
            "\n",
            "0: 384x640 1 person, 4974.6ms\n",
            "Speed: 4.8ms preprocess, 4974.6ms inference, 3.8ms postprocess per image at shape (1, 3, 384, 640)\n"
          ]
        },
        {
          "name": "stderr",
          "output_type": "stream",
          "text": [
            "\rProcessing  IMG_6790.MOV:   2%|▏         | 320/14172 [19:41<15:11:28,  3.95s/it]"
          ]
        },
        {
          "name": "stdout",
          "output_type": "stream",
          "text": [
            "\n",
            "0: 384x640 1 person, 3090.1ms\n",
            "Speed: 4.2ms preprocess, 3090.1ms inference, 3.9ms postprocess per image at shape (1, 3, 384, 640)\n"
          ]
        },
        {
          "name": "stderr",
          "output_type": "stream",
          "text": [
            "\rProcessing  IMG_6790.MOV:   2%|▏         | 321/14172 [19:44<14:20:47,  3.73s/it]"
          ]
        },
        {
          "name": "stdout",
          "output_type": "stream",
          "text": [
            "\n",
            "0: 384x640 1 person, 3098.2ms\n",
            "Speed: 3.7ms preprocess, 3098.2ms inference, 3.6ms postprocess per image at shape (1, 3, 384, 640)\n"
          ]
        },
        {
          "name": "stderr",
          "output_type": "stream",
          "text": [
            "\rProcessing  IMG_6790.MOV:   2%|▏         | 322/14172 [19:47<13:44:24,  3.57s/it]"
          ]
        },
        {
          "name": "stdout",
          "output_type": "stream",
          "text": [
            "\n",
            "0: 384x640 1 person, 3102.9ms\n",
            "Speed: 3.7ms preprocess, 3102.9ms inference, 3.6ms postprocess per image at shape (1, 3, 384, 640)\n"
          ]
        },
        {
          "name": "stderr",
          "output_type": "stream",
          "text": [
            "\rProcessing  IMG_6790.MOV:   2%|▏         | 323/14172 [19:50<13:19:28,  3.46s/it]"
          ]
        },
        {
          "name": "stdout",
          "output_type": "stream",
          "text": [
            "\n",
            "0: 384x640 2 persons, 4906.8ms\n",
            "Speed: 3.6ms preprocess, 4906.8ms inference, 9.2ms postprocess per image at shape (1, 3, 384, 640)\n"
          ]
        },
        {
          "name": "stderr",
          "output_type": "stream",
          "text": [
            "\rProcessing  IMG_6790.MOV:   2%|▏         | 324/14172 [19:55<15:07:57,  3.93s/it]"
          ]
        },
        {
          "name": "stdout",
          "output_type": "stream",
          "text": [
            "\n",
            "0: 384x640 2 persons, 3116.5ms\n",
            "Speed: 4.5ms preprocess, 3116.5ms inference, 5.8ms postprocess per image at shape (1, 3, 384, 640)\n"
          ]
        },
        {
          "name": "stderr",
          "output_type": "stream",
          "text": [
            "\rProcessing  IMG_6790.MOV:   2%|▏         | 325/14172 [19:59<14:19:40,  3.73s/it]"
          ]
        },
        {
          "name": "stdout",
          "output_type": "stream",
          "text": [
            "\n",
            "0: 384x640 2 persons, 3094.6ms\n",
            "Speed: 5.5ms preprocess, 3094.6ms inference, 5.8ms postprocess per image at shape (1, 3, 384, 640)\n"
          ]
        },
        {
          "name": "stderr",
          "output_type": "stream",
          "text": [
            "\rProcessing  IMG_6790.MOV:   2%|▏         | 326/14172 [20:02<13:43:18,  3.57s/it]"
          ]
        },
        {
          "name": "stdout",
          "output_type": "stream",
          "text": [
            "\n",
            "0: 384x640 1 person, 3108.0ms\n",
            "Speed: 5.1ms preprocess, 3108.0ms inference, 3.5ms postprocess per image at shape (1, 3, 384, 640)\n"
          ]
        },
        {
          "name": "stderr",
          "output_type": "stream",
          "text": [
            "\rProcessing  IMG_6790.MOV:   2%|▏         | 327/14172 [20:05<13:18:41,  3.46s/it]"
          ]
        },
        {
          "name": "stdout",
          "output_type": "stream",
          "text": [
            "\n",
            "0: 384x640 1 person, 4900.8ms\n",
            "Speed: 6.3ms preprocess, 4900.8ms inference, 5.7ms postprocess per image at shape (1, 3, 384, 640)\n"
          ]
        },
        {
          "name": "stderr",
          "output_type": "stream",
          "text": [
            "\rProcessing  IMG_6790.MOV:   2%|▏         | 328/14172 [20:10<15:06:08,  3.93s/it]"
          ]
        },
        {
          "name": "stdout",
          "output_type": "stream",
          "text": [
            "\n",
            "0: 384x640 2 persons, 3092.4ms\n",
            "Speed: 5.4ms preprocess, 3092.4ms inference, 5.9ms postprocess per image at shape (1, 3, 384, 640)\n"
          ]
        },
        {
          "name": "stderr",
          "output_type": "stream",
          "text": [
            "\rProcessing  IMG_6790.MOV:   2%|▏         | 329/14172 [20:13<14:17:58,  3.72s/it]"
          ]
        },
        {
          "name": "stdout",
          "output_type": "stream",
          "text": [
            "\n",
            "0: 384x640 2 persons, 3098.8ms\n",
            "Speed: 4.1ms preprocess, 3098.8ms inference, 5.8ms postprocess per image at shape (1, 3, 384, 640)\n"
          ]
        },
        {
          "name": "stderr",
          "output_type": "stream",
          "text": [
            "\rProcessing  IMG_6790.MOV:   2%|▏         | 330/14172 [20:16<13:42:56,  3.57s/it]"
          ]
        },
        {
          "name": "stdout",
          "output_type": "stream",
          "text": [
            "\n",
            "0: 384x640 2 persons, 3112.4ms\n",
            "Speed: 3.7ms preprocess, 3112.4ms inference, 5.9ms postprocess per image at shape (1, 3, 384, 640)\n"
          ]
        },
        {
          "name": "stderr",
          "output_type": "stream",
          "text": [
            "\rProcessing  IMG_6790.MOV:   2%|▏         | 331/14172 [20:20<13:19:32,  3.47s/it]"
          ]
        },
        {
          "name": "stdout",
          "output_type": "stream",
          "text": [
            "\n",
            "0: 384x640 2 persons, 4851.1ms\n",
            "Speed: 3.9ms preprocess, 4851.1ms inference, 9.9ms postprocess per image at shape (1, 3, 384, 640)\n"
          ]
        },
        {
          "name": "stderr",
          "output_type": "stream",
          "text": [
            "\rProcessing  IMG_6790.MOV:   2%|▏         | 332/14172 [20:25<15:03:14,  3.92s/it]"
          ]
        },
        {
          "name": "stdout",
          "output_type": "stream",
          "text": [
            "\n",
            "0: 384x640 2 persons, 3151.1ms\n",
            "Speed: 3.9ms preprocess, 3151.1ms inference, 5.8ms postprocess per image at shape (1, 3, 384, 640)\n"
          ]
        },
        {
          "name": "stderr",
          "output_type": "stream",
          "text": [
            "\rProcessing  IMG_6790.MOV:   2%|▏         | 333/14172 [20:28<14:21:27,  3.73s/it]"
          ]
        },
        {
          "name": "stdout",
          "output_type": "stream",
          "text": [
            "\n",
            "0: 384x640 2 persons, 3093.4ms\n",
            "Speed: 3.8ms preprocess, 3093.4ms inference, 5.8ms postprocess per image at shape (1, 3, 384, 640)\n"
          ]
        },
        {
          "name": "stderr",
          "output_type": "stream",
          "text": [
            "\rProcessing  IMG_6790.MOV:   2%|▏         | 334/14172 [20:31<13:44:32,  3.58s/it]"
          ]
        },
        {
          "name": "stdout",
          "output_type": "stream",
          "text": [
            "\n",
            "0: 384x640 2 persons, 3099.6ms\n",
            "Speed: 4.0ms preprocess, 3099.6ms inference, 6.0ms postprocess per image at shape (1, 3, 384, 640)\n"
          ]
        },
        {
          "name": "stderr",
          "output_type": "stream",
          "text": [
            "\rProcessing  IMG_6790.MOV:   2%|▏         | 335/14172 [20:34<13:19:23,  3.47s/it]"
          ]
        },
        {
          "name": "stdout",
          "output_type": "stream",
          "text": [
            "\n",
            "0: 384x640 2 persons, 4770.1ms\n",
            "Speed: 5.1ms preprocess, 4770.1ms inference, 9.0ms postprocess per image at shape (1, 3, 384, 640)\n"
          ]
        },
        {
          "name": "stderr",
          "output_type": "stream",
          "text": [
            "\rProcessing  IMG_6790.MOV:   2%|▏         | 336/14172 [20:39<14:57:24,  3.89s/it]"
          ]
        },
        {
          "name": "stdout",
          "output_type": "stream",
          "text": [
            "\n",
            "0: 384x640 2 persons, 3257.7ms\n",
            "Speed: 4.0ms preprocess, 3257.7ms inference, 5.8ms postprocess per image at shape (1, 3, 384, 640)\n"
          ]
        },
        {
          "name": "stderr",
          "output_type": "stream",
          "text": [
            "\rProcessing  IMG_6790.MOV:   2%|▏         | 337/14172 [20:43<14:24:06,  3.75s/it]"
          ]
        },
        {
          "name": "stdout",
          "output_type": "stream",
          "text": [
            "\n",
            "0: 384x640 2 persons, 3099.4ms\n",
            "Speed: 6.5ms preprocess, 3099.4ms inference, 5.9ms postprocess per image at shape (1, 3, 384, 640)\n"
          ]
        },
        {
          "name": "stderr",
          "output_type": "stream",
          "text": [
            "\rProcessing  IMG_6790.MOV:   2%|▏         | 338/14172 [20:46<13:47:02,  3.59s/it]"
          ]
        },
        {
          "name": "stdout",
          "output_type": "stream",
          "text": [
            "\n",
            "0: 384x640 2 persons, 3105.1ms\n",
            "Speed: 5.3ms preprocess, 3105.1ms inference, 8.0ms postprocess per image at shape (1, 3, 384, 640)\n"
          ]
        },
        {
          "name": "stderr",
          "output_type": "stream",
          "text": [
            "\rProcessing  IMG_6790.MOV:   2%|▏         | 339/14172 [20:49<13:21:39,  3.48s/it]"
          ]
        },
        {
          "name": "stdout",
          "output_type": "stream",
          "text": [
            "\n",
            "0: 384x640 2 persons, 4609.5ms\n",
            "Speed: 4.8ms preprocess, 4609.5ms inference, 9.0ms postprocess per image at shape (1, 3, 384, 640)\n"
          ]
        },
        {
          "name": "stderr",
          "output_type": "stream",
          "text": [
            "\rProcessing  IMG_6790.MOV:   2%|▏         | 340/14172 [20:54<14:48:19,  3.85s/it]"
          ]
        },
        {
          "name": "stdout",
          "output_type": "stream",
          "text": [
            "\n",
            "0: 384x640 2 persons, 3217.3ms\n",
            "Speed: 4.0ms preprocess, 3217.3ms inference, 5.8ms postprocess per image at shape (1, 3, 384, 640)\n"
          ]
        },
        {
          "name": "stderr",
          "output_type": "stream",
          "text": [
            "\rProcessing  IMG_6790.MOV:   2%|▏         | 341/14172 [20:57<14:15:41,  3.71s/it]"
          ]
        },
        {
          "name": "stdout",
          "output_type": "stream",
          "text": [
            "\n",
            "0: 384x640 2 persons, 3101.7ms\n",
            "Speed: 5.4ms preprocess, 3101.7ms inference, 5.9ms postprocess per image at shape (1, 3, 384, 640)\n"
          ]
        },
        {
          "name": "stderr",
          "output_type": "stream",
          "text": [
            "\rProcessing  IMG_6790.MOV:   2%|▏         | 342/14172 [21:00<13:41:03,  3.56s/it]"
          ]
        },
        {
          "name": "stdout",
          "output_type": "stream",
          "text": [
            "\n",
            "0: 384x640 2 persons, 3088.7ms\n",
            "Speed: 5.4ms preprocess, 3088.7ms inference, 5.8ms postprocess per image at shape (1, 3, 384, 640)\n"
          ]
        },
        {
          "name": "stderr",
          "output_type": "stream",
          "text": [
            "\rProcessing  IMG_6790.MOV:   2%|▏         | 343/14172 [21:04<13:15:55,  3.45s/it]"
          ]
        },
        {
          "name": "stdout",
          "output_type": "stream",
          "text": [
            "\n",
            "0: 384x640 2 persons, 4696.8ms\n",
            "Speed: 4.4ms preprocess, 4696.8ms inference, 9.2ms postprocess per image at shape (1, 3, 384, 640)\n"
          ]
        },
        {
          "name": "stderr",
          "output_type": "stream",
          "text": [
            "\rProcessing  IMG_6790.MOV:   2%|▏         | 344/14172 [21:08<14:50:20,  3.86s/it]"
          ]
        },
        {
          "name": "stdout",
          "output_type": "stream",
          "text": [
            "\n",
            "0: 384x640 2 persons, 3319.9ms\n",
            "Speed: 4.2ms preprocess, 3319.9ms inference, 5.9ms postprocess per image at shape (1, 3, 384, 640)\n"
          ]
        },
        {
          "name": "stderr",
          "output_type": "stream",
          "text": [
            "\rProcessing  IMG_6790.MOV:   2%|▏         | 345/14172 [21:12<14:23:37,  3.75s/it]"
          ]
        },
        {
          "name": "stdout",
          "output_type": "stream",
          "text": [
            "\n",
            "0: 384x640 2 persons, 3121.4ms\n",
            "Speed: 5.4ms preprocess, 3121.4ms inference, 5.8ms postprocess per image at shape (1, 3, 384, 640)\n"
          ]
        },
        {
          "name": "stderr",
          "output_type": "stream",
          "text": [
            "\rProcessing  IMG_6790.MOV:   2%|▏         | 346/14172 [21:15<13:48:06,  3.59s/it]"
          ]
        },
        {
          "name": "stdout",
          "output_type": "stream",
          "text": [
            "\n",
            "0: 384x640 2 persons, 3080.9ms\n",
            "Speed: 4.4ms preprocess, 3080.9ms inference, 5.8ms postprocess per image at shape (1, 3, 384, 640)\n"
          ]
        },
        {
          "name": "stderr",
          "output_type": "stream",
          "text": [
            "\rProcessing  IMG_6790.MOV:   2%|▏         | 347/14172 [21:18<13:20:28,  3.47s/it]"
          ]
        },
        {
          "name": "stdout",
          "output_type": "stream",
          "text": [
            "\n",
            "0: 384x640 2 persons, 4586.7ms\n",
            "Speed: 3.8ms preprocess, 4586.7ms inference, 9.6ms postprocess per image at shape (1, 3, 384, 640)\n"
          ]
        },
        {
          "name": "stderr",
          "output_type": "stream",
          "text": [
            "\rProcessing  IMG_6790.MOV:   2%|▏         | 348/14172 [21:23<14:45:05,  3.84s/it]"
          ]
        },
        {
          "name": "stdout",
          "output_type": "stream",
          "text": [
            "\n",
            "0: 384x640 1 person, 3460.0ms\n",
            "Speed: 6.9ms preprocess, 3460.0ms inference, 3.5ms postprocess per image at shape (1, 3, 384, 640)\n"
          ]
        },
        {
          "name": "stderr",
          "output_type": "stream",
          "text": [
            "\rProcessing  IMG_6790.MOV:   2%|▏         | 349/14172 [21:27<14:28:26,  3.77s/it]"
          ]
        },
        {
          "name": "stdout",
          "output_type": "stream",
          "text": [
            "\n",
            "0: 384x640 2 persons, 3077.1ms\n",
            "Speed: 4.4ms preprocess, 3077.1ms inference, 6.0ms postprocess per image at shape (1, 3, 384, 640)\n"
          ]
        },
        {
          "name": "stderr",
          "output_type": "stream",
          "text": [
            "\rProcessing  IMG_6790.MOV:   2%|▏         | 350/14172 [21:30<13:48:15,  3.60s/it]"
          ]
        },
        {
          "name": "stdout",
          "output_type": "stream",
          "text": [
            "\n",
            "0: 384x640 1 person, 3086.0ms\n",
            "Speed: 4.4ms preprocess, 3086.0ms inference, 3.9ms postprocess per image at shape (1, 3, 384, 640)\n"
          ]
        },
        {
          "name": "stderr",
          "output_type": "stream",
          "text": [
            "\rProcessing  IMG_6790.MOV:   2%|▏         | 351/14172 [21:33<13:20:09,  3.47s/it]"
          ]
        },
        {
          "name": "stdout",
          "output_type": "stream",
          "text": [
            "\n",
            "0: 384x640 2 persons, 4297.0ms\n",
            "Speed: 6.0ms preprocess, 4297.0ms inference, 9.1ms postprocess per image at shape (1, 3, 384, 640)\n"
          ]
        },
        {
          "name": "stderr",
          "output_type": "stream",
          "text": [
            "\rProcessing  IMG_6790.MOV:   2%|▏         | 352/14172 [21:37<14:25:42,  3.76s/it]"
          ]
        },
        {
          "name": "stdout",
          "output_type": "stream",
          "text": [
            "\n",
            "0: 384x640 2 persons, 3765.9ms\n",
            "Speed: 3.7ms preprocess, 3765.9ms inference, 5.8ms postprocess per image at shape (1, 3, 384, 640)\n"
          ]
        },
        {
          "name": "stderr",
          "output_type": "stream",
          "text": [
            "\rProcessing  IMG_6790.MOV:   2%|▏         | 353/14172 [21:41<14:34:32,  3.80s/it]"
          ]
        },
        {
          "name": "stdout",
          "output_type": "stream",
          "text": [
            "\n",
            "0: 384x640 2 persons, 3103.4ms\n",
            "Speed: 4.2ms preprocess, 3103.4ms inference, 5.7ms postprocess per image at shape (1, 3, 384, 640)\n"
          ]
        },
        {
          "name": "stderr",
          "output_type": "stream",
          "text": [
            "\rProcessing  IMG_6790.MOV:   2%|▏         | 354/14172 [21:45<13:54:15,  3.62s/it]"
          ]
        },
        {
          "name": "stdout",
          "output_type": "stream",
          "text": [
            "\n",
            "0: 384x640 2 persons, 3107.5ms\n",
            "Speed: 8.3ms preprocess, 3107.5ms inference, 5.9ms postprocess per image at shape (1, 3, 384, 640)\n"
          ]
        },
        {
          "name": "stderr",
          "output_type": "stream",
          "text": [
            "\rProcessing  IMG_6790.MOV:   3%|▎         | 355/14172 [21:48<13:26:23,  3.50s/it]"
          ]
        },
        {
          "name": "stdout",
          "output_type": "stream",
          "text": [
            "\n",
            "0: 384x640 1 person, 4092.7ms\n",
            "Speed: 4.4ms preprocess, 4092.7ms inference, 5.9ms postprocess per image at shape (1, 3, 384, 640)\n"
          ]
        },
        {
          "name": "stderr",
          "output_type": "stream",
          "text": [
            "\rProcessing  IMG_6790.MOV:   3%|▎         | 356/14172 [21:52<14:15:04,  3.71s/it]"
          ]
        },
        {
          "name": "stdout",
          "output_type": "stream",
          "text": [
            "\n",
            "0: 384x640 1 person, 3888.5ms\n",
            "Speed: 5.2ms preprocess, 3888.5ms inference, 3.7ms postprocess per image at shape (1, 3, 384, 640)\n"
          ]
        },
        {
          "name": "stderr",
          "output_type": "stream",
          "text": [
            "\rProcessing  IMG_6790.MOV:   3%|▎         | 357/14172 [21:56<14:37:09,  3.81s/it]"
          ]
        },
        {
          "name": "stdout",
          "output_type": "stream",
          "text": [
            "\n",
            "0: 384x640 1 person, 3093.6ms\n",
            "Speed: 4.4ms preprocess, 3093.6ms inference, 3.6ms postprocess per image at shape (1, 3, 384, 640)\n"
          ]
        },
        {
          "name": "stderr",
          "output_type": "stream",
          "text": [
            "\rProcessing  IMG_6790.MOV:   3%|▎         | 358/14172 [21:59<13:55:17,  3.63s/it]"
          ]
        },
        {
          "name": "stdout",
          "output_type": "stream",
          "text": [
            "\n",
            "0: 384x640 1 person, 3100.7ms\n",
            "Speed: 5.9ms preprocess, 3100.7ms inference, 4.3ms postprocess per image at shape (1, 3, 384, 640)\n"
          ]
        },
        {
          "name": "stderr",
          "output_type": "stream",
          "text": [
            "\rProcessing  IMG_6790.MOV:   3%|▎         | 359/14172 [22:02<13:27:23,  3.51s/it]"
          ]
        },
        {
          "name": "stdout",
          "output_type": "stream",
          "text": [
            "\n",
            "0: 384x640 1 person, 4040.4ms\n",
            "Speed: 5.3ms preprocess, 4040.4ms inference, 6.3ms postprocess per image at shape (1, 3, 384, 640)\n"
          ]
        },
        {
          "name": "stderr",
          "output_type": "stream",
          "text": [
            "\rProcessing  IMG_6790.MOV:   3%|▎         | 360/14172 [22:07<14:11:51,  3.70s/it]"
          ]
        },
        {
          "name": "stdout",
          "output_type": "stream",
          "text": [
            "\n",
            "0: 384x640 1 person, 5099.1ms\n",
            "Speed: 4.4ms preprocess, 5099.1ms inference, 5.6ms postprocess per image at shape (1, 3, 384, 640)\n"
          ]
        },
        {
          "name": "stderr",
          "output_type": "stream",
          "text": [
            "\rProcessing  IMG_6790.MOV:   3%|▎         | 361/14172 [22:12<15:57:59,  4.16s/it]"
          ]
        },
        {
          "name": "stdout",
          "output_type": "stream",
          "text": [
            "\n"
          ]
        }
      ],
      "source": [
        "import os\n",
        "import cv2\n",
        "import numpy as np\n",
        "import mediapipe as mp\n",
        "from mediapipe.tasks import python\n",
        "from mediapipe.tasks.python import vision\n",
        "from mediapipe.framework.formats import landmark_pb2\n",
        "from ultralytics import YOLO\n",
        "from ultralytics.utils.ops import scale_image\n",
        "from tqdm import tqdm  # For displaying progress bar\n",
        "\n",
        "# Import the necessary base options\n",
        "BaseOptions = mp.tasks.BaseOptions\n",
        "HandLandmarker = mp.tasks.vision.HandLandmarker\n",
        "HandLandmarkerOptions = mp.tasks.vision.HandLandmarkerOptions\n",
        "VisionRunningMode = mp.tasks.vision.RunningMode\n",
        "\n",
        "# HandDetector and NeedleDriverDetector classes defined here (same as in your code)\n",
        "\n",
        "class Detector:\n",
        "    def __init__(self, hand_model_path, needle_driver_model_path):\n",
        "        self.hand_model_path = hand_model_path\n",
        "        self.needle_driver_model_path = needle_driver_model_path\n",
        "\n",
        "    def detect_and_draw(self, video_path, save_path=None):\n",
        "        hand_detector = HandDetector(model_path=self.hand_model_path)\n",
        "        needle_driver_detector = NeedleDriverDetector(model_path=self.needle_driver_model_path)\n",
        "\n",
        "        capture = cv2.VideoCapture(video_path)\n",
        "        frame_count = int(capture.get(cv2.CAP_PROP_FRAME_COUNT))\n",
        "        frame_number = 0\n",
        "\n",
        "        with tqdm(total=frame_count, desc=f\"Processing {os.path.basename(video_path)}\") as pbar:\n",
        "            while capture.isOpened():\n",
        "                ret, frame = capture.read()\n",
        "                if not ret:\n",
        "                    break\n",
        "\n",
        "                rgb_frame = cv2.cvtColor(frame, cv2.COLOR_BGR2RGB)\n",
        "\n",
        "                # Create MediaPipe Image from numpy array\n",
        "                mp_image = mp.Image(image_format=mp.ImageFormat.SRGB, data=rgb_frame)\n",
        "                timestamp_ms = int(capture.get(cv2.CAP_PROP_POS_MSEC))\n",
        "\n",
        "                # Hand detection with video mode\n",
        "                hand_results = hand_detector.landmarker.detect_for_video(mp_image, timestamp_ms)\n",
        "                img_hand = hand_detector.draw_result_on_image(rgb_frame, hand_results)\n",
        "\n",
        "                # Needle driver detection\n",
        "                boxes, masks, _, _ = needle_driver_detector.predict_on_image(rgb_frame)\n",
        "\n",
        "                # Only draw and save if scissors are detected\n",
        "                if len(boxes) > 0:\n",
        "                    annotated_frame = needle_driver_detector.draw_result_on_image(img_hand, masks, (0, 255, 0), 0.5)\n",
        "\n",
        "                    if save_path:\n",
        "                        if not os.path.exists(save_path):\n",
        "                            os.makedirs(save_path)\n",
        "                        cv2.imwrite(os.path.join(save_path, f\"{frame_number}.jpg\"), cv2.cvtColor(annotated_frame, cv2.COLOR_RGB2BGR))\n",
        "\n",
        "                frame_number += 1\n",
        "                pbar.update(1)  # Update the progress bar\n",
        "\n",
        "        capture.release()\n",
        "\n",
        "    def process_videos_in_directory(self, directory, save_directory):\n",
        "        # Automatically gather all video files in the directory\n",
        "        video_files = [f for f in os.listdir(directory) if f.lower().endswith(('.mov', '.mp4', '.avi'))]\n",
        "\n",
        "        for video_name in video_files:\n",
        "            video_path = os.path.join(directory, video_name)\n",
        "            save_path = os.path.join(save_directory, os.path.splitext(video_name)[0])\n",
        "\n",
        "            # Check if the save path already exists\n",
        "            if os.path.exists(save_path):\n",
        "                print(f\"Skipping {video_name} as it has already been processed.\")\n",
        "                continue\n",
        "\n",
        "            print(f\"Processing video: {video_name}\")\n",
        "            self.detect_and_draw(video_path, save_path=save_path)\n",
        "            print(f\"Finished processing video: {video_name}\")\n",
        "\n",
        "# Example usage\n",
        "directory = '/content/drive/MyDrive/AI surgical training'\n",
        "save_directory = os.path.join(directory, 'output')\n",
        "\n",
        "hand_model_path = '/content/drive/MyDrive/AI surgical training/hand_landmarker.task'\n",
        "needle_driver_model_path = '/content/drive/MyDrive/AI surgical training/yolov8x-seg.pt'\n",
        "\n",
        "detector = Detector(hand_model_path, needle_driver_model_path)\n",
        "detector.process_videos_in_directory(directory, save_directory)"
      ]
    }
  ],
  "metadata": {
    "accelerator": "GPU",
    "colab": {
      "gpuType": "T4",
      "provenance": []
    },
    "kernelspec": {
      "display_name": "Python 3",
      "name": "python3"
    },
    "language_info": {
      "name": "python"
    }
  },
  "nbformat": 4,
  "nbformat_minor": 0
}
